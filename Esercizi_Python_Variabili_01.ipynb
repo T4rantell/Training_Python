{
  "nbformat": 4,
  "nbformat_minor": 0,
  "metadata": {
    "colab": {
      "provenance": [],
      "authorship_tag": "ABX9TyM6ynNx7CC91MyLtQ6vkctH",
      "include_colab_link": true
    },
    "kernelspec": {
      "name": "python3",
      "display_name": "Python 3"
    },
    "language_info": {
      "name": "python"
    }
  },
  "cells": [
    {
      "cell_type": "markdown",
      "metadata": {
        "id": "view-in-github",
        "colab_type": "text"
      },
      "source": [
        "<a href=\"https://colab.research.google.com/github/T4rantell/Training_Python/blob/main/Esercizi_Python_Variabili_01.ipynb\" target=\"_parent\"><img src=\"https://colab.research.google.com/assets/colab-badge.svg\" alt=\"Open In Colab\"/></a>"
      ]
    },
    {
      "cell_type": "markdown",
      "source": [
        "# **Training su Python**\n"
      ],
      "metadata": {
        "id": "NLqCTVrYcttq"
      }
    },
    {
      "cell_type": "markdown",
      "source": [
        "\n",
        "**Esercizio 1**\n",
        "\n",
        "Dichiarare una variabile \"nome\" e assegnargli il tuo nome. Mandare a schermo."
      ],
      "metadata": {
        "id": "U02yblUlbVwq"
      }
    },
    {
      "cell_type": "code",
      "execution_count": 3,
      "metadata": {
        "colab": {
          "base_uri": "https://localhost:8080/"
        },
        "id": "ArIIg03PbUUv",
        "outputId": "94f23beb-b5e2-4411-9462-3016b2dc6cef"
      },
      "outputs": [
        {
          "output_type": "stream",
          "name": "stdout",
          "text": [
            "Marco\n"
          ]
        }
      ],
      "source": [
        "name = \"Marco\"\n",
        "print(name)"
      ]
    },
    {
      "cell_type": "markdown",
      "source": [
        "\n",
        "\n",
        "---\n",
        "\n"
      ],
      "metadata": {
        "id": "BiiS2MxedJc9"
      }
    },
    {
      "cell_type": "markdown",
      "source": [
        "**Esercizio 2**\n",
        "\n",
        "Dichiarare una variabile \"eta\" e assegnargli la tua età. Mandare a schermo."
      ],
      "metadata": {
        "id": "J0J8xYQ4cQLM"
      }
    },
    {
      "cell_type": "code",
      "source": [
        "age = \"26\"\n",
        "print(age)"
      ],
      "metadata": {
        "colab": {
          "base_uri": "https://localhost:8080/"
        },
        "id": "wmti6pgIcSfh",
        "outputId": "c5a375c1-5e3d-4b7b-90f8-a930ed909ea1"
      },
      "execution_count": 4,
      "outputs": [
        {
          "output_type": "stream",
          "name": "stdout",
          "text": [
            "26\n"
          ]
        }
      ]
    },
    {
      "cell_type": "markdown",
      "source": [
        "\n",
        "\n",
        "---\n",
        "\n"
      ],
      "metadata": {
        "id": "9_pbnIIJfwZi"
      }
    },
    {
      "cell_type": "markdown",
      "source": [
        "**Esercizio 3**\n",
        "\n",
        "Dichiarare una variabile \"pi\" e assegnargli il valore di pi greco (3,14159). Mandare a schermo."
      ],
      "metadata": {
        "id": "RxqCSfa6eNAx"
      }
    },
    {
      "cell_type": "code",
      "source": [
        "import numpy\n",
        "pi = numpy.pi\n",
        "print(pi)"
      ],
      "metadata": {
        "colab": {
          "base_uri": "https://localhost:8080/"
        },
        "id": "5bZTJEVbeR3c",
        "outputId": "57d6ec39-4657-470c-b534-0ad4e7760ee8"
      },
      "execution_count": 5,
      "outputs": [
        {
          "output_type": "stream",
          "name": "stdout",
          "text": [
            "3.141592653589793\n"
          ]
        }
      ]
    },
    {
      "cell_type": "markdown",
      "source": [
        "\n",
        "\n",
        "---\n",
        "\n"
      ],
      "metadata": {
        "id": "NCmHbSjldWbj"
      }
    },
    {
      "cell_type": "markdown",
      "source": [
        "**Esercizio 4**\n",
        "\n",
        "Creare una variabile \"lunghezza\" e assegnargli un valore, quindi riassegnare la variabile a 15. Mandare a schermo.\n",
        "\n"
      ],
      "metadata": {
        "id": "f0MFAti2f6LN"
      }
    },
    {
      "cell_type": "code",
      "source": [
        "lenght = 27\n",
        "print(lenght)\n",
        "lenght = 15\n",
        "print(lenght)"
      ],
      "metadata": {
        "colab": {
          "base_uri": "https://localhost:8080/"
        },
        "id": "txanbgPnf8Pa",
        "outputId": "d7b4abd6-f7b0-4688-886a-2021aa0fa20f"
      },
      "execution_count": 6,
      "outputs": [
        {
          "output_type": "stream",
          "name": "stdout",
          "text": [
            "27\n",
            "15\n"
          ]
        }
      ]
    },
    {
      "cell_type": "markdown",
      "source": [
        "\n",
        "\n",
        "---\n",
        "\n"
      ],
      "metadata": {
        "id": "mQ1-3g5UgdMW"
      }
    },
    {
      "cell_type": "markdown",
      "source": [
        "**Esercizio 5**\n",
        "\n",
        "Creare una variabile \"nome_completo\" e assegnargli una stringa contenente il tuo nome e cognome. Mandare a schermo"
      ],
      "metadata": {
        "id": "2MrDwNh3geKc"
      }
    },
    {
      "cell_type": "code",
      "source": [
        "nome=\"Marco\"\n",
        "cognome=\"Montella\"\n",
        "nome_completo = nome + \" \" + cognome\n",
        "print(nome_completo)"
      ],
      "metadata": {
        "colab": {
          "base_uri": "https://localhost:8080/"
        },
        "id": "JtiTfAErgfYc",
        "outputId": "fffc9c66-3c50-4a6f-e9e5-62c64d49e3b1"
      },
      "execution_count": 13,
      "outputs": [
        {
          "output_type": "stream",
          "name": "stdout",
          "text": [
            "Marco Montella\n"
          ]
        }
      ]
    },
    {
      "cell_type": "markdown",
      "source": [
        "\n",
        "\n",
        "---\n",
        "\n"
      ],
      "metadata": {
        "id": "VaRmJGbFhtgT"
      }
    },
    {
      "cell_type": "markdown",
      "source": [
        "**Esercizio 6**\n",
        "\n",
        "Creare una variabile \"eta_futura\" e assegnargli il valore dell'età che avrai tra 10 anni (utilizzando la variabile età già esistente). Mandare a schermo."
      ],
      "metadata": {
        "id": "7Fqh2Pcqhr2G"
      }
    },
    {
      "cell_type": "code",
      "source": [
        "age = 26\n",
        "future_age= 26 + 10\n",
        "print(future_age)"
      ],
      "metadata": {
        "colab": {
          "base_uri": "https://localhost:8080/"
        },
        "id": "VdaMG8Jnh1_8",
        "outputId": "a32db4ed-1366-4577-e659-49adc10664a7"
      },
      "execution_count": 15,
      "outputs": [
        {
          "output_type": "stream",
          "name": "stdout",
          "text": [
            "36\n"
          ]
        }
      ]
    },
    {
      "cell_type": "markdown",
      "source": [
        "\n",
        "\n",
        "---\n",
        "\n"
      ],
      "metadata": {
        "id": "6aeASAAAiWui"
      }
    },
    {
      "cell_type": "markdown",
      "source": [
        "**Esercizio 6**\n",
        "\n",
        "Creare delle variabili \"nome\", \"cognome\" ed \"anno_di_nascita\" ed assegnargli i valori. Mandare a schermo in un unico print. Sovrascrivere tutte le variabili e rimandare a schermo una seconda volta.\n",
        "\n"
      ],
      "metadata": {
        "id": "3b112NL9iX17"
      }
    },
    {
      "cell_type": "code",
      "source": [
        "nome=\"Marco\"\n",
        "cognome=\"Montella\"\n",
        "anno_di_nascita=1999\n",
        "print(nome,cognome,anno_di_nascita)\n",
        "print(\"{} {} {}\".format(nome, cognome, anno_di_nascita))\n",
        "nome=\"Mao\"\n",
        "cognome=\"Moa\"\n",
        "anno_di_nascita=1\n",
        "print(nome,cognome,anno_di_nascita)\n",
        "print(\"{} {} {}\".format(nome, cognome, anno_di_nascita))"
      ],
      "metadata": {
        "colab": {
          "base_uri": "https://localhost:8080/"
        },
        "outputId": "eea4b562-bcd9-4c6e-d473-cbb554df9227",
        "id": "D57Siyikisv7"
      },
      "execution_count": 20,
      "outputs": [
        {
          "output_type": "stream",
          "name": "stdout",
          "text": [
            "Marco Montella 1999\n",
            "Marco Montella 1999\n",
            "Mao Moa 1\n",
            "Mao Moa 1\n"
          ]
        }
      ]
    },
    {
      "cell_type": "markdown",
      "source": [
        "**Esercizio 8**\n",
        "\n",
        "Creare una variabile eta_attuale e assegnargli il valore dell'età che hai attualmente, calcolandola in base all'anno corrente. Mandare a schermo eta_attuale\n",
        "\n"
      ],
      "metadata": {
        "id": "2D85C_JZlXUp"
      }
    },
    {
      "cell_type": "code",
      "source": [
        "anno_di_nascita = 1999\n",
        "anno_corrente= 2025\n",
        "print(anno_corrente-anno_di_nascita)"
      ],
      "metadata": {
        "colab": {
          "base_uri": "https://localhost:8080/"
        },
        "id": "Cg99N5_4ldLM",
        "outputId": "40d76061-d46d-4ef5-e12e-7cf39c5f7c8e"
      },
      "execution_count": 21,
      "outputs": [
        {
          "output_type": "stream",
          "name": "stdout",
          "text": [
            "26\n"
          ]
        }
      ]
    }
  ]
}
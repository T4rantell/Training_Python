{
  "nbformat": 4,
  "nbformat_minor": 0,
  "metadata": {
    "colab": {
      "provenance": [],
      "authorship_tag": "ABX9TyNFj+7SfwYcBOPS9W9QiR32",
      "include_colab_link": true
    },
    "kernelspec": {
      "name": "python3",
      "display_name": "Python 3"
    },
    "language_info": {
      "name": "python"
    }
  },
  "cells": [
    {
      "cell_type": "markdown",
      "metadata": {
        "id": "view-in-github",
        "colab_type": "text"
      },
      "source": [
        "<a href=\"https://colab.research.google.com/github/T4rantell/Training_Python/blob/main/Code_Injection_Python_eval().ipynb\" target=\"_parent\"><img src=\"https://colab.research.google.com/assets/colab-badge.svg\" alt=\"Open In Colab\"/></a>"
      ]
    },
    {
      "cell_type": "markdown",
      "source": [
        "## **Code Injection in Python**\n",
        "\n",
        "La funzione \"eval()\" in python è vulnerabile a code injection quando gli input dell'utente non vengono sanificati. Abbiamo qui un esempio."
      ],
      "metadata": {
        "id": "c7xJOfymrk4M"
      }
    },
    {
      "cell_type": "code",
      "source": [
        "\n",
        "import os\n",
        "\n",
        "files = os.listdir(\".\")  # \".\" indica la directory corrente\n",
        "print(\"Questi sono i file contenuti nella tua working directory:\", files)\n",
        "\n",
        "espressione = \"2*2\"  # Questa viene utilizzata come esempio per mostrare il corretto funzionamento di \"eval()\"\n",
        "result= eval(espressione)\n",
        "print(\"Questo è il risultato dell'eval() sulla nostra espressione di riferimento 2*2: \", result)\n",
        "\n",
        "espressione2 = input(\"Enter expression: \") # Qui possiamo provare la nostra code injection con \"__import__('os').system('rm test.txt')\"\n",
        "result2 = eval(espressione2)\n",
        "print(\"Questo è il risultato dell'eval() sulla espressione inserita dall'utente: \", result2)  # \"0\" quando la Code Injection riesce\n",
        "\n",
        "\n",
        "files = os.listdir(\".\")  # \".\" indica la directory corrente\n",
        "print(\"Questi sono i file contenuti nella tua working directory dopo l'esecuzione:\", files)\n"
      ],
      "metadata": {
        "id": "Xp7VMIOgpcpn"
      },
      "execution_count": null,
      "outputs": []
    }
  ]
}
{
  "nbformat": 4,
  "nbformat_minor": 0,
  "metadata": {
    "colab": {
      "provenance": [],
      "authorship_tag": "ABX9TyPkquBtwMD7Wt6pZVLjGBtE",
      "include_colab_link": true
    },
    "kernelspec": {
      "name": "python3",
      "display_name": "Python 3"
    },
    "language_info": {
      "name": "python"
    }
  },
  "cells": [
    {
      "cell_type": "markdown",
      "metadata": {
        "id": "view-in-github",
        "colab_type": "text"
      },
      "source": [
        "<a href=\"https://colab.research.google.com/github/T4rantell/Training_Python/blob/main/Code_Injection_Python_eval().ipynb\" target=\"_parent\"><img src=\"https://colab.research.google.com/assets/colab-badge.svg\" alt=\"Open In Colab\"/></a>"
      ]
    },
    {
      "cell_type": "markdown",
      "source": [
        "## **Code Injection in Python**\n",
        "\n",
        "La funzione \"eval()\" in python è vulnerabile a code injection quando gli input dell'utente non vengono sanificati. Abbiamo qui un esempio."
      ],
      "metadata": {
        "id": "c7xJOfymrk4M"
      }
    },
    {
      "cell_type": "code",
      "source": [
        "\n",
        "import os\n",
        "\n",
        "files = os.listdir(\".\")  # \".\" indica la directory corrente\n",
        "print(\"Questi sono i file contenuti nella tua working directory:\", files)\n",
        "\n",
        "espressione = \"2*2\"  # Questa viene utilizzata come esempio per mostrare il corretto funzionamento di \"eval()\"\n",
        "result= eval(espressione)\n",
        "print(\"Questo è il risultato dell'eval() sulla nostra espressione di riferimento 2*2: \", result)\n",
        "\n",
        "espressione2 = input(\"Enter expression: \") # Qui possiamo provare la nostra code injection con \"__import__('os').system('rm test.txt')\"\n",
        "result2 = eval(espressione2)\n",
        "print(\"Questo è il risultato dell'eval() sulla espressione inserita dall'utente: \", result2)  # \"0\" quando la Code Injection riesce\n",
        "\n",
        "\n",
        "files = os.listdir(\".\")  # \".\" indica la directory corrente\n",
        "print(\"Questi sono i file contenuti nella tua working directory dopo l'esecuzione:\", files)\n"
      ],
      "metadata": {
        "id": "Xp7VMIOgpcpn",
        "collapsed": true
      },
      "execution_count": null,
      "outputs": []
    },
    {
      "cell_type": "markdown",
      "source": [
        "![Cattura.PNG](data:image/png;base64,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)"
      ],
      "metadata": {
        "id": "4Z4XW9wzN6W3"
      }
    }
  ]
}
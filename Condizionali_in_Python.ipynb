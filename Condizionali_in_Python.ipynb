{
  "nbformat": 4,
  "nbformat_minor": 0,
  "metadata": {
    "colab": {
      "provenance": [],
      "authorship_tag": "ABX9TyMYqDttNfU2LSxFhIYK2nm1",
      "include_colab_link": true
    },
    "kernelspec": {
      "name": "python3",
      "display_name": "Python 3"
    },
    "language_info": {
      "name": "python"
    }
  },
  "cells": [
    {
      "cell_type": "markdown",
      "metadata": {
        "id": "view-in-github",
        "colab_type": "text"
      },
      "source": [
        "<a href=\"https://colab.research.google.com/github/T4rantell/Training_Python/blob/main/Condizionali_in_Python.ipynb\" target=\"_parent\"><img src=\"https://colab.research.google.com/assets/colab-badge.svg\" alt=\"Open In Colab\"/></a>"
      ]
    },
    {
      "cell_type": "markdown",
      "source": [
        "**Esercizio 1**\n",
        "\n",
        "Scrivere un programma che chiede all'utente di inserire un numero e stampa \"Il numero è positivo\" se il numero è maggiore di zero, altrimenti stampa \"Il numero è negativo\""
      ],
      "metadata": {
        "id": "rw0arM09ULff"
      }
    },
    {
      "cell_type": "code",
      "execution_count": 2,
      "metadata": {
        "colab": {
          "base_uri": "https://localhost:8080/"
        },
        "id": "Dg9f4xjbTrf0",
        "outputId": "c6357dd6-942e-44de-8471-b4b13ded8e78"
      },
      "outputs": [
        {
          "output_type": "stream",
          "name": "stdout",
          "text": [
            "Inserisci un numero: 10\n",
            "Il numero è positivo\n"
          ]
        }
      ],
      "source": [
        "numero = float(input(\"Inserisci un numero: \"))\n",
        "\n",
        "if numero > 0:\n",
        "  print(\"Il numero è positivo\")\n",
        "else:\n",
        "  print(\"Il numero è negativo\")"
      ]
    },
    {
      "cell_type": "markdown",
      "source": [
        "\n",
        "\n",
        "---\n",
        "\n"
      ],
      "metadata": {
        "id": "4CMzCx9-UZAe"
      }
    },
    {
      "cell_type": "markdown",
      "source": [
        "**Esercizio 2**\n",
        "\n",
        "Scrivere un programma che chiede all'utente di inserire due numeri e stampa \"Il primo numero è maggiore\" se il primo numero è maggiore del secondo, \"Il secondo numero è maggiore\" se il secondo numero è maggiore del primo, altrimenti stampa \"I numeri sono uguali\"."
      ],
      "metadata": {
        "id": "SdgFVgEyUZmU"
      }
    },
    {
      "cell_type": "code",
      "source": [],
      "metadata": {
        "id": "tMoVualJUa4h"
      },
      "execution_count": null,
      "outputs": []
    },
    {
      "cell_type": "markdown",
      "source": [
        "\n",
        "\n",
        "---\n",
        "\n"
      ],
      "metadata": {
        "id": "ZmRRz2lXUfss"
      }
    },
    {
      "cell_type": "markdown",
      "source": [
        "**Esercizio 3**\n",
        "\n",
        "Scrivere un programma che chiede all'utente di inserire due numeri e stampa \"Il primo numero è maggiore\" se il primo numero è maggiore del secondo, \"Il secondo numero è maggiore\" se il secondo numero è maggiore del primo, altrimenti stampa \"I numeri sono uguali\"."
      ],
      "metadata": {
        "id": "oo-Y_pBKUgTj"
      }
    },
    {
      "cell_type": "code",
      "source": [
        "numero1 = int(input(\"Inserisci il primo numero: \"))\n",
        "numero2 = int(input(\"Inserisci il secondo numero: \"))\n",
        "\n",
        "if numero1 > numero2:\n",
        "  print(\"Il primo numero è maggiore: \", numero1)\n",
        "elif numero1 < numero2:\n",
        "  print(\"Il secondo numero è maggiore\", numero2)\n",
        "else:\n",
        "  print(\"I numeri sono uguali\")"
      ],
      "metadata": {
        "colab": {
          "base_uri": "https://localhost:8080/"
        },
        "id": "mDX7rjIiUkIu",
        "outputId": "2085497f-d476-47a1-e8e0-444d8e873fc7"
      },
      "execution_count": 5,
      "outputs": [
        {
          "output_type": "stream",
          "name": "stdout",
          "text": [
            "Inserisci il primo numero: 10\n",
            "Inserisci il secondo numero: 15\n",
            "Il secondo numero è maggiore 15\n"
          ]
        }
      ]
    },
    {
      "cell_type": "markdown",
      "source": [
        "**Esercizio 4**\n",
        "\n",
        "Dati tre numeri da input, trovare il maggiore tra i tre."
      ],
      "metadata": {
        "id": "wpizBqK-U4E3"
      }
    },
    {
      "cell_type": "code",
      "source": [
        "numero1 = int(input(\"Inserisci il primo numero: \"))\n",
        "numero2 = int(input(\"Inserisci il secondo numero: \"))\n",
        "numero3 = int(input(\"Inserisci il terzo numero: \"))\n",
        "\n",
        "\n",
        "if numero1 > numero2 and  numero1 > numero3:\n",
        "  print(\"Il primo numero è maggiore: \", numero1)\n",
        "\n",
        "elif numero2 > numero1 and numero2 > numero3:\n",
        "  print(\"Il secondo numero è maggiore: \", numero2)\n",
        "\n",
        "elif numero3 > numero1 and numero3 > numero2:\n",
        "  print(\"Il terzo numero è maggiore: \", numero3)\n",
        "\n",
        "if numero1 == numero2 and numero2 == numero3:\n",
        "  print(\"I numeri sono uguali\")"
      ],
      "metadata": {
        "colab": {
          "base_uri": "https://localhost:8080/"
        },
        "id": "Zv6IpZPHU5fP",
        "outputId": "5fe3bb5c-f936-4585-f219-5f8a0aad562d"
      },
      "execution_count": 15,
      "outputs": [
        {
          "name": "stdout",
          "output_type": "stream",
          "text": [
            "Inserisci il primo numero: 10\n",
            "Inserisci il secondo numero: 20\n",
            "Inserisci il terzo numero: 20\n"
          ]
        }
      ]
    },
    {
      "cell_type": "code",
      "source": [
        "numero1 = float(input(\"Inserisci il primo numero: \"))\n",
        "numero2 = float(input(\"Inserisci il secondo numero: \"))\n",
        "numero3 = float(input(\"Inserisci il terzo numero: \"))\n",
        "\n",
        "if (numero1 != numero2 or numero2 != numero3 or numero1 != numero3):\n",
        "    if numero1 >= numero2 and numero1 >= numero3:\n",
        "        maggiore = numero1\n",
        "    elif numero2 >= numero3:\n",
        "        maggiore = numero2\n",
        "    else:\n",
        "        maggiore = numero3\n",
        "\n",
        "    print(f\"Il numero maggiore è: {maggiore}\")\n",
        "else:\n",
        "    print(\"I tre numeri sono uguali\")\n"
      ],
      "metadata": {
        "colab": {
          "base_uri": "https://localhost:8080/"
        },
        "id": "ZjMtOn38Xzpf",
        "outputId": "414567d2-73a0-439d-ad21-fccde0306ba8"
      },
      "execution_count": 18,
      "outputs": [
        {
          "output_type": "stream",
          "name": "stdout",
          "text": [
            "Inserisci il primo numero: 4\n",
            "Inserisci il secondo numero: 4\n",
            "Inserisci il terzo numero: 4\n",
            "I tre numeri sono uguali\n"
          ]
        }
      ]
    }
  ]
}
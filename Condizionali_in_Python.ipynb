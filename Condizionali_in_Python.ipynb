{
  "nbformat": 4,
  "nbformat_minor": 0,
  "metadata": {
    "colab": {
      "provenance": [],
      "authorship_tag": "ABX9TyMtXiXIc/Pn/aVGlfS1XmD+",
      "include_colab_link": true
    },
    "kernelspec": {
      "name": "python3",
      "display_name": "Python 3"
    },
    "language_info": {
      "name": "python"
    }
  },
  "cells": [
    {
      "cell_type": "markdown",
      "metadata": {
        "id": "view-in-github",
        "colab_type": "text"
      },
      "source": [
        "<a href=\"https://colab.research.google.com/github/T4rantell/Training_Python/blob/main/Condizionali_in_Python.ipynb\" target=\"_parent\"><img src=\"https://colab.research.google.com/assets/colab-badge.svg\" alt=\"Open In Colab\"/></a>"
      ]
    },
    {
      "cell_type": "markdown",
      "source": [
        "**Esercizio 1**\n",
        "\n",
        "Scrivere un programma che chiede all'utente di inserire un numero e stampa \"Il numero è positivo\" se il numero è maggiore di zero, altrimenti stampa \"Il numero è negativo\""
      ],
      "metadata": {
        "id": "rw0arM09ULff"
      }
    },
    {
      "cell_type": "code",
      "execution_count": null,
      "metadata": {
        "colab": {
          "base_uri": "https://localhost:8080/"
        },
        "id": "Dg9f4xjbTrf0",
        "outputId": "c6357dd6-942e-44de-8471-b4b13ded8e78"
      },
      "outputs": [
        {
          "output_type": "stream",
          "name": "stdout",
          "text": [
            "Inserisci un numero: 10\n",
            "Il numero è positivo\n"
          ]
        }
      ],
      "source": [
        "numero = float(input(\"Inserisci un numero: \"))\n",
        "\n",
        "if numero > 0:\n",
        "  print(\"Il numero è positivo\")\n",
        "else:\n",
        "  print(\"Il numero è negativo\")"
      ]
    },
    {
      "cell_type": "markdown",
      "source": [
        "\n",
        "\n",
        "---\n",
        "\n"
      ],
      "metadata": {
        "id": "4CMzCx9-UZAe"
      }
    },
    {
      "cell_type": "markdown",
      "source": [
        "**Esercizio 2**\n",
        "\n",
        "Scrivere un programma che chiede all'utente di inserire due numeri e stampa \"Il primo numero è maggiore\" se il primo numero è maggiore del secondo, \"Il secondo numero è maggiore\" se il secondo numero è maggiore del primo, altrimenti stampa \"I numeri sono uguali\"."
      ],
      "metadata": {
        "id": "SdgFVgEyUZmU"
      }
    },
    {
      "cell_type": "code",
      "source": [],
      "metadata": {
        "id": "tMoVualJUa4h"
      },
      "execution_count": null,
      "outputs": []
    },
    {
      "cell_type": "markdown",
      "source": [
        "\n",
        "\n",
        "---\n",
        "\n"
      ],
      "metadata": {
        "id": "ZmRRz2lXUfss"
      }
    },
    {
      "cell_type": "markdown",
      "source": [
        "**Esercizio 3**\n",
        "\n",
        "Scrivere un programma che chiede all'utente di inserire due numeri e stampa \"Il primo numero è maggiore\" se il primo numero è maggiore del secondo, \"Il secondo numero è maggiore\" se il secondo numero è maggiore del primo, altrimenti stampa \"I numeri sono uguali\"."
      ],
      "metadata": {
        "id": "oo-Y_pBKUgTj"
      }
    },
    {
      "cell_type": "code",
      "source": [
        "numero1 = int(input(\"Inserisci il primo numero: \"))\n",
        "numero2 = int(input(\"Inserisci il secondo numero: \"))\n",
        "\n",
        "if numero1 > numero2:\n",
        "  print(\"Il primo numero è maggiore: \", numero1)\n",
        "elif numero1 < numero2:\n",
        "  print(\"Il secondo numero è maggiore\", numero2)\n",
        "else:\n",
        "  print(\"I numeri sono uguali\")"
      ],
      "metadata": {
        "colab": {
          "base_uri": "https://localhost:8080/"
        },
        "id": "mDX7rjIiUkIu",
        "outputId": "2085497f-d476-47a1-e8e0-444d8e873fc7"
      },
      "execution_count": null,
      "outputs": [
        {
          "output_type": "stream",
          "name": "stdout",
          "text": [
            "Inserisci il primo numero: 10\n",
            "Inserisci il secondo numero: 15\n",
            "Il secondo numero è maggiore 15\n"
          ]
        }
      ]
    },
    {
      "cell_type": "markdown",
      "source": [
        "**Esercizio 4**\n",
        "\n",
        "Dati tre numeri da input, trovare il maggiore tra i tre."
      ],
      "metadata": {
        "id": "wpizBqK-U4E3"
      }
    },
    {
      "cell_type": "code",
      "source": [
        "numero1 = int(input(\"Inserisci il primo numero: \"))\n",
        "numero2 = int(input(\"Inserisci il secondo numero: \"))\n",
        "numero3 = int(input(\"Inserisci il terzo numero: \"))\n",
        "\n",
        "\n",
        "if numero1 > numero2 and  numero1 > numero3:\n",
        "  print(\"Il primo numero è maggiore: \", numero1)\n",
        "\n",
        "elif numero2 > numero1 and numero2 > numero3:\n",
        "  print(\"Il secondo numero è maggiore: \", numero2)\n",
        "\n",
        "elif numero3 > numero1 and numero3 > numero2:\n",
        "  print(\"Il terzo numero è maggiore: \", numero3)\n",
        "\n",
        "if numero1 == numero2 and numero2 == numero3:\n",
        "  print(\"I numeri sono uguali\")"
      ],
      "metadata": {
        "colab": {
          "base_uri": "https://localhost:8080/"
        },
        "id": "Zv6IpZPHU5fP",
        "outputId": "5fe3bb5c-f936-4585-f219-5f8a0aad562d"
      },
      "execution_count": null,
      "outputs": [
        {
          "name": "stdout",
          "output_type": "stream",
          "text": [
            "Inserisci il primo numero: 10\n",
            "Inserisci il secondo numero: 20\n",
            "Inserisci il terzo numero: 20\n"
          ]
        }
      ]
    },
    {
      "cell_type": "code",
      "source": [
        "numero1 = float(input(\"Inserisci il primo numero: \"))\n",
        "numero2 = float(input(\"Inserisci il secondo numero: \"))\n",
        "numero3 = float(input(\"Inserisci il terzo numero: \"))\n",
        "\n",
        "if (numero1 != numero2 or numero2 != numero3 or numero1 != numero3):\n",
        "    if numero1 >= numero2 and numero1 >= numero3:\n",
        "        maggiore = numero1\n",
        "    elif numero2 >= numero3:\n",
        "        maggiore = numero2\n",
        "    else:\n",
        "        maggiore = numero3\n",
        "\n",
        "    print(f\"Il numero maggiore è: {maggiore}\")\n",
        "else:\n",
        "    print(\"I tre numeri sono uguali\")\n"
      ],
      "metadata": {
        "colab": {
          "base_uri": "https://localhost:8080/"
        },
        "id": "ZjMtOn38Xzpf",
        "outputId": "414567d2-73a0-439d-ad21-fccde0306ba8"
      },
      "execution_count": null,
      "outputs": [
        {
          "output_type": "stream",
          "name": "stdout",
          "text": [
            "Inserisci il primo numero: 4\n",
            "Inserisci il secondo numero: 4\n",
            "Inserisci il terzo numero: 4\n",
            "I tre numeri sono uguali\n"
          ]
        }
      ]
    },
    {
      "cell_type": "markdown",
      "source": [
        "\n",
        "\n",
        "---\n",
        "\n"
      ],
      "metadata": {
        "id": "o_h5A9OPxQhU"
      }
    },
    {
      "cell_type": "markdown",
      "source": [
        "**Esercizio 5**\n",
        "\n",
        "Scrivere un programma che chiede all'utente di inserire una stringa e stampa \"La stringa è vuota\" se la stringa è vuota, altrimenti stampa \"La stringa non è vuota\"."
      ],
      "metadata": {
        "id": "VSQPzN5axKed"
      }
    },
    {
      "cell_type": "code",
      "source": [
        "stringa = input(\"Inserisci una stringa: \")\n",
        "\n",
        "if stringa == \"\":\n",
        "  print(\"La stringa è vuota\")\n",
        "else:\n",
        "  print(\"La stringa non è vuota\")"
      ],
      "metadata": {
        "colab": {
          "base_uri": "https://localhost:8080/"
        },
        "id": "45mS6nT8xRiV",
        "outputId": "a942a4bf-7ef8-47b6-8898-cda788028672"
      },
      "execution_count": null,
      "outputs": [
        {
          "output_type": "stream",
          "name": "stdout",
          "text": [
            "Inserisci una stringa: aaa\n",
            "La stringa non è vuota\n"
          ]
        }
      ]
    },
    {
      "cell_type": "markdown",
      "source": [
        "\n",
        "\n",
        "---\n",
        "\n"
      ],
      "metadata": {
        "id": "-a215cpzyHCg"
      }
    },
    {
      "cell_type": "markdown",
      "source": [
        "**Esercizio 6**\n",
        "\n",
        "Scrivere un programma che chiede all'utente di inserire un numero e stampa \"Il numero è pari\" se il numero è pari, altrimenti stampa \"Il numero è dispari\".\n",
        "\n"
      ],
      "metadata": {
        "id": "di0iWRvzyTbd"
      }
    },
    {
      "cell_type": "code",
      "source": [
        "numero = int(input(\"Inserisci un numero: \"))\n",
        "\n",
        "if numero % 2 == 0:\n",
        "  print(\"Il numero è pari\")\n",
        "else:\n",
        "  print(\"Il numero è dispari\")"
      ],
      "metadata": {
        "colab": {
          "base_uri": "https://localhost:8080/"
        },
        "id": "FY-eTJPAyWlt",
        "outputId": "08de1cf9-0aec-47c3-9217-a607feabd3e5"
      },
      "execution_count": null,
      "outputs": [
        {
          "output_type": "stream",
          "name": "stdout",
          "text": [
            "Inserisci un numero: 10\n",
            "Il numero è pari\n"
          ]
        }
      ]
    },
    {
      "cell_type": "markdown",
      "source": [
        "\n",
        "\n",
        "---\n",
        "\n"
      ],
      "metadata": {
        "id": "XCeMCRRCyi-u"
      }
    },
    {
      "cell_type": "markdown",
      "source": [
        "**Esercizio 7**\n",
        "\n",
        "Scrivere un programma che chiede all'utente di inserire una lettera e stampa \"La lettera è una vocale\" se la lettera è una vocale (a, e, i, o, u), altrimenti stampa \"La lettera non è una vocale\"."
      ],
      "metadata": {
        "id": "tpE4FofDyjw8"
      }
    },
    {
      "cell_type": "code",
      "source": [
        "lettera = input(\"Inserisci una lettera:\").lower()\n",
        "\n",
        "if lettera == \"a\" or lettera == \"e\" or lettera == \"i\" or lettera == \"o\" or lettera == \"u\":\n",
        "  print(\"La lettera inserita è una vocale\")\n",
        "else:\n",
        "  print(\"La lettera inserita non è una vocale\")"
      ],
      "metadata": {
        "colab": {
          "base_uri": "https://localhost:8080/"
        },
        "id": "lBRSDNHyynkS",
        "outputId": "d9a36d4d-be55-43c9-d0d6-a18d4d027700"
      },
      "execution_count": null,
      "outputs": [
        {
          "output_type": "stream",
          "name": "stdout",
          "text": [
            "Inserisci una lettera:b\n",
            "La lettera inserita non è una vocale\n"
          ]
        }
      ]
    },
    {
      "cell_type": "markdown",
      "source": [
        "\n",
        "\n",
        "---\n",
        "\n"
      ],
      "metadata": {
        "id": "BwopPdtOzf1w"
      }
    },
    {
      "cell_type": "markdown",
      "source": [
        "**Esercizio 8**\n",
        "\n",
        "Scrivere un programma che chieda all'utente di inserire un carattere. Se il carattere è una vocale (a, e, i, o, u), stampare \"Il carattere inserito è una vocale\". Se il carattere è una consonante isAlpha(), stampare \"Il carattere inserito è una consonante\". Se il carattere non è una lettera, stampare \"Il carattere inserito non è una lettera\".\n",
        "\n"
      ],
      "metadata": {
        "id": "d-edeifIzgfh"
      }
    },
    {
      "cell_type": "code",
      "source": [
        "carattere = input(\"Inserisci un carattere: \").lower()\n",
        "\n",
        "if carattere == \"a\" or carattere == \"e\" or carattere == \"i\" or carattere == \"o\" or carattere == \"u\":\n",
        "  print(\"Il carattere inserito è una vocale\")\n",
        "elif carattere.isalpha() == True:\n",
        "  print(\"Il carattere inserito è una consonante\")\n",
        "else:\n",
        "  print(\"Il carattere inserito non è una lettera\")"
      ],
      "metadata": {
        "colab": {
          "base_uri": "https://localhost:8080/"
        },
        "id": "iye8IRgQz0oE",
        "outputId": "c7609f53-efca-4cb6-fba6-733253ab204b"
      },
      "execution_count": null,
      "outputs": [
        {
          "output_type": "stream",
          "name": "stdout",
          "text": [
            "Inserisci un carattere: 5\n",
            "Il carattere inserito non è una lettera\n"
          ]
        }
      ]
    },
    {
      "cell_type": "markdown",
      "source": [
        "\n",
        "\n",
        "---\n",
        "\n"
      ],
      "metadata": {
        "id": "5MKUt9101mY0"
      }
    },
    {
      "cell_type": "markdown",
      "source": [
        "**Esercizio 9**\n",
        "\n",
        "Creare una tupla con i seguenti elementi: \"mela\", \"kiwi\", \"lampone\". Accedi all'elemento Kiwi.\n",
        "\n",
        "Creare una nuova tupla che contenga solo i primi due elementi della tupla precedente.\n",
        "\n",
        "Verificare se l'elemento \"ananas\" è presente nella tupla precedente\n",
        "\n",
        "Creare una nuova tupla concatenando la tupla precedente con la tupla (\"pesca\", \"arancia\")."
      ],
      "metadata": {
        "id": "sSDz8UUo1nRQ"
      }
    },
    {
      "cell_type": "code",
      "source": [
        "frutta = (\"mela\", \"kiwi\", \"lampone\")\n",
        "\n",
        "for i in frutta:\n",
        "  if i == \"kiwi\":\n",
        "    print(i)\n",
        "\n",
        "frutta2 = frutta[0:2]\n",
        "print(\"\\nQuesta è la nuova tupla: \", frutta2)\n",
        "\n",
        "for i in frutta:\n",
        "  if i == \"ananas\":\n",
        "    print(\"\\nL'elemento ananas è presente nella tupla\")\n",
        "else:\n",
        "    print(\"\\nL'elemento ananas non è presente nella tupla\")\n",
        "\n",
        "\n",
        "frutta3 = frutta2 + (\"pesca\", \"arancia\")\n",
        "print(\"\\nQuesta è la seconda, nuova tupla: \", frutta3)"
      ],
      "metadata": {
        "colab": {
          "base_uri": "https://localhost:8080/"
        },
        "id": "86QSPiLa1sc6",
        "outputId": "a4279fe0-4b32-4b3c-f116-4358f1cc995a"
      },
      "execution_count": null,
      "outputs": [
        {
          "output_type": "stream",
          "name": "stdout",
          "text": [
            "kiwi\n",
            "\n",
            "Questa è la nuova tupla:  ('mela', 'kiwi')\n",
            "\n",
            "L'elemento ananas non è presente nella tupla\n",
            "\n",
            "Questa è la seconda, nuova tupla:  ('mela', 'kiwi', 'pesca', 'arancia')\n"
          ]
        }
      ]
    },
    {
      "cell_type": "markdown",
      "source": [
        "**Esercizio 10**\n",
        "\n",
        "Creare una tupla contenente il quadrato dei numeri interi da 1 a 5."
      ],
      "metadata": {
        "id": "_0-CAsBf5mJY"
      }
    },
    {
      "cell_type": "code",
      "source": [
        "tupla = tuple(range(1,6))\n",
        "\n",
        "quadrato = tuple(x**2 for x in tupla)\n",
        "\n",
        "print (quadrato)\n",
        "\n",
        "\n"
      ],
      "metadata": {
        "colab": {
          "base_uri": "https://localhost:8080/"
        },
        "id": "S8ksN49O5prn",
        "outputId": "0d36a233-5fcd-4edd-8015-87913d4f5901"
      },
      "execution_count": null,
      "outputs": [
        {
          "output_type": "stream",
          "name": "stdout",
          "text": [
            "(1, 4, 9, 16, 25)\n"
          ]
        }
      ]
    }
  ]
}
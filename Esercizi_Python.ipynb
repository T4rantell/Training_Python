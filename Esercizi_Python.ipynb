{
  "nbformat": 4,
  "nbformat_minor": 0,
  "metadata": {
    "colab": {
      "provenance": [],
      "authorship_tag": "ABX9TyPWVngyUOJO9IdJF8WIaYcq",
      "include_colab_link": true
    },
    "kernelspec": {
      "name": "python3",
      "display_name": "Python 3"
    },
    "language_info": {
      "name": "python"
    }
  },
  "cells": [
    {
      "cell_type": "markdown",
      "metadata": {
        "id": "view-in-github",
        "colab_type": "text"
      },
      "source": [
        "<a href=\"https://colab.research.google.com/github/T4rantell/Training_Python/blob/main/Esercizi_Python.ipynb\" target=\"_parent\"><img src=\"https://colab.research.google.com/assets/colab-badge.svg\" alt=\"Open In Colab\"/></a>"
      ]
    },
    {
      "cell_type": "markdown",
      "source": [
        "# **Training su Python**\n"
      ],
      "metadata": {
        "id": "NLqCTVrYcttq"
      }
    },
    {
      "cell_type": "markdown",
      "source": [
        "##**Installazione ed uso di Git**\n",
        "\n",
        "Partiremo dalla creazione di una cartella in locale per poi collegarla ad una nostra repository su Github; sarà necessaria l'applicazione per Desktop di Git:"
      ],
      "metadata": {
        "id": "jbV6UWfIyFmR"
      }
    },
    {
      "cell_type": "code",
      "source": [
        "mkdir esercizi_python\n",
        "\n",
        "cd esercizi_python\n",
        "\n",
        "git init\n",
        "\n",
        "git clone https://github.com/T4rantell/nome_repository\n",
        "\n",
        "#inserire manualmente il file scaricato da colab nella cartella creata in locale\n",
        "\n",
        "git add .\n",
        "\n",
        "git config --global user.name \"username\"\n",
        "\n",
        "git config --global user.email \"mail\"\n",
        "\n",
        "git commit -m \"nome file di colab\"\n",
        "\n",
        "git branch -M main\n",
        "\n",
        "git remote add origin https://github.com/T4rantell/Training_Python\n",
        "\n",
        "git push -u origin main\n"
      ],
      "metadata": {
        "id": "tgGo8W1iydjA"
      },
      "execution_count": null,
      "outputs": []
    },
    {
      "cell_type": "markdown",
      "source": [],
      "metadata": {
        "id": "NxT7cSgJ8wzX"
      }
    },
    {
      "cell_type": "markdown",
      "source": [
        "##**Esercizi in Python: VARIABILI**"
      ],
      "metadata": {
        "id": "ZPXQl8MIEWLk"
      }
    },
    {
      "cell_type": "markdown",
      "source": [
        "\n",
        "**Esercizio 1**\n",
        "\n",
        "Dichiarare una variabile \"nome\" e assegnargli il tuo nome. Mandare a schermo."
      ],
      "metadata": {
        "id": "U02yblUlbVwq"
      }
    },
    {
      "cell_type": "code",
      "execution_count": null,
      "metadata": {
        "colab": {
          "base_uri": "https://localhost:8080/"
        },
        "id": "ArIIg03PbUUv",
        "outputId": "94f23beb-b5e2-4411-9462-3016b2dc6cef"
      },
      "outputs": [
        {
          "output_type": "stream",
          "name": "stdout",
          "text": [
            "Marco\n"
          ]
        }
      ],
      "source": [
        "name = \"Marco\"\n",
        "print(name)"
      ]
    },
    {
      "cell_type": "markdown",
      "source": [
        "\n",
        "\n",
        "---\n",
        "\n"
      ],
      "metadata": {
        "id": "BiiS2MxedJc9"
      }
    },
    {
      "cell_type": "markdown",
      "source": [
        "**Esercizio 2**\n",
        "\n",
        "Dichiarare una variabile \"eta\" e assegnargli la tua età. Mandare a schermo."
      ],
      "metadata": {
        "id": "J0J8xYQ4cQLM"
      }
    },
    {
      "cell_type": "code",
      "source": [
        "age = \"26\"\n",
        "print(age)"
      ],
      "metadata": {
        "colab": {
          "base_uri": "https://localhost:8080/"
        },
        "id": "wmti6pgIcSfh",
        "outputId": "c5a375c1-5e3d-4b7b-90f8-a930ed909ea1"
      },
      "execution_count": null,
      "outputs": [
        {
          "output_type": "stream",
          "name": "stdout",
          "text": [
            "26\n"
          ]
        }
      ]
    },
    {
      "cell_type": "markdown",
      "source": [
        "\n",
        "\n",
        "---\n",
        "\n"
      ],
      "metadata": {
        "id": "9_pbnIIJfwZi"
      }
    },
    {
      "cell_type": "markdown",
      "source": [
        "**Esercizio 3**\n",
        "\n",
        "Dichiarare una variabile \"pi\" e assegnargli il valore di pi greco (3,14159). Mandare a schermo."
      ],
      "metadata": {
        "id": "RxqCSfa6eNAx"
      }
    },
    {
      "cell_type": "code",
      "source": [
        "import numpy\n",
        "pi = numpy.pi\n",
        "print(pi)"
      ],
      "metadata": {
        "colab": {
          "base_uri": "https://localhost:8080/"
        },
        "id": "5bZTJEVbeR3c",
        "outputId": "57d6ec39-4657-470c-b534-0ad4e7760ee8"
      },
      "execution_count": null,
      "outputs": [
        {
          "output_type": "stream",
          "name": "stdout",
          "text": [
            "3.141592653589793\n"
          ]
        }
      ]
    },
    {
      "cell_type": "markdown",
      "source": [
        "\n",
        "\n",
        "---\n",
        "\n"
      ],
      "metadata": {
        "id": "NCmHbSjldWbj"
      }
    },
    {
      "cell_type": "markdown",
      "source": [
        "**Esercizio 4**\n",
        "\n",
        "Creare una variabile \"lunghezza\" e assegnargli un valore, quindi riassegnare la variabile a 15. Mandare a schermo.\n",
        "\n"
      ],
      "metadata": {
        "id": "f0MFAti2f6LN"
      }
    },
    {
      "cell_type": "code",
      "source": [
        "lenght = 27\n",
        "print(lenght)\n",
        "lenght = 15\n",
        "print(lenght)"
      ],
      "metadata": {
        "colab": {
          "base_uri": "https://localhost:8080/"
        },
        "id": "txanbgPnf8Pa",
        "outputId": "d7b4abd6-f7b0-4688-886a-2021aa0fa20f"
      },
      "execution_count": null,
      "outputs": [
        {
          "output_type": "stream",
          "name": "stdout",
          "text": [
            "27\n",
            "15\n"
          ]
        }
      ]
    },
    {
      "cell_type": "markdown",
      "source": [
        "\n",
        "\n",
        "---\n",
        "\n"
      ],
      "metadata": {
        "id": "mQ1-3g5UgdMW"
      }
    },
    {
      "cell_type": "markdown",
      "source": [
        "**Esercizio 5**\n",
        "\n",
        "Creare una variabile \"nome_completo\" e assegnargli una stringa contenente il tuo nome e cognome. Mandare a schermo"
      ],
      "metadata": {
        "id": "2MrDwNh3geKc"
      }
    },
    {
      "cell_type": "code",
      "source": [
        "nome=\"Marco\"\n",
        "cognome=\"Montella\"\n",
        "nome_completo = nome + \" \" + cognome\n",
        "print(nome_completo)"
      ],
      "metadata": {
        "colab": {
          "base_uri": "https://localhost:8080/"
        },
        "id": "JtiTfAErgfYc",
        "outputId": "fffc9c66-3c50-4a6f-e9e5-62c64d49e3b1"
      },
      "execution_count": null,
      "outputs": [
        {
          "output_type": "stream",
          "name": "stdout",
          "text": [
            "Marco Montella\n"
          ]
        }
      ]
    },
    {
      "cell_type": "markdown",
      "source": [
        "\n",
        "\n",
        "---\n",
        "\n"
      ],
      "metadata": {
        "id": "VaRmJGbFhtgT"
      }
    },
    {
      "cell_type": "markdown",
      "source": [
        "**Esercizio 6**\n",
        "\n",
        "Creare una variabile \"eta_futura\" e assegnargli il valore dell'età che avrai tra 10 anni (utilizzando la variabile età già esistente). Mandare a schermo."
      ],
      "metadata": {
        "id": "7Fqh2Pcqhr2G"
      }
    },
    {
      "cell_type": "code",
      "source": [
        "age = 26\n",
        "future_age= 26 + 10\n",
        "print(future_age)"
      ],
      "metadata": {
        "colab": {
          "base_uri": "https://localhost:8080/"
        },
        "id": "VdaMG8Jnh1_8",
        "outputId": "a32db4ed-1366-4577-e659-49adc10664a7"
      },
      "execution_count": null,
      "outputs": [
        {
          "output_type": "stream",
          "name": "stdout",
          "text": [
            "36\n"
          ]
        }
      ]
    },
    {
      "cell_type": "markdown",
      "source": [
        "\n",
        "\n",
        "---\n",
        "\n"
      ],
      "metadata": {
        "id": "6aeASAAAiWui"
      }
    },
    {
      "cell_type": "markdown",
      "source": [
        "**Esercizio 6**\n",
        "\n",
        "Creare delle variabili \"nome\", \"cognome\" ed \"anno_di_nascita\" ed assegnargli i valori. Mandare a schermo in un unico print. Sovrascrivere tutte le variabili e rimandare a schermo una seconda volta.\n",
        "\n"
      ],
      "metadata": {
        "id": "3b112NL9iX17"
      }
    },
    {
      "cell_type": "code",
      "source": [
        "nome=\"Marco\"\n",
        "cognome=\"Montella\"\n",
        "anno_di_nascita=1999\n",
        "\n",
        "print(nome,cognome,anno_di_nascita)\n",
        "print(\"{} {} {}\".format(nome, cognome, anno_di_nascita))\n",
        "\n",
        "nome=\"Mao\"\n",
        "cognome=\"Moa\"\n",
        "anno_di_nascita=1\n",
        "\n",
        "print(nome,cognome,anno_di_nascita)\n",
        "print(\"{} {} {}\".format(nome, cognome, anno_di_nascita))"
      ],
      "metadata": {
        "colab": {
          "base_uri": "https://localhost:8080/"
        },
        "outputId": "eea4b562-bcd9-4c6e-d473-cbb554df9227",
        "id": "D57Siyikisv7"
      },
      "execution_count": null,
      "outputs": [
        {
          "output_type": "stream",
          "name": "stdout",
          "text": [
            "Marco Montella 1999\n",
            "Marco Montella 1999\n",
            "Mao Moa 1\n",
            "Mao Moa 1\n"
          ]
        }
      ]
    },
    {
      "cell_type": "markdown",
      "source": [
        "**Esercizio 8**\n",
        "\n",
        "Creare una variabile eta_attuale e assegnargli il valore dell'età che hai attualmente, calcolandola in base all'anno corrente. Mandare a schermo eta_attuale\n",
        "\n"
      ],
      "metadata": {
        "id": "2D85C_JZlXUp"
      }
    },
    {
      "cell_type": "code",
      "source": [
        "anno_di_nascita = 1999\n",
        "anno_corrente= 2025\n",
        "print(anno_corrente-anno_di_nascita)"
      ],
      "metadata": {
        "colab": {
          "base_uri": "https://localhost:8080/"
        },
        "id": "Cg99N5_4ldLM",
        "outputId": "40d76061-d46d-4ef5-e12e-7cf39c5f7c8e"
      },
      "execution_count": null,
      "outputs": [
        {
          "output_type": "stream",
          "name": "stdout",
          "text": [
            "26\n"
          ]
        }
      ]
    },
    {
      "cell_type": "markdown",
      "source": [
        "**Esercizio 9**\n",
        "\n",
        "Dichiarare una variabile \"numero_intero\" e assegnargli un valore intero. Mandare a schermo il tipo della variabile per conferma"
      ],
      "metadata": {
        "id": "eH_W2BW2zJCZ"
      }
    },
    {
      "cell_type": "code",
      "source": [
        "numero = int(10)\n",
        "print(type(numero))\n"
      ],
      "metadata": {
        "colab": {
          "base_uri": "https://localhost:8080/"
        },
        "id": "dw3WOzymzKw4",
        "outputId": "64f00e8c-9cad-4f7f-9982-bcd9a31b00d4"
      },
      "execution_count": null,
      "outputs": [
        {
          "output_type": "stream",
          "name": "stdout",
          "text": [
            "<class 'int'>\n"
          ]
        }
      ]
    },
    {
      "cell_type": "markdown",
      "source": [
        "\n",
        "\n",
        "---\n",
        "\n"
      ],
      "metadata": {
        "id": "I3BrPoiBz0Gp"
      }
    },
    {
      "cell_type": "markdown",
      "source": [
        "***Esercizio 10***\n",
        "\n",
        "Dichiarare una variabile \"numero_decimale\" e assegnargli un valore float. Mandare a schermo il tipo della variabile per conferma."
      ],
      "metadata": {
        "id": "Mg7hzO2Kzg8r"
      }
    },
    {
      "cell_type": "code",
      "source": [
        "numero_decimale = float(10.12345126424)\n",
        "print(type(numero_decimale))"
      ],
      "metadata": {
        "colab": {
          "base_uri": "https://localhost:8080/"
        },
        "id": "suSuEKLIzq0V",
        "outputId": "69a467c5-9407-44f0-f7f0-612173bf1424"
      },
      "execution_count": null,
      "outputs": [
        {
          "output_type": "stream",
          "name": "stdout",
          "text": [
            "<class 'float'>\n"
          ]
        }
      ]
    },
    {
      "cell_type": "markdown",
      "source": [
        "\n",
        "\n",
        "---\n",
        "\n"
      ],
      "metadata": {
        "id": "K5tsp7SJz1aa"
      }
    },
    {
      "cell_type": "markdown",
      "source": [
        "**Esercizio 11**\n",
        "\n",
        "Creare una lista \"numeri\" contenente 5 numeri interi. Mandare a schermo il tipo della variabile per conferma."
      ],
      "metadata": {
        "id": "bIJ06UsW8yW5"
      }
    },
    {
      "cell_type": "code",
      "source": [
        "numeri = [1,2,3,4,5]\n",
        "print(type(numeri))"
      ],
      "metadata": {
        "colab": {
          "base_uri": "https://localhost:8080/"
        },
        "id": "t55-18op82V2",
        "outputId": "a3b96eaf-accd-4462-fab1-1941198d2702"
      },
      "execution_count": null,
      "outputs": [
        {
          "output_type": "stream",
          "name": "stdout",
          "text": [
            "<class 'list'>\n"
          ]
        }
      ]
    },
    {
      "cell_type": "markdown",
      "source": [
        "\n",
        "\n",
        "---\n",
        "\n"
      ],
      "metadata": {
        "id": "O5YP9lfY88bM"
      }
    },
    {
      "cell_type": "markdown",
      "source": [
        "**Esercizio 12**\n",
        "\n",
        "Creare una lista \"misti\" contenente un numero intero, un numero float, una stringa e un valore booleano. Mandare a schermo il tipo della variabile per conferma."
      ],
      "metadata": {
        "id": "fnkuF4BY89gb"
      }
    },
    {
      "cell_type": "code",
      "source": [
        "misti = [1, 1.2, \"misti\", True]\n",
        "print(type(misti))"
      ],
      "metadata": {
        "colab": {
          "base_uri": "https://localhost:8080/"
        },
        "id": "6uiYYnQ_9FGx",
        "outputId": "66994138-d12f-4da0-9d44-38045923b94a"
      },
      "execution_count": null,
      "outputs": [
        {
          "output_type": "stream",
          "name": "stdout",
          "text": [
            "<class 'list'>\n"
          ]
        }
      ]
    },
    {
      "cell_type": "markdown",
      "source": [
        "\n",
        "\n",
        "---\n",
        "\n"
      ],
      "metadata": {
        "id": "eaQP_CRd9XLz"
      }
    },
    {
      "cell_type": "markdown",
      "source": [
        "## **Differenze tra Tuple, Liste e Dizionari:**\n",
        "\n",
        "\n",
        "-Tuple: Sono immutabili. Una volta che una tupla è stata creata, non puoi modificarne gli elementi; vengono definite e richiamate con le \"()\"\n",
        "\n",
        "-Liste: Sono mutabili. Puoi aggiungere, rimuovere e modificare gli elementi in una lista; vengono definite e richiamate con le \"[]\"\n",
        "\n",
        "-Dizionari: Usano chiavi uniche per accedere ai valori. Sono mutabili. Puoi aggiungere, rimuovere e modificare le coppie chiave-valore; vengono definite e richiaamte con le \"{}\""
      ],
      "metadata": {
        "id": "6AHDU90N-q7T"
      }
    },
    {
      "cell_type": "markdown",
      "source": [
        "###**Esercizi**"
      ],
      "metadata": {
        "id": "RoGCwmnXEd8S"
      }
    },
    {
      "cell_type": "markdown",
      "source": [
        "---"
      ],
      "metadata": {
        "id": "iaCkzPm6_PUT"
      }
    },
    {
      "cell_type": "markdown",
      "source": [
        "**Esercizio 13**\n",
        "\n",
        "Creare una tupla \"giorni_settimana\" contenente i giorni della settimana come stringhe. Mandare a schermo il tipo della variabile per conferma."
      ],
      "metadata": {
        "id": "FdO-6WJF9VTO"
      }
    },
    {
      "cell_type": "code",
      "source": [
        "giorni_settimana = (\"Lunedì\", \"Martedì\", \"Mercoledì\", \"Giovedì\", \"Venerdì\", \"Sabato\", \"Domenica\")\n",
        "print(type(giorni_settimana))\n",
        "print(giorni_settimana[1])\n",
        "print(giorni_settimana[0])"
      ],
      "metadata": {
        "colab": {
          "base_uri": "https://localhost:8080/"
        },
        "id": "ytpNhp1g9X6l",
        "outputId": "540cc274-8896-4f1e-ac1c-ce940b5f91ef"
      },
      "execution_count": 1,
      "outputs": [
        {
          "output_type": "stream",
          "name": "stdout",
          "text": [
            "<class 'tuple'>\n",
            "Martedì\n",
            "Lunedì\n"
          ]
        }
      ]
    },
    {
      "cell_type": "markdown",
      "source": [
        "\n",
        "\n",
        "---\n",
        "\n"
      ],
      "metadata": {
        "id": "CyvBkxj7CesG"
      }
    },
    {
      "cell_type": "markdown",
      "source": [
        "**Esercizio 14**\n",
        "\n",
        "Creare un dizionario \"informazioni_personali\" contenente il tuo nome, cognome, età e città di residenza. Mandare a schermo il tipo della variabile per conferma."
      ],
      "metadata": {
        "id": "AUqmrGjm_Z8a"
      }
    },
    {
      "cell_type": "code",
      "source": [
        "informazioni_personali = {\"nome\": \"Marco\", \"cognome\": \"Montella\", \"età\": 26, \"citta\": \"Milano\"}\n",
        "print(type(informazioni_personali))\n",
        "print(\"Nome: \" + informazioni_personali[\"nome\"])\n",
        "print(\"Età: \" +str(informazioni_personali[\"età\"]))"
      ],
      "metadata": {
        "colab": {
          "base_uri": "https://localhost:8080/"
        },
        "id": "cBO4hANB_Zj9",
        "outputId": "78edbc92-b24b-4d3b-f219-cc4f122f8678"
      },
      "execution_count": 2,
      "outputs": [
        {
          "output_type": "stream",
          "name": "stdout",
          "text": [
            "<class 'dict'>\n",
            "Nome: Marco\n",
            "Età: 26\n"
          ]
        }
      ]
    },
    {
      "cell_type": "markdown",
      "source": [
        "---"
      ],
      "metadata": {
        "id": "46FnHZ9EFV4g"
      }
    },
    {
      "cell_type": "markdown",
      "source": [
        "##**Funzioni in Python**\n",
        "\n",
        "Vengono definite con \"def\", e richiamate utilizzando il nome che gli è stato assegnato.\n",
        "\n",
        "Le variabili definite all'interno di una funzione hanno scope locale. Non saranno richiamabili al di fuori delle funzioni stesse.\n",
        "\n",
        "Per avere variabili globali basterà definirle"
      ],
      "metadata": {
        "id": "GsXz0xXTEjK2"
      }
    },
    {
      "cell_type": "markdown",
      "source": [
        "###**Esercizi**\n",
        "\n",
        "\n"
      ],
      "metadata": {
        "id": "hxP6iKkngvGT"
      }
    },
    {
      "cell_type": "markdown",
      "source": [
        "**Esercizio 15**\n",
        "\n",
        "A) Definiamo una funzione \"stampa2volte\" che stampa a schermo 2 volte un valore passato come argomento. Richiamiamola.\n",
        "\n",
        "B) Definiamo una funzione stampa_unione, che concatena due valori passati come argomenti, e  li stampa a schermo separati da spazi. Richiamiamola."
      ],
      "metadata": {
        "id": "SL3NCuHeFGJa"
      }
    },
    {
      "cell_type": "markdown",
      "source": [
        "\n",
        "\n",
        "---\n",
        "\n"
      ],
      "metadata": {
        "id": "m9pCIlZEC4rH"
      }
    },
    {
      "cell_type": "code",
      "source": [
        "#A)\n",
        "def stampa2volte(valore):\n",
        "  print(valore, valore)\n",
        "\n",
        "stampa2volte(\"marco\")\n",
        "\n",
        "#B)\n",
        "def stampa_unione(valore, valore2):\n",
        "  unione= valore + \" \" + valore2\n",
        "  print(unione)\n",
        "\n",
        "stampa_unione(\"marco\", \"montella\")"
      ],
      "metadata": {
        "colab": {
          "base_uri": "https://localhost:8080/"
        },
        "id": "VKqNc2O0Fl3h",
        "outputId": "9efd6bf9-e2ff-45b6-b2e6-172a8ad0818e"
      },
      "execution_count": null,
      "outputs": [
        {
          "output_type": "stream",
          "name": "stdout",
          "text": [
            "marco marco\n",
            "marco montella\n"
          ]
        }
      ]
    },
    {
      "cell_type": "markdown",
      "source": [
        "---"
      ],
      "metadata": {
        "id": "CMCwt5SGKUzt"
      }
    },
    {
      "cell_type": "markdown",
      "source": [
        "## **Operatore Modulo \"%\"**\n",
        "Restituisce il resto della divisione tra 2 numeri;\n",
        "\n",
        "Molto utile per filtrare numeri pari e dispari:\n",
        "\n",
        "  \"numero_pari\" % 2 = 0\n",
        "\n",
        "  \"numero_dispari\" % 2 = 1"
      ],
      "metadata": {
        "id": "7ucMn6s4H6Pc"
      }
    },
    {
      "cell_type": "markdown",
      "source": [
        "## **Cicli \"for\", \"while\"; e condizioni \"if\", \"elif\" ed \"else\"**"
      ],
      "metadata": {
        "id": "eh-ZACw_LEFB"
      }
    },
    {
      "cell_type": "markdown",
      "source": [
        "###**Esercizi**"
      ],
      "metadata": {
        "id": "0z69qn5rhf20"
      }
    },
    {
      "cell_type": "markdown",
      "source": [
        "**Esercizio 16**\n",
        "\n",
        "Creiamo una variabile \"numeri\", contiene i numeri da 1 a 10.\n",
        "\n",
        "Stampiamo a schermo il valore di ogni numero, seguito da \"è pari\"/\"è dispari\"."
      ],
      "metadata": {
        "id": "125ulPDtKXjE"
      }
    },
    {
      "cell_type": "code",
      "source": [
        "numeri= range(0, 10)\n",
        "for i in numeri:\n",
        "  if i == 0:\n",
        "    print(f\"{i} è neutro\")\n",
        "  elif i % 2 == 0:\n",
        "    print(f\"{i} è pari\")\n",
        "  else:\n",
        "    print(f\"{i} è dispari\")\n"
      ],
      "metadata": {
        "colab": {
          "base_uri": "https://localhost:8080/"
        },
        "id": "_EPbVbBPIK7e",
        "outputId": "1ea2cd66-3425-4f51-8ed5-5946120362c0"
      },
      "execution_count": null,
      "outputs": [
        {
          "output_type": "stream",
          "name": "stdout",
          "text": [
            "0 è neutro\n",
            "1 è dispari\n",
            "2 è pari\n",
            "3 è dispari\n",
            "4 è pari\n",
            "5 è dispari\n",
            "6 è pari\n",
            "7 è dispari\n",
            "8 è pari\n",
            "9 è dispari\n"
          ]
        }
      ]
    },
    {
      "cell_type": "markdown",
      "source": [
        "---"
      ],
      "metadata": {
        "id": "P0vl7TZjOUM0"
      }
    },
    {
      "cell_type": "markdown",
      "source": [
        "**Esercizio 17**\n",
        "\n",
        "Scrivi una funzione che confronta i valori x e y: restituisce true se uguali, false se diversi"
      ],
      "metadata": {
        "id": "GafbYOYIOHT6"
      }
    },
    {
      "cell_type": "code",
      "source": [
        "x = 5\n",
        "y = 5\n",
        "\n",
        "def confronta(x, y):\n",
        "\n",
        "  if x==y:\n",
        "    return True\n",
        "  else:\n",
        "    return False\n",
        "\n",
        "uguali = confronta(x, y)\n",
        "print(\" x ed y sono uguali: \" + str(uguali))"
      ],
      "metadata": {
        "id": "6S3Pb4RVOVA9",
        "colab": {
          "base_uri": "https://localhost:8080/"
        },
        "outputId": "9c595522-0dee-4c6a-8dad-51dbdad735fc"
      },
      "execution_count": 8,
      "outputs": [
        {
          "output_type": "stream",
          "name": "stdout",
          "text": [
            " x ed y sono uguali: True\n"
          ]
        }
      ]
    },
    {
      "cell_type": "markdown",
      "source": [
        "\n",
        "\n",
        "---\n",
        "\n"
      ],
      "metadata": {
        "id": "AcQanYzgCQpN"
      }
    },
    {
      "cell_type": "markdown",
      "source": [
        "###**Operatore return**\n",
        "\n",
        "L'operatore \"return\" permette di terminare l'esecuzione di un programma in maniera prematura quando si verificano delle condizioni."
      ],
      "metadata": {
        "id": "VDWh6Hj3sJMV"
      }
    },
    {
      "cell_type": "markdown",
      "source": [
        "Esercizio 18\n",
        "\n",
        "Scrivi una funzione Log che accetta solo numeri positivi, e ne calcola il logaritmo."
      ],
      "metadata": {
        "id": "xWYGM-PvsZyh"
      }
    },
    {
      "cell_type": "code",
      "source": [
        "import math\n",
        "\n",
        "numero = input(\"Inserisci un numero: \")\n",
        "x = float(numero)\n",
        "\n",
        "\n",
        "def log (x):\n",
        "  if  x <= 0:\n",
        "    print(\"inserire un valore positivo per x\")\n",
        "    return\n",
        "  else:\n",
        "    return math.log(x)\n",
        "\n",
        "print(log(x))"
      ],
      "metadata": {
        "colab": {
          "base_uri": "https://localhost:8080/"
        },
        "id": "nhscqtVCs1Pn",
        "outputId": "91055315-e4c7-4b82-c0d7-0904726eb187"
      },
      "execution_count": 14,
      "outputs": [
        {
          "output_type": "stream",
          "name": "stdout",
          "text": [
            "Inserisci un numero: 0\n",
            "inserire un valore positivo per x\n",
            "None\n"
          ]
        }
      ]
    },
    {
      "cell_type": "markdown",
      "source": [
        "\n",
        "\n",
        "---\n",
        "\n"
      ],
      "metadata": {
        "id": "GPCAjBLgCPig"
      }
    },
    {
      "cell_type": "markdown",
      "source": [
        "##**Esercizi**"
      ],
      "metadata": {
        "id": "AAnFXjOPkSLV"
      }
    },
    {
      "cell_type": "markdown",
      "source": [
        "**Esercizio 19**\n",
        "\n",
        "Scrivi una funzione \"fibonacci\" che dato un numero \"n\", restituisce solo i primi \"n\" numeri della serie di Fibonacci."
      ],
      "metadata": {
        "id": "gSbheI5m_zn2"
      }
    },
    {
      "cell_type": "code",
      "source": [
        "# Input utente\n",
        "numero = input(\"Inserisci un numero: \")\n",
        "n = int(numero)\n",
        "\n",
        "def fibonacci(n):\n",
        "    serie = [0, 1]  # Inizializza la lista con i primi due numeri di Fibonacci\n",
        "    for i in range(2, n):\n",
        "        serie.append(serie[i - 1] + serie[i - 2])  # Aggiunge il nuovo numero\n",
        "    return serie[:n]  # Restituisce solo i primi 'n' numeri della sequenza\n",
        "\n",
        "\n",
        "# Output della serie di Fibonacci fino a n\n",
        "print(fibonacci(n))"
      ],
      "metadata": {
        "colab": {
          "base_uri": "https://localhost:8080/"
        },
        "id": "tw8mAIGkAtxj",
        "outputId": "3830ca68-05e3-4514-b43b-4d3d163e1845"
      },
      "execution_count": 24,
      "outputs": [
        {
          "output_type": "stream",
          "name": "stdout",
          "text": [
            "Inserisci un numero: 4\n",
            "[0, 1, 1, 2]\n"
          ]
        }
      ]
    },
    {
      "cell_type": "markdown",
      "source": [
        "\n",
        "\n",
        "---\n",
        "\n"
      ],
      "metadata": {
        "id": "TsM97j3gCSff"
      }
    },
    {
      "cell_type": "markdown",
      "source": [
        "**Esercizio 20**\n",
        "\n",
        "Utilizzo di \"range()\" in Python."
      ],
      "metadata": {
        "id": "a7PBQJZwEktY"
      }
    },
    {
      "cell_type": "code",
      "source": [
        "numeri = list(range(0,10))\n",
        "print(numeri)"
      ],
      "metadata": {
        "colab": {
          "base_uri": "https://localhost:8080/"
        },
        "id": "UOI3RoCSCyqx",
        "outputId": "5bb47a31-6daa-4d3c-d394-a650976c770d"
      },
      "execution_count": 31,
      "outputs": [
        {
          "output_type": "stream",
          "name": "stdout",
          "text": [
            "[0, 1, 2, 3, 4, 5, 6, 7, 8, 9]\n"
          ]
        }
      ]
    },
    {
      "cell_type": "code",
      "source": [
        "for i in range(0, 10):\n",
        "  print(i, end = \" \")"
      ],
      "metadata": {
        "colab": {
          "base_uri": "https://localhost:8080/"
        },
        "id": "bmHzpEABEXcn",
        "outputId": "75278d01-a43d-4528-9e58-18f7fd83a0ba"
      },
      "execution_count": 33,
      "outputs": [
        {
          "output_type": "stream",
          "name": "stdout",
          "text": [
            "0 1 2 3 4 5 6 7 8 9 "
          ]
        }
      ]
    },
    {
      "cell_type": "markdown",
      "source": [
        "\n",
        "\n",
        "---\n",
        "\n"
      ],
      "metadata": {
        "id": "wdR8p6QlE9Dd"
      }
    },
    {
      "cell_type": "markdown",
      "source": [
        "**Esercizio 21**\n",
        "\n",
        "Dichiarare due variabili \"numero1\" e \"numero2\" e assegnargli due numeri interi. Eseguire l'addizione tra le due variabili e assegnare il risultato ad una nuova variabile \"somma\", mandandola a schermo"
      ],
      "metadata": {
        "id": "eZhNOI3JE-BO"
      }
    },
    {
      "cell_type": "code",
      "source": [
        "a = int(input(\"Inserisci il primo numero: \"))\n",
        "b = int(input(\"Inserisci il secondo numero: \"))\n",
        "\n",
        "def somma (a, b):\n",
        "  return a + b\n",
        "\n",
        "print(\"la somma dei due numeri è: \", somma(a, b))"
      ],
      "metadata": {
        "colab": {
          "base_uri": "https://localhost:8080/"
        },
        "id": "8N4areemFnTI",
        "outputId": "2a048fca-63c6-4d5e-dd70-8c6f996c1ae3"
      },
      "execution_count": 43,
      "outputs": [
        {
          "output_type": "stream",
          "name": "stdout",
          "text": [
            "Inserisci il primo numero: 2\n",
            "Inserisci il secondo numero: 2\n",
            "la somma dei due numeri è:  4\n"
          ]
        }
      ]
    },
    {
      "cell_type": "code",
      "source": [
        "somma = 0\n",
        "\n",
        "for i in range(0, 2):\n",
        "  numero = int(input(\"Inserisci un numero: \"))\n",
        "  somma += numero\n",
        "\n",
        "print(\"la somma dei numeri è: \", somma)"
      ],
      "metadata": {
        "colab": {
          "base_uri": "https://localhost:8080/"
        },
        "id": "9FNeD88vIVfT",
        "outputId": "3585283e-9ed8-4b46-e4c2-e2f84709980d"
      },
      "execution_count": 40,
      "outputs": [
        {
          "output_type": "stream",
          "name": "stdout",
          "text": [
            "Inserisci un numero: 7\n",
            "Inserisci un numero: 0\n",
            "la somma dei numeri è:  7\n"
          ]
        }
      ]
    },
    {
      "cell_type": "markdown",
      "source": [
        "\n",
        "\n",
        "---\n",
        "\n"
      ],
      "metadata": {
        "id": "7FLW1mskIubk"
      }
    },
    {
      "cell_type": "markdown",
      "source": [
        "**Esercizio 22**\n",
        "\n",
        "Sottrazione."
      ],
      "metadata": {
        "id": "9tGvfRGnIqUX"
      }
    },
    {
      "cell_type": "code",
      "source": [
        "a = int(input(\"Inserisci il primo numero: \"))\n",
        "b = int(input(\"Inserisci il secondo numero: \"))\n",
        "\n",
        "def differenza (a, b):\n",
        "  return a - b\n",
        "\n",
        "print(\"la differenza dei due numeri è: \", differenza(a, b))"
      ],
      "metadata": {
        "colab": {
          "base_uri": "https://localhost:8080/"
        },
        "id": "Menyzu27Ipdx",
        "outputId": "b4744c7f-91d8-4430-8f92-84e5703f7018"
      },
      "execution_count": 42,
      "outputs": [
        {
          "output_type": "stream",
          "name": "stdout",
          "text": [
            "Inserisci il primo numero: 10\n",
            "Inserisci il secondo numero: 7\n",
            "la differenza dei due numeri è:  3\n"
          ]
        }
      ]
    },
    {
      "cell_type": "markdown",
      "source": [
        "**Esercizio 23**\n",
        "\n",
        "Moltiplicazione."
      ],
      "metadata": {
        "id": "6arWg2WdJZuP"
      }
    },
    {
      "cell_type": "code",
      "source": [
        "a = int(input(\"Inserisci il primo numero: \"))\n",
        "b = int(input(\"Inserisci il secondo numero: \"))\n",
        "\n",
        "def moltiplicazione (a, b):\n",
        "  return a * b\n",
        "\n",
        "print(\"la moltiplicazione tra i due numeri è: \", moltiplicazione(a, b))"
      ],
      "metadata": {
        "colab": {
          "base_uri": "https://localhost:8080/"
        },
        "id": "MhWAhH3LJgw6",
        "outputId": "a71cb86c-43dc-4ef4-fde0-c58e59e7e75a"
      },
      "execution_count": 44,
      "outputs": [
        {
          "output_type": "stream",
          "name": "stdout",
          "text": [
            "Inserisci il primo numero: 3\n",
            "Inserisci il secondo numero: 2\n",
            "la moltiplicazione tra i due numeri è:  6\n"
          ]
        }
      ]
    },
    {
      "cell_type": "markdown",
      "source": [
        "\n",
        "\n",
        "---\n",
        "\n"
      ],
      "metadata": {
        "id": "U157RW4zktBV"
      }
    },
    {
      "cell_type": "markdown",
      "source": [
        "**Esercizio 24**\n",
        "\n",
        "Divisione.\n"
      ],
      "metadata": {
        "id": "P8S0lsI6kuFf"
      }
    },
    {
      "cell_type": "code",
      "source": [
        "a = int(input(\"Inserisci il divisore: \"))\n",
        "b = int(input(\"Inserisci il dividendo: \"))\n",
        "\n",
        "def divisione (a, b):\n",
        "  return a / b\n",
        "\n",
        "print(\"la divisione tra i due numeri è: \", divisione(a, b))"
      ],
      "metadata": {
        "colab": {
          "base_uri": "https://localhost:8080/"
        },
        "id": "Mt6lLZlqJ6Ma",
        "outputId": "00552eb0-7538-4c0e-bde7-090d9f6ab439"
      },
      "execution_count": 48,
      "outputs": [
        {
          "output_type": "stream",
          "name": "stdout",
          "text": [
            "Inserisci il divisore: 10\n",
            "Inserisci il dividendo: 3\n",
            "la divisione tra i due numeri è:  3.3333333333333335\n"
          ]
        }
      ]
    },
    {
      "cell_type": "markdown",
      "source": [
        "\n",
        "\n",
        "---\n",
        "\n"
      ],
      "metadata": {
        "id": "YI2_MKBZkwxf"
      }
    },
    {
      "cell_type": "markdown",
      "source": [
        "**Esercizio 25**\n",
        "\n",
        "Modulo."
      ],
      "metadata": {
        "id": "eBlkwkgPkxaD"
      }
    },
    {
      "cell_type": "code",
      "source": [
        "a = int(input(\"Inserisci il primo numero: \"))\n",
        "b = int(input(\"Inserisci il secondo numero: \"))\n",
        "\n",
        "def modulo (a, b):\n",
        "  return a % b\n",
        "\n",
        "print(\"il modulo tra i due numeri è: \", modulo(a, b))"
      ],
      "metadata": {
        "colab": {
          "base_uri": "https://localhost:8080/"
        },
        "id": "5MdvZ7fwNAW-",
        "outputId": "810ed5a8-3047-4819-c3bf-e05ec2ee955b"
      },
      "execution_count": 51,
      "outputs": [
        {
          "output_type": "stream",
          "name": "stdout",
          "text": [
            "Inserisci il divisore: 7\n",
            "Inserisci il dividendo: 3\n",
            "il modulo tra i due numeri è:  1\n"
          ]
        }
      ]
    },
    {
      "cell_type": "markdown",
      "source": [
        "\n",
        "\n",
        "---\n",
        "\n"
      ],
      "metadata": {
        "id": "BwvHwH1HR8F4"
      }
    },
    {
      "cell_type": "markdown",
      "source": [
        "**Esercizio 26**\n",
        "\n",
        "Incrementare \"numero1\" di 1 e decrementare \"numero2\" di 3. Mandare a schermo i nuovi valori."
      ],
      "metadata": {
        "id": "HSi8ca_9Otb_"
      }
    },
    {
      "cell_type": "code",
      "source": [
        "a = int(input(\"Inserisci il primo numero: \"))\n",
        "b = int(input(\"Inserisci il secondo numero: \"))\n",
        "\n",
        "def modifica (a, b):\n",
        "  n1 = a + 1\n",
        "  n2 = b - 3\n",
        "  return (n1, n2)\n",
        "\n",
        "print(\"I due nuovi numeri sono: \", modifica(a, b))"
      ],
      "metadata": {
        "colab": {
          "base_uri": "https://localhost:8080/"
        },
        "id": "wOw0Z48VOtAY",
        "outputId": "cdcec864-342f-43aa-cfe7-8df9b056f3ba"
      },
      "execution_count": 69,
      "outputs": [
        {
          "output_type": "stream",
          "name": "stdout",
          "text": [
            "Inserisci il primo numero: 10\n",
            "Inserisci il secondo numero: 5\n",
            "I due nuovi numeri sono:  (11, 2)\n"
          ]
        }
      ]
    },
    {
      "cell_type": "markdown",
      "source": [
        "\n",
        "\n",
        "---\n",
        "\n"
      ],
      "metadata": {
        "id": "J0QzY3MFk3gV"
      }
    },
    {
      "cell_type": "markdown",
      "source": [
        "**Esercizio 27**\n",
        "\n",
        "Moltiplicare \"numero1\" per se stesso + 5, sommarlo quindi a \"numero2\" elevato alla seconda. Assegnare l'operazione alla variabile risultato e mandare a schermo."
      ],
      "metadata": {
        "id": "FKR7r6uDSfNr"
      }
    },
    {
      "cell_type": "code",
      "source": [
        "a = int(input(\"Inserisci il primo numero: \"))\n",
        "b = int(input(\"Inserisci il secondo numero: \"))\n",
        "\n",
        "def modifica (a, b):\n",
        "  n1 = a*(a+5)\n",
        "  print(\"il primo numero è diventato: \", n1)\n",
        "  n2 = b**2\n",
        "  print(\"il secondo numero è diventato: \", n2)\n",
        "  n3 = n1 + n2\n",
        "  return (n3)\n",
        "\n",
        "print(\"La somma tra i due nuovi numeri è: \", modifica(a, b))"
      ],
      "metadata": {
        "colab": {
          "base_uri": "https://localhost:8080/"
        },
        "id": "De9WUDtjSgpa",
        "outputId": "8cd43939-56a6-47b1-c80b-8caa1058353d"
      },
      "execution_count": 75,
      "outputs": [
        {
          "output_type": "stream",
          "name": "stdout",
          "text": [
            "Inserisci il primo numero: 5\n",
            "Inserisci il secondo numero: 4\n",
            "il primo numero è diventato:  50\n",
            "il secondo numero è diventato:  16\n",
            "La somma tra i due nuovi numeri è:  66\n"
          ]
        }
      ]
    },
    {
      "cell_type": "markdown",
      "source": [
        "\n",
        "\n",
        "---\n",
        "\n"
      ],
      "metadata": {
        "id": "gFBUb_VQR6bm"
      }
    }
  ]
}
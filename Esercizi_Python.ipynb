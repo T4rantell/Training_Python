{
  "nbformat": 4,
  "nbformat_minor": 0,
  "metadata": {
    "colab": {
      "provenance": [],
      "authorship_tag": "ABX9TyN0B4/V9gl1RIHEvBSjMPEJ",
      "include_colab_link": true
    },
    "kernelspec": {
      "name": "python3",
      "display_name": "Python 3"
    },
    "language_info": {
      "name": "python"
    }
  },
  "cells": [
    {
      "cell_type": "markdown",
      "metadata": {
        "id": "view-in-github",
        "colab_type": "text"
      },
      "source": [
        "<a href=\"https://colab.research.google.com/github/T4rantell/Training_Python/blob/main/Esercizi_Python_Variabili_01.ipynb\" target=\"_parent\"><img src=\"https://colab.research.google.com/assets/colab-badge.svg\" alt=\"Open In Colab\"/></a>"
      ]
    },
    {
      "cell_type": "markdown",
      "source": [
        "# **Training su Python**\n"
      ],
      "metadata": {
        "id": "NLqCTVrYcttq"
      }
    },
    {
      "cell_type": "markdown",
      "source": [
        "Partiremo dalla creazione di una cartella in locale per poi collegarla ad una nostra repository su Github; sarà necessaria l'applicazione per Desktop di Git:"
      ],
      "metadata": {
        "id": "jbV6UWfIyFmR"
      }
    },
    {
      "cell_type": "code",
      "source": [
        "mkdir esercizi_python\n",
        "\n",
        "cd esercizi_python\n",
        "\n",
        "git init\n",
        "\n",
        "#inserire manualmente il file scaricato da colab nella cartella creata in locale\n",
        "\n",
        "git add .\n",
        "\n",
        "git config --global user.name \"username\"\n",
        "\n",
        "git config --global user.email \"mail\"\n",
        "\n",
        "git commit -m \"nome file di colab\"\n",
        "\n",
        "git branch -M main\n",
        "\n",
        "git remote add origin https://github.com/T4rantell/Training_Python\n",
        "\n",
        "git push -u origin main\n"
      ],
      "metadata": {
        "id": "tgGo8W1iydjA"
      },
      "execution_count": null,
      "outputs": []
    },
    {
      "cell_type": "markdown",
      "source": [],
      "metadata": {
        "id": "NxT7cSgJ8wzX"
      }
    },
    {
      "cell_type": "markdown",
      "source": [
        "\n",
        "**Esercizio 1**\n",
        "\n",
        "Dichiarare una variabile \"nome\" e assegnargli il tuo nome. Mandare a schermo."
      ],
      "metadata": {
        "id": "U02yblUlbVwq"
      }
    },
    {
      "cell_type": "code",
      "execution_count": 3,
      "metadata": {
        "colab": {
          "base_uri": "https://localhost:8080/"
        },
        "id": "ArIIg03PbUUv",
        "outputId": "94f23beb-b5e2-4411-9462-3016b2dc6cef"
      },
      "outputs": [
        {
          "output_type": "stream",
          "name": "stdout",
          "text": [
            "Marco\n"
          ]
        }
      ],
      "source": [
        "name = \"Marco\"\n",
        "print(name)"
      ]
    },
    {
      "cell_type": "markdown",
      "source": [
        "\n",
        "\n",
        "---\n",
        "\n"
      ],
      "metadata": {
        "id": "BiiS2MxedJc9"
      }
    },
    {
      "cell_type": "markdown",
      "source": [
        "**Esercizio 2**\n",
        "\n",
        "Dichiarare una variabile \"eta\" e assegnargli la tua età. Mandare a schermo."
      ],
      "metadata": {
        "id": "J0J8xYQ4cQLM"
      }
    },
    {
      "cell_type": "code",
      "source": [
        "age = \"26\"\n",
        "print(age)"
      ],
      "metadata": {
        "colab": {
          "base_uri": "https://localhost:8080/"
        },
        "id": "wmti6pgIcSfh",
        "outputId": "c5a375c1-5e3d-4b7b-90f8-a930ed909ea1"
      },
      "execution_count": 4,
      "outputs": [
        {
          "output_type": "stream",
          "name": "stdout",
          "text": [
            "26\n"
          ]
        }
      ]
    },
    {
      "cell_type": "markdown",
      "source": [
        "\n",
        "\n",
        "---\n",
        "\n"
      ],
      "metadata": {
        "id": "9_pbnIIJfwZi"
      }
    },
    {
      "cell_type": "markdown",
      "source": [
        "**Esercizio 3**\n",
        "\n",
        "Dichiarare una variabile \"pi\" e assegnargli il valore di pi greco (3,14159). Mandare a schermo."
      ],
      "metadata": {
        "id": "RxqCSfa6eNAx"
      }
    },
    {
      "cell_type": "code",
      "source": [
        "import numpy\n",
        "pi = numpy.pi\n",
        "print(pi)"
      ],
      "metadata": {
        "colab": {
          "base_uri": "https://localhost:8080/"
        },
        "id": "5bZTJEVbeR3c",
        "outputId": "57d6ec39-4657-470c-b534-0ad4e7760ee8"
      },
      "execution_count": 5,
      "outputs": [
        {
          "output_type": "stream",
          "name": "stdout",
          "text": [
            "3.141592653589793\n"
          ]
        }
      ]
    },
    {
      "cell_type": "markdown",
      "source": [
        "\n",
        "\n",
        "---\n",
        "\n"
      ],
      "metadata": {
        "id": "NCmHbSjldWbj"
      }
    },
    {
      "cell_type": "markdown",
      "source": [
        "**Esercizio 4**\n",
        "\n",
        "Creare una variabile \"lunghezza\" e assegnargli un valore, quindi riassegnare la variabile a 15. Mandare a schermo.\n",
        "\n"
      ],
      "metadata": {
        "id": "f0MFAti2f6LN"
      }
    },
    {
      "cell_type": "code",
      "source": [
        "lenght = 27\n",
        "print(lenght)\n",
        "lenght = 15\n",
        "print(lenght)"
      ],
      "metadata": {
        "colab": {
          "base_uri": "https://localhost:8080/"
        },
        "id": "txanbgPnf8Pa",
        "outputId": "d7b4abd6-f7b0-4688-886a-2021aa0fa20f"
      },
      "execution_count": 6,
      "outputs": [
        {
          "output_type": "stream",
          "name": "stdout",
          "text": [
            "27\n",
            "15\n"
          ]
        }
      ]
    },
    {
      "cell_type": "markdown",
      "source": [
        "\n",
        "\n",
        "---\n",
        "\n"
      ],
      "metadata": {
        "id": "mQ1-3g5UgdMW"
      }
    },
    {
      "cell_type": "markdown",
      "source": [
        "**Esercizio 5**\n",
        "\n",
        "Creare una variabile \"nome_completo\" e assegnargli una stringa contenente il tuo nome e cognome. Mandare a schermo"
      ],
      "metadata": {
        "id": "2MrDwNh3geKc"
      }
    },
    {
      "cell_type": "code",
      "source": [
        "nome=\"Marco\"\n",
        "cognome=\"Montella\"\n",
        "nome_completo = nome + \" \" + cognome\n",
        "print(nome_completo)"
      ],
      "metadata": {
        "colab": {
          "base_uri": "https://localhost:8080/"
        },
        "id": "JtiTfAErgfYc",
        "outputId": "fffc9c66-3c50-4a6f-e9e5-62c64d49e3b1"
      },
      "execution_count": 13,
      "outputs": [
        {
          "output_type": "stream",
          "name": "stdout",
          "text": [
            "Marco Montella\n"
          ]
        }
      ]
    },
    {
      "cell_type": "markdown",
      "source": [
        "\n",
        "\n",
        "---\n",
        "\n"
      ],
      "metadata": {
        "id": "VaRmJGbFhtgT"
      }
    },
    {
      "cell_type": "markdown",
      "source": [
        "**Esercizio 6**\n",
        "\n",
        "Creare una variabile \"eta_futura\" e assegnargli il valore dell'età che avrai tra 10 anni (utilizzando la variabile età già esistente). Mandare a schermo."
      ],
      "metadata": {
        "id": "7Fqh2Pcqhr2G"
      }
    },
    {
      "cell_type": "code",
      "source": [
        "age = 26\n",
        "future_age= 26 + 10\n",
        "print(future_age)"
      ],
      "metadata": {
        "colab": {
          "base_uri": "https://localhost:8080/"
        },
        "id": "VdaMG8Jnh1_8",
        "outputId": "a32db4ed-1366-4577-e659-49adc10664a7"
      },
      "execution_count": 15,
      "outputs": [
        {
          "output_type": "stream",
          "name": "stdout",
          "text": [
            "36\n"
          ]
        }
      ]
    },
    {
      "cell_type": "markdown",
      "source": [
        "\n",
        "\n",
        "---\n",
        "\n"
      ],
      "metadata": {
        "id": "6aeASAAAiWui"
      }
    },
    {
      "cell_type": "markdown",
      "source": [
        "**Esercizio 6**\n",
        "\n",
        "Creare delle variabili \"nome\", \"cognome\" ed \"anno_di_nascita\" ed assegnargli i valori. Mandare a schermo in un unico print. Sovrascrivere tutte le variabili e rimandare a schermo una seconda volta.\n",
        "\n"
      ],
      "metadata": {
        "id": "3b112NL9iX17"
      }
    },
    {
      "cell_type": "code",
      "source": [
        "nome=\"Marco\"\n",
        "cognome=\"Montella\"\n",
        "anno_di_nascita=1999\n",
        "print(nome,cognome,anno_di_nascita)\n",
        "print(\"{} {} {}\".format(nome, cognome, anno_di_nascita))\n",
        "nome=\"Mao\"\n",
        "cognome=\"Moa\"\n",
        "anno_di_nascita=1\n",
        "print(nome,cognome,anno_di_nascita)\n",
        "print(\"{} {} {}\".format(nome, cognome, anno_di_nascita))"
      ],
      "metadata": {
        "colab": {
          "base_uri": "https://localhost:8080/"
        },
        "outputId": "eea4b562-bcd9-4c6e-d473-cbb554df9227",
        "id": "D57Siyikisv7"
      },
      "execution_count": 20,
      "outputs": [
        {
          "output_type": "stream",
          "name": "stdout",
          "text": [
            "Marco Montella 1999\n",
            "Marco Montella 1999\n",
            "Mao Moa 1\n",
            "Mao Moa 1\n"
          ]
        }
      ]
    },
    {
      "cell_type": "markdown",
      "source": [
        "**Esercizio 8**\n",
        "\n",
        "Creare una variabile eta_attuale e assegnargli il valore dell'età che hai attualmente, calcolandola in base all'anno corrente. Mandare a schermo eta_attuale\n",
        "\n"
      ],
      "metadata": {
        "id": "2D85C_JZlXUp"
      }
    },
    {
      "cell_type": "code",
      "source": [
        "anno_di_nascita = 1999\n",
        "anno_corrente= 2025\n",
        "print(anno_corrente-anno_di_nascita)"
      ],
      "metadata": {
        "colab": {
          "base_uri": "https://localhost:8080/"
        },
        "id": "Cg99N5_4ldLM",
        "outputId": "40d76061-d46d-4ef5-e12e-7cf39c5f7c8e"
      },
      "execution_count": 21,
      "outputs": [
        {
          "output_type": "stream",
          "name": "stdout",
          "text": [
            "26\n"
          ]
        }
      ]
    },
    {
      "cell_type": "markdown",
      "source": [
        "**Esercizio 9**\n",
        "\n",
        "Dichiarare una variabile \"numero_intero\" e assegnargli un valore intero. Mandare a schermo il tipo della variabile per conferma"
      ],
      "metadata": {
        "id": "eH_W2BW2zJCZ"
      }
    },
    {
      "cell_type": "code",
      "source": [
        "numero = int(10)\n",
        "print(type(numero))\n"
      ],
      "metadata": {
        "colab": {
          "base_uri": "https://localhost:8080/"
        },
        "id": "dw3WOzymzKw4",
        "outputId": "64f00e8c-9cad-4f7f-9982-bcd9a31b00d4"
      },
      "execution_count": 32,
      "outputs": [
        {
          "output_type": "stream",
          "name": "stdout",
          "text": [
            "<class 'int'>\n"
          ]
        }
      ]
    },
    {
      "cell_type": "markdown",
      "source": [
        "\n",
        "\n",
        "---\n",
        "\n"
      ],
      "metadata": {
        "id": "I3BrPoiBz0Gp"
      }
    },
    {
      "cell_type": "markdown",
      "source": [
        "***Esercizio 10***\n",
        "\n",
        "Dichiarare una variabile \"numero_decimale\" e assegnargli un valore float. Mandare a schermo il tipo della variabile per conferma."
      ],
      "metadata": {
        "id": "Mg7hzO2Kzg8r"
      }
    },
    {
      "cell_type": "code",
      "source": [
        "numero_decimale = float(10.12345126424)\n",
        "print(type(numero_decimale))"
      ],
      "metadata": {
        "colab": {
          "base_uri": "https://localhost:8080/"
        },
        "id": "suSuEKLIzq0V",
        "outputId": "69a467c5-9407-44f0-f7f0-612173bf1424"
      },
      "execution_count": 33,
      "outputs": [
        {
          "output_type": "stream",
          "name": "stdout",
          "text": [
            "<class 'float'>\n"
          ]
        }
      ]
    },
    {
      "cell_type": "markdown",
      "source": [
        "\n",
        "\n",
        "---\n",
        "\n"
      ],
      "metadata": {
        "id": "K5tsp7SJz1aa"
      }
    },
    {
      "cell_type": "markdown",
      "source": [
        "**Esercizio 11**\n",
        "\n",
        "Creare una lista \"numeri\" contenente 5 numeri interi. Mandare a schermo il tipo della variabile per conferma."
      ],
      "metadata": {
        "id": "bIJ06UsW8yW5"
      }
    },
    {
      "cell_type": "code",
      "source": [
        "numeri = [1,2,3,4,5]\n",
        "print(type(numeri))"
      ],
      "metadata": {
        "colab": {
          "base_uri": "https://localhost:8080/"
        },
        "id": "t55-18op82V2",
        "outputId": "a3b96eaf-accd-4462-fab1-1941198d2702"
      },
      "execution_count": 34,
      "outputs": [
        {
          "output_type": "stream",
          "name": "stdout",
          "text": [
            "<class 'list'>\n"
          ]
        }
      ]
    },
    {
      "cell_type": "markdown",
      "source": [
        "\n",
        "\n",
        "---\n",
        "\n"
      ],
      "metadata": {
        "id": "O5YP9lfY88bM"
      }
    },
    {
      "cell_type": "markdown",
      "source": [
        "**Esercizio 12**\n",
        "\n",
        "Creare una lista \"misti\" contenente un numero intero, un numero float, una stringa e un valore booleano. Mandare a schermo il tipo della variabile per conferma."
      ],
      "metadata": {
        "id": "fnkuF4BY89gb"
      }
    },
    {
      "cell_type": "code",
      "source": [
        "misti = [1, 1.2, \"misti\", True]\n",
        "print(type(misti))"
      ],
      "metadata": {
        "colab": {
          "base_uri": "https://localhost:8080/"
        },
        "id": "6uiYYnQ_9FGx",
        "outputId": "66994138-d12f-4da0-9d44-38045923b94a"
      },
      "execution_count": 35,
      "outputs": [
        {
          "output_type": "stream",
          "name": "stdout",
          "text": [
            "<class 'list'>\n"
          ]
        }
      ]
    },
    {
      "cell_type": "markdown",
      "source": [
        "\n",
        "\n",
        "---\n",
        "\n"
      ],
      "metadata": {
        "id": "eaQP_CRd9XLz"
      }
    },
    {
      "cell_type": "markdown",
      "source": [
        "## **Differenze tra Tuple, Liste e Dizionari:**\n",
        "\n",
        "\n",
        "-Tuple: Sono immutabili. Una volta che una tupla è stata creata, non puoi modificarne gli elementi; vengono definite e richiamate con le \"()\"\n",
        "\n",
        "-Liste: Sono mutabili. Puoi aggiungere, rimuovere e modificare gli elementi in una lista; vengono definite e richiamate con le \"[]\"\n",
        "\n",
        "-Dizionari: Usano chiavi uniche per accedere ai valori. Sono mutabili. Puoi aggiungere, rimuovere e modificare le coppie chiave-valore; vengono definite e richiaamte con le \"{}\""
      ],
      "metadata": {
        "id": "6AHDU90N-q7T"
      }
    },
    {
      "cell_type": "markdown",
      "source": [
        "---"
      ],
      "metadata": {
        "id": "iaCkzPm6_PUT"
      }
    },
    {
      "cell_type": "markdown",
      "source": [
        "**Esercizio 13**\n",
        "\n",
        "Creare una tupla \"giorni_settimana\" contenente i giorni della settimana come stringhe. Mandare a schermo il tipo della variabile per conferma."
      ],
      "metadata": {
        "id": "FdO-6WJF9VTO"
      }
    },
    {
      "cell_type": "code",
      "source": [
        "giorni_settimana = (\"Lunedì\", \"Martedì\", \"Mercoledì\", \"Giovedì\", \"Venerdì\", \"Sabato\", \"Domenica\")\n",
        "print(type(giorni_settimana))\n",
        "print(giorni_settimana[1])\n",
        "print(giorni_settimana[0])"
      ],
      "metadata": {
        "colab": {
          "base_uri": "https://localhost:8080/"
        },
        "id": "ytpNhp1g9X6l",
        "outputId": "51e1d88c-2424-44df-a490-2495679cdd7e"
      },
      "execution_count": 46,
      "outputs": [
        {
          "output_type": "stream",
          "name": "stdout",
          "text": [
            "<class 'tuple'>\n",
            "Martedì\n",
            "Lunedì\n"
          ]
        }
      ]
    },
    {
      "cell_type": "markdown",
      "source": [
        "\n",
        "\n",
        "---\n",
        "\n"
      ],
      "metadata": {
        "id": "CyvBkxj7CesG"
      }
    },
    {
      "cell_type": "markdown",
      "source": [
        "**Esercizio 14**\n",
        "\n",
        "Creare un dizionario \"informazioni_personali\" contenente il tuo nome, cognome, età e città di residenza. Mandare a schermo il tipo della variabile per conferma."
      ],
      "metadata": {
        "id": "AUqmrGjm_Z8a"
      }
    },
    {
      "cell_type": "code",
      "source": [
        "informazioni_personali = {\"nome\": \"Marco\", \"cognome\": \"Montella\", \"età\": 26, \"citta\": \"Milano\"}\n",
        "print(type(informazioni_personali))\n",
        "print(\"Nome: \" + informazioni_personali[\"nome\"])\n",
        "print(\"Età: \" +str(informazioni_personali[\"età\"]))"
      ],
      "metadata": {
        "colab": {
          "base_uri": "https://localhost:8080/"
        },
        "id": "cBO4hANB_Zj9",
        "outputId": "4c8a886f-f407-42a2-bc6d-a137a4677dcb"
      },
      "execution_count": 43,
      "outputs": [
        {
          "output_type": "stream",
          "name": "stdout",
          "text": [
            "<class 'dict'>\n",
            "Nome: Marco\n",
            "Età: 26\n"
          ]
        }
      ]
    },
    {
      "cell_type": "markdown",
      "source": [
        "\n",
        "\n",
        "---\n",
        "\n"
      ],
      "metadata": {
        "id": "m9pCIlZEC4rH"
      }
    }
  ]
}

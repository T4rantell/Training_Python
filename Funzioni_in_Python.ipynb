{
  "nbformat": 4,
  "nbformat_minor": 0,
  "metadata": {
    "colab": {
      "provenance": [],
      "authorship_tag": "ABX9TyMTUr1GhuxUiq6iqNcM2Lut",
      "include_colab_link": true
    },
    "kernelspec": {
      "name": "python3",
      "display_name": "Python 3"
    },
    "language_info": {
      "name": "python"
    }
  },
  "cells": [
    {
      "cell_type": "markdown",
      "metadata": {
        "id": "view-in-github",
        "colab_type": "text"
      },
      "source": [
        "<a href=\"https://colab.research.google.com/github/T4rantell/Training_Python/blob/main/Funzioni_in_Python.ipynb\" target=\"_parent\"><img src=\"https://colab.research.google.com/assets/colab-badge.svg\" alt=\"Open In Colab\"/></a>"
      ]
    },
    {
      "cell_type": "code",
      "execution_count": null,
      "metadata": {
        "id": "atau_zCVRJ-g"
      },
      "outputs": [],
      "source": []
    },
    {
      "cell_type": "markdown",
      "source": [
        "##**Funzioni in Python**\n",
        "\n",
        "Vengono definite con \"def\", e richiamate utilizzando il nome che gli è stato assegnato.\n",
        "\n",
        "Le variabili definite all'interno di una funzione hanno scope locale. Non saranno richiamabili al di fuori delle funzioni stesse.\n",
        "\n",
        "Per avere variabili globali basterà definirle"
      ],
      "metadata": {
        "id": "GsXz0xXTEjK2"
      }
    },
    {
      "cell_type": "markdown",
      "source": [
        "###**Esercizi**\n",
        "\n",
        "\n"
      ],
      "metadata": {
        "id": "hxP6iKkngvGT"
      }
    },
    {
      "cell_type": "markdown",
      "source": [
        "**Esercizio 15**\n",
        "\n",
        "A) Definiamo una funzione \"stampa2volte\" che stampa a schermo 2 volte un valore passato come argomento. Richiamiamola.\n",
        "\n",
        "B) Definiamo una funzione stampa_unione, che concatena due valori passati come argomenti, e  li stampa a schermo separati da spazi. Richiamiamola."
      ],
      "metadata": {
        "id": "SL3NCuHeFGJa"
      }
    },
    {
      "cell_type": "markdown",
      "source": [
        "\n",
        "\n",
        "---\n",
        "\n"
      ],
      "metadata": {
        "id": "m9pCIlZEC4rH"
      }
    },
    {
      "cell_type": "code",
      "source": [
        "#A)\n",
        "def stampa2volte(valore):\n",
        "  print(valore, valore)\n",
        "\n",
        "stampa2volte(\"marco\")\n",
        "\n",
        "#B)\n",
        "def stampa_unione(valore, valore2):\n",
        "  unione= valore + \" \" + valore2\n",
        "  print(unione)\n",
        "\n",
        "stampa_unione(\"marco\", \"montella\")"
      ],
      "metadata": {
        "colab": {
          "base_uri": "https://localhost:8080/"
        },
        "id": "VKqNc2O0Fl3h",
        "outputId": "9efd6bf9-e2ff-45b6-b2e6-172a8ad0818e"
      },
      "execution_count": null,
      "outputs": [
        {
          "output_type": "stream",
          "name": "stdout",
          "text": [
            "marco marco\n",
            "marco montella\n"
          ]
        }
      ]
    },
    {
      "cell_type": "markdown",
      "source": [
        "---"
      ],
      "metadata": {
        "id": "CMCwt5SGKUzt"
      }
    },
    {
      "cell_type": "markdown",
      "source": [
        "## **Operatore Modulo \"%\"**\n",
        "Restituisce il resto della divisione tra 2 numeri;\n",
        "\n",
        "Molto utile per filtrare numeri pari e dispari:\n",
        "\n",
        "  \"numero_pari\" % 2 = 0\n",
        "\n",
        "  \"numero_dispari\" % 2 = 1"
      ],
      "metadata": {
        "id": "7ucMn6s4H6Pc"
      }
    },
    {
      "cell_type": "markdown",
      "source": [
        "### **Cicli \"for\", \"while\"; e condizioni \"if\", \"elif\" ed \"else\"**"
      ],
      "metadata": {
        "id": "eh-ZACw_LEFB"
      }
    },
    {
      "cell_type": "markdown",
      "source": [
        "###**Esercizi**"
      ],
      "metadata": {
        "id": "0z69qn5rhf20"
      }
    },
    {
      "cell_type": "markdown",
      "source": [
        "**Esercizio 16**\n",
        "\n",
        "Creiamo una variabile \"numeri\", contiene i numeri da 1 a 10.\n",
        "\n",
        "Stampiamo a schermo il valore di ogni numero, seguito da \"è pari\"/\"è dispari\"."
      ],
      "metadata": {
        "id": "125ulPDtKXjE"
      }
    },
    {
      "cell_type": "code",
      "source": [
        "numeri= range(0, 10)\n",
        "for i in numeri:\n",
        "  if i == 0:\n",
        "    print(f\"{i} è neutro\")\n",
        "  elif i % 2 == 0:\n",
        "    print(f\"{i} è pari\")\n",
        "  else:\n",
        "    print(f\"{i} è dispari\")\n"
      ],
      "metadata": {
        "colab": {
          "base_uri": "https://localhost:8080/"
        },
        "id": "_EPbVbBPIK7e",
        "outputId": "29f10904-b3ab-4bd4-e8b5-de12a922883c"
      },
      "execution_count": null,
      "outputs": [
        {
          "output_type": "stream",
          "name": "stdout",
          "text": [
            "0 è neutro\n",
            "1 è dispari\n",
            "2 è pari\n",
            "3 è dispari\n",
            "4 è pari\n",
            "5 è dispari\n",
            "6 è pari\n",
            "7 è dispari\n",
            "8 è pari\n",
            "9 è dispari\n"
          ]
        }
      ]
    },
    {
      "cell_type": "markdown",
      "source": [
        "---"
      ],
      "metadata": {
        "id": "P0vl7TZjOUM0"
      }
    },
    {
      "cell_type": "markdown",
      "source": [
        "**Esercizio 17**\n",
        "\n",
        "Scrivi una funzione che confronta i valori x e y: restituisce true se uguali, false se diversi"
      ],
      "metadata": {
        "id": "GafbYOYIOHT6"
      }
    },
    {
      "cell_type": "code",
      "source": [
        "x = 5\n",
        "y = 5\n",
        "\n",
        "def confronta(x, y):\n",
        "\n",
        "  if x==y:\n",
        "    return True\n",
        "  else:\n",
        "    return False\n",
        "\n",
        "uguali = confronta(x, y)\n",
        "print(\" x ed y sono uguali: \" + str(uguali))"
      ],
      "metadata": {
        "id": "6S3Pb4RVOVA9",
        "colab": {
          "base_uri": "https://localhost:8080/"
        },
        "outputId": "ae3bdd1d-581e-4303-9c4f-b69bfc3f672e"
      },
      "execution_count": null,
      "outputs": [
        {
          "output_type": "stream",
          "name": "stdout",
          "text": [
            " x ed y sono uguali: True\n"
          ]
        }
      ]
    },
    {
      "cell_type": "markdown",
      "source": [
        "\n",
        "\n",
        "---\n",
        "\n"
      ],
      "metadata": {
        "id": "AcQanYzgCQpN"
      }
    },
    {
      "cell_type": "markdown",
      "source": [
        "###**Operatore return**\n",
        "\n",
        "L'operatore \"return\" permette di terminare l'esecuzione di un programma in maniera prematura quando si verificano delle condizioni."
      ],
      "metadata": {
        "id": "VDWh6Hj3sJMV"
      }
    },
    {
      "cell_type": "markdown",
      "source": [
        "**Esercizio** 18\n",
        "\n",
        "Scrivi una funzione Log che accetta solo numeri positivi, e ne calcola il logaritmo."
      ],
      "metadata": {
        "id": "xWYGM-PvsZyh"
      }
    },
    {
      "cell_type": "code",
      "source": [
        "import math\n",
        "\n",
        "numero = input(\"Inserisci un numero: \")\n",
        "x = float(numero)\n",
        "\n",
        "\n",
        "def log (x):\n",
        "  if  x <= 0:\n",
        "    print(\"inserire un valore positivo per x\")\n",
        "    return\n",
        "  else:\n",
        "    return math.log(x)\n",
        "\n",
        "print(log(x))"
      ],
      "metadata": {
        "colab": {
          "base_uri": "https://localhost:8080/",
          "height": 356
        },
        "id": "nhscqtVCs1Pn",
        "outputId": "955300a1-f0fa-4000-997d-1385496e96b5"
      },
      "execution_count": null,
      "outputs": [
        {
          "output_type": "error",
          "ename": "KeyboardInterrupt",
          "evalue": "Interrupted by user",
          "traceback": [
            "\u001b[0;31m---------------------------------------------------------------------------\u001b[0m",
            "\u001b[0;31mKeyboardInterrupt\u001b[0m                         Traceback (most recent call last)",
            "\u001b[0;32m<ipython-input-3-926b45959a27>\u001b[0m in \u001b[0;36m<cell line: 0>\u001b[0;34m()\u001b[0m\n\u001b[1;32m      1\u001b[0m \u001b[0;32mimport\u001b[0m \u001b[0mmath\u001b[0m\u001b[0;34m\u001b[0m\u001b[0;34m\u001b[0m\u001b[0m\n\u001b[1;32m      2\u001b[0m \u001b[0;34m\u001b[0m\u001b[0m\n\u001b[0;32m----> 3\u001b[0;31m \u001b[0mnumero\u001b[0m \u001b[0;34m=\u001b[0m \u001b[0minput\u001b[0m\u001b[0;34m(\u001b[0m\u001b[0;34m\"Inserisci un numero: \"\u001b[0m\u001b[0;34m)\u001b[0m\u001b[0;34m\u001b[0m\u001b[0;34m\u001b[0m\u001b[0m\n\u001b[0m\u001b[1;32m      4\u001b[0m \u001b[0mx\u001b[0m \u001b[0;34m=\u001b[0m \u001b[0mfloat\u001b[0m\u001b[0;34m(\u001b[0m\u001b[0mnumero\u001b[0m\u001b[0;34m)\u001b[0m\u001b[0;34m\u001b[0m\u001b[0;34m\u001b[0m\u001b[0m\n\u001b[1;32m      5\u001b[0m \u001b[0;34m\u001b[0m\u001b[0m\n",
            "\u001b[0;32m/usr/local/lib/python3.11/dist-packages/ipykernel/kernelbase.py\u001b[0m in \u001b[0;36mraw_input\u001b[0;34m(self, prompt)\u001b[0m\n\u001b[1;32m   1175\u001b[0m                 \u001b[0;34m\"raw_input was called, but this frontend does not support input requests.\"\u001b[0m\u001b[0;34m\u001b[0m\u001b[0;34m\u001b[0m\u001b[0m\n\u001b[1;32m   1176\u001b[0m             )\n\u001b[0;32m-> 1177\u001b[0;31m         return self._input_request(\n\u001b[0m\u001b[1;32m   1178\u001b[0m             \u001b[0mstr\u001b[0m\u001b[0;34m(\u001b[0m\u001b[0mprompt\u001b[0m\u001b[0;34m)\u001b[0m\u001b[0;34m,\u001b[0m\u001b[0;34m\u001b[0m\u001b[0;34m\u001b[0m\u001b[0m\n\u001b[1;32m   1179\u001b[0m             \u001b[0mself\u001b[0m\u001b[0;34m.\u001b[0m\u001b[0m_parent_ident\u001b[0m\u001b[0;34m[\u001b[0m\u001b[0;34m\"shell\"\u001b[0m\u001b[0;34m]\u001b[0m\u001b[0;34m,\u001b[0m\u001b[0;34m\u001b[0m\u001b[0;34m\u001b[0m\u001b[0m\n",
            "\u001b[0;32m/usr/local/lib/python3.11/dist-packages/ipykernel/kernelbase.py\u001b[0m in \u001b[0;36m_input_request\u001b[0;34m(self, prompt, ident, parent, password)\u001b[0m\n\u001b[1;32m   1217\u001b[0m             \u001b[0;32mexcept\u001b[0m \u001b[0mKeyboardInterrupt\u001b[0m\u001b[0;34m:\u001b[0m\u001b[0;34m\u001b[0m\u001b[0;34m\u001b[0m\u001b[0m\n\u001b[1;32m   1218\u001b[0m                 \u001b[0;31m# re-raise KeyboardInterrupt, to truncate traceback\u001b[0m\u001b[0;34m\u001b[0m\u001b[0;34m\u001b[0m\u001b[0m\n\u001b[0;32m-> 1219\u001b[0;31m                 \u001b[0;32mraise\u001b[0m \u001b[0mKeyboardInterrupt\u001b[0m\u001b[0;34m(\u001b[0m\u001b[0;34m\"Interrupted by user\"\u001b[0m\u001b[0;34m)\u001b[0m \u001b[0;32mfrom\u001b[0m \u001b[0;32mNone\u001b[0m\u001b[0;34m\u001b[0m\u001b[0;34m\u001b[0m\u001b[0m\n\u001b[0m\u001b[1;32m   1220\u001b[0m             \u001b[0;32mexcept\u001b[0m \u001b[0mException\u001b[0m\u001b[0;34m:\u001b[0m\u001b[0;34m\u001b[0m\u001b[0;34m\u001b[0m\u001b[0m\n\u001b[1;32m   1221\u001b[0m                 \u001b[0mself\u001b[0m\u001b[0;34m.\u001b[0m\u001b[0mlog\u001b[0m\u001b[0;34m.\u001b[0m\u001b[0mwarning\u001b[0m\u001b[0;34m(\u001b[0m\u001b[0;34m\"Invalid Message:\"\u001b[0m\u001b[0;34m,\u001b[0m \u001b[0mexc_info\u001b[0m\u001b[0;34m=\u001b[0m\u001b[0;32mTrue\u001b[0m\u001b[0;34m)\u001b[0m\u001b[0;34m\u001b[0m\u001b[0;34m\u001b[0m\u001b[0m\n",
            "\u001b[0;31mKeyboardInterrupt\u001b[0m: Interrupted by user"
          ]
        }
      ]
    },
    {
      "cell_type": "markdown",
      "source": [
        "\n",
        "\n",
        "---\n",
        "\n"
      ],
      "metadata": {
        "id": "GPCAjBLgCPig"
      }
    },
    {
      "cell_type": "markdown",
      "source": [
        "###**Altri esercizi**"
      ],
      "metadata": {
        "id": "5GjIE50cTRN7"
      }
    },
    {
      "cell_type": "markdown",
      "source": [
        "**Esercizio 19**\n",
        "\n",
        "Scrivi una funzione \"fibonacci\" che dato un numero \"n\", restituisce solo i primi \"n\" numeri della serie di Fibonacci."
      ],
      "metadata": {
        "id": "gSbheI5m_zn2"
      }
    },
    {
      "cell_type": "code",
      "source": [
        "# Input utente\n",
        "numero = input(\"Inserisci un numero: \")\n",
        "n = int(numero)\n",
        "\n",
        "def fibonacci(n):\n",
        "    serie = [0, 1]  # Inizializza la lista con i primi due numeri di Fibonacci\n",
        "    for i in range(2, n):\n",
        "        serie.append(serie[i - 1] + serie[i - 2])  # Aggiunge il nuovo numero\n",
        "    return serie[:n]  # Restituisce solo i primi 'n' numeri della sequenza\n",
        "\n",
        "\n",
        "# Output della serie di Fibonacci fino a n\n",
        "print(fibonacci(n))"
      ],
      "metadata": {
        "colab": {
          "base_uri": "https://localhost:8080/"
        },
        "id": "tw8mAIGkAtxj",
        "outputId": "b427a53e-1191-4792-b81f-cc1cc2c3aa88"
      },
      "execution_count": null,
      "outputs": [
        {
          "output_type": "stream",
          "name": "stdout",
          "text": [
            "Inserisci un numero: 2\n",
            "[0, 1]\n"
          ]
        }
      ]
    },
    {
      "cell_type": "markdown",
      "source": [
        "**Esercizio 20**\n",
        "\n",
        "Utilizzo di \"range()\" in Python."
      ],
      "metadata": {
        "id": "a7PBQJZwEktY"
      }
    },
    {
      "cell_type": "code",
      "source": [
        "numeri = list(range(0,10))\n",
        "print(numeri)"
      ],
      "metadata": {
        "id": "UOI3RoCSCyqx"
      },
      "execution_count": null,
      "outputs": []
    },
    {
      "cell_type": "code",
      "source": [
        "for i in range(0, 10):\n",
        "  print(i, end = \" \")"
      ],
      "metadata": {
        "id": "bmHzpEABEXcn"
      },
      "execution_count": null,
      "outputs": []
    },
    {
      "cell_type": "markdown",
      "source": [
        "\n",
        "\n",
        "---\n",
        "\n"
      ],
      "metadata": {
        "id": "bUxIVpl0xTo-"
      }
    },
    {
      "cell_type": "markdown",
      "source": [
        "**Esercizio 20**\n",
        "\n",
        "Scrivi una funzione che prende una stringa e restituisce la stringa invertita."
      ],
      "metadata": {
        "id": "FczkQc1-xPZ9"
      }
    },
    {
      "cell_type": "code",
      "source": [
        "testo = input(\"Inserisci un testo: \")\n",
        "\n",
        "def inverti(testo):\n",
        "  return testo[::-1]\n",
        "\n",
        "print(inverti(testo))"
      ],
      "metadata": {
        "colab": {
          "base_uri": "https://localhost:8080/"
        },
        "id": "it9AfXYHxUWm",
        "outputId": "f5016d89-3f32-4574-f1c4-e5f96587fc67"
      },
      "execution_count": 38,
      "outputs": [
        {
          "output_type": "stream",
          "name": "stdout",
          "text": [
            "Inserisci un testo: marco\n",
            "ocram\n"
          ]
        }
      ]
    },
    {
      "cell_type": "markdown",
      "source": [
        "**Esercizio 21**\n",
        "\n",
        "Scrivi una funzione che prende una lista di parole e restituisce una lista contenente solo le parole che iniziano con una lettera specificata."
      ],
      "metadata": {
        "id": "yyAI1jbiyUml"
      }
    },
    {
      "cell_type": "code",
      "source": [
        "def filtra_parole(lista, lettera):\n",
        "  risultato = []\n",
        "  for parola in lista:\n",
        "    if parola[0] == lettera:\n",
        "      risultato.append(parola)\n",
        "  return risultato\n",
        "\n",
        "lista = list(input(\"Inserisci una lista di parole separate da uno spazio: \").split())\n",
        "lettera = input(\"Inserisci una lettera: \")\n",
        "\n",
        "parole_filtrate = filtra_parole(lista, lettera)\n",
        "print(parole_filtrate)"
      ],
      "metadata": {
        "colab": {
          "base_uri": "https://localhost:8080/"
        },
        "id": "YrY51hq6yaF4",
        "outputId": "14480a83-e3bc-4972-b412-3beb7159d2b1"
      },
      "execution_count": 10,
      "outputs": [
        {
          "output_type": "stream",
          "name": "stdout",
          "text": [
            "Inserisci una lista di parole separate da uno spazio: casa marco\n",
            "Inserisci una lettera: m\n",
            "['marco']\n"
          ]
        }
      ]
    },
    {
      "cell_type": "code",
      "source": [
        "def filtra_parole(lista, lettera):\n",
        "  risultato = []\n",
        "  for parola in lista:\n",
        "    if parola.startswith(lettera):\n",
        "      risultato.append(parola)\n",
        "  return risultato\n",
        "\n",
        "lista = list(input(\"Inserisci una lista di parole separate da uno spazio: \").split())\n",
        "lettera = input(\"Inserisci una lettera: \")\n",
        "\n",
        "parole_filtrate = filtra_parole(lista, lettera)\n",
        "print(parole_filtrate)"
      ],
      "metadata": {
        "colab": {
          "base_uri": "https://localhost:8080/"
        },
        "id": "QCpMdn0g1EW8",
        "outputId": "f3a7ad0b-cc5c-4d3a-c72f-4e8b37b534bf"
      },
      "execution_count": 12,
      "outputs": [
        {
          "output_type": "stream",
          "name": "stdout",
          "text": [
            "Inserisci una lista di parole separate da uno spazio: kiwi mela\n",
            "Inserisci una lettera: m\n",
            "['mela']\n"
          ]
        }
      ]
    },
    {
      "cell_type": "markdown",
      "source": [
        "\n",
        "\n",
        "---\n",
        "\n"
      ],
      "metadata": {
        "id": "o5V3hMM02nZd"
      }
    },
    {
      "cell_type": "markdown",
      "source": [
        "**Esercizio 22**\n",
        "\n",
        "Scrivi una funzione che prende una lista di numeri e restituisce una lista contenente solo i numeri pari."
      ],
      "metadata": {
        "id": "v5aSjlyD1Yh5"
      }
    },
    {
      "cell_type": "code",
      "source": [
        "def filtra_numeri(numeri):\n",
        "  risultato = []\n",
        "  for n in numeri:\n",
        "    if n % 2 == 0:\n",
        "      risultato.append(n)\n",
        "    return (risultato)\n",
        "\n",
        "numeri = list(int(input(\"Inserisci una lista di numeri separati da uno spazio: \").)split())\n",
        "numeri_pari = filtra_numeri(numeri)\n",
        "print(numeri_pari)"
      ],
      "metadata": {
        "colab": {
          "base_uri": "https://localhost:8080/",
          "height": 108
        },
        "id": "HEAYeopS1bon",
        "outputId": "8da0923a-76fe-4af3-f481-e24f1dde73f3"
      },
      "execution_count": 17,
      "outputs": [
        {
          "output_type": "error",
          "ename": "SyntaxError",
          "evalue": "invalid syntax (<ipython-input-17-9c83529addf2>, line 8)",
          "traceback": [
            "\u001b[0;36m  File \u001b[0;32m\"<ipython-input-17-9c83529addf2>\"\u001b[0;36m, line \u001b[0;32m8\u001b[0m\n\u001b[0;31m    numeri = list(int(input(\"Inserisci una lista di numeri separati da uno spazio: \").)split())\u001b[0m\n\u001b[0m                                                                                      ^\u001b[0m\n\u001b[0;31mSyntaxError\u001b[0m\u001b[0;31m:\u001b[0m invalid syntax\n"
          ]
        }
      ]
    },
    {
      "cell_type": "code",
      "source": [
        "def filtra_numeri(numeri):\n",
        "    risultato = []\n",
        "    for n in numeri:\n",
        "        if n % 2 == 0:\n",
        "            risultato.append(n)\n",
        "    return risultato  # Il return è fuori dal ciclo for\n",
        "\n",
        "# Input e conversione senza map()\n",
        "input_utente = input(\"Inserisci una lista di numeri separati da uno spazio: \")\n",
        "numeri = [int(n) for n in input_utente.split()]  # Conversione manuale\n",
        "\n",
        "# Chiamata della funzione e stampa del risultato\n",
        "numeri_pari = filtra_numeri(numeri)\n",
        "print(numeri_pari)"
      ],
      "metadata": {
        "id": "wj1avYdp2XVQ"
      },
      "execution_count": null,
      "outputs": []
    },
    {
      "cell_type": "markdown",
      "source": [
        "\n",
        "\n",
        "---\n",
        "\n"
      ],
      "metadata": {
        "id": "miPlOSRr2mjD"
      }
    },
    {
      "cell_type": "markdown",
      "source": [
        "**Esercizio 23**\n",
        "\n",
        "\n",
        "Scrivi una funzione che prende una lista di parole e restituisce una lista contenente la lunghezza di ciascuna parola."
      ],
      "metadata": {
        "id": "VqSHOe_a2GgU"
      }
    },
    {
      "cell_type": "code",
      "source": [
        "def lunghezza_parole(lista_parole):\n",
        "  risultato = []\n",
        "  for parola in lista_parole:\n",
        "    risultato.append(len(parola))\n",
        "  return risultato\n",
        "\n",
        "lista = [\"ciao\", \"come\", \"stai\", \"oggi\"]\n",
        "lunghezza_parole(lista)"
      ],
      "metadata": {
        "colab": {
          "base_uri": "https://localhost:8080/"
        },
        "id": "Bxyg9AKa2aEY",
        "outputId": "681003b2-f394-4538-ed93-fcb06b5f02b3"
      },
      "execution_count": 18,
      "outputs": [
        {
          "output_type": "execute_result",
          "data": {
            "text/plain": [
              "[4, 4, 4, 4]"
            ]
          },
          "metadata": {},
          "execution_count": 18
        }
      ]
    },
    {
      "cell_type": "markdown",
      "source": [
        "\n",
        "\n",
        "---\n",
        "\n"
      ],
      "metadata": {
        "id": "fU1g9Dhe2pM8"
      }
    },
    {
      "cell_type": "markdown",
      "source": [
        "**Esercizio 24**\n",
        "\n",
        "Scrivi una funzione che prende una lista di numeri e restituisce il valore massimo."
      ],
      "metadata": {
        "id": "AEiMkixd2iKD"
      }
    },
    {
      "cell_type": "code",
      "source": [
        "def massimo(numeri):\n",
        "  risultato = numeri[0]\n",
        "  for n in numeri:\n",
        "    if n > risultato:\n",
        "      risultato = n\n",
        "  return risultato\n",
        "\n",
        "input_utente = input(\"Inserisci una lista di numeri separati da uno spazio: \")\n",
        "#numeri = list(map(int, input(\"Inserisci una lista di numeri separati da uno spazio: \").split())) conversione automatica con \"map(int, input)\"\"\n",
        "numeri = [int(n) for n in input_utente.split()]  # Conversione manuale\n",
        "\n",
        "\n",
        "\n",
        "massimo = massimo(numeri)\n",
        "\n",
        "print(massimo)"
      ],
      "metadata": {
        "colab": {
          "base_uri": "https://localhost:8080/"
        },
        "id": "o5oZjaBY2hlL",
        "outputId": "abdd2aa2-9b86-4a60-fed2-ca1b50ec4077"
      },
      "execution_count": 20,
      "outputs": [
        {
          "output_type": "stream",
          "name": "stdout",
          "text": [
            "Inserisci una lista di numeri separati da uno spazio: 2 3 5 6 4 2 2 4 35 456 6 \n",
            "456\n"
          ]
        }
      ]
    },
    {
      "cell_type": "markdown",
      "source": [
        "**Prendiamo i primi 2 numeri più grandi ora:**"
      ],
      "metadata": {
        "id": "yj1Y3Rih58xR"
      }
    },
    {
      "cell_type": "code",
      "source": [
        "def massimo(numeri):\n",
        "  risultato1 = numeri[0]\n",
        "  risultato2 = risultato1\n",
        "  for n in numeri:\n",
        "    if n > risultato1:\n",
        "      risultato2 = risultato1\n",
        "      risultato1 = n\n",
        "    elif n > risultato2 and n != risultato1:\n",
        "      risultato2 = n\n",
        "  return risultato1, risultato2\n",
        "\n",
        "input_utente = input(\"Inserisci una lista di numeri separati da uno spazio: \")\n",
        "#numeri = list(map(int, input(\"Inserisci una lista di numeri separati da uno spazio: \").split())) conversione automatica con \"map(int, input)\"\"\n",
        "numeri = [int(n) for n in input_utente.split()]  # Conversione manuale\n",
        "\n",
        "\n",
        "\n",
        "massimo1, massimo2 = massimo(numeri)\n",
        "\n",
        "print(massimo1, massimo2)"
      ],
      "metadata": {
        "colab": {
          "base_uri": "https://localhost:8080/"
        },
        "id": "PCEU9FXZ4lkc",
        "outputId": "3d95e695-96ca-4d56-ce2b-dc5cee1ef99e"
      },
      "execution_count": 25,
      "outputs": [
        {
          "output_type": "stream",
          "name": "stdout",
          "text": [
            "Inserisci una lista di numeri separati da uno spazio: 213 2345 345 12 12 3 445 45 \n",
            "2345 445\n"
          ]
        }
      ]
    },
    {
      "cell_type": "markdown",
      "source": [
        "**Esercizio 24**\n",
        "\n",
        "Scrivi una funzione che prende una lista di parole e restituisce la parola più lunga."
      ],
      "metadata": {
        "id": "0xHxHmL456FM"
      }
    },
    {
      "cell_type": "code",
      "source": [
        "def parola_L(parole):\n",
        "  risultato = \"\"\n",
        "  for parola in parole:\n",
        "    if len(parola) > len(risultato):\n",
        "      risultato = parola\n",
        "  return risultato\n",
        "\n",
        "\n",
        "parole = list(input(\"Inserire una lista di parole separate da spazio: \").split())\n",
        "\n",
        "parola_più_lunga = parola_L(parole)\n",
        "\n",
        "print(\"La parola più lunga è: \", parola_più_lunga)"
      ],
      "metadata": {
        "colab": {
          "base_uri": "https://localhost:8080/"
        },
        "id": "qNhDQh-C6An_",
        "outputId": "bf9a5b98-0177-45b7-d8fe-ec681cec4e30"
      },
      "execution_count": 31,
      "outputs": [
        {
          "output_type": "stream",
          "name": "stdout",
          "text": [
            "Inserire una lista di parole separate da spazio: a aa aaaa aa\n",
            "La parola più lunga è:  ['aa']\n"
          ]
        }
      ]
    },
    {
      "cell_type": "code",
      "source": [
        "def parola_L(parole):\n",
        "  risultato = [parole[0]]\n",
        "  for parola in parole:\n",
        "    if len(parola) > len(risultato[0]):\n",
        "      risultato = [parola]\n",
        "    elif len(parola) == len(risultato[0]):\n",
        "      risultato.append(parola)\n",
        "  return risultato\n",
        "\n",
        "\n",
        "parole = list(input(\"Inserire una lista di parole separate da spazio: \").split())\n",
        "\n",
        "parola_più_lunga = parola_L(parole)\n",
        "\n",
        "print(\"La parola più lunga è: \", parola_più_lunga)"
      ],
      "metadata": {
        "colab": {
          "base_uri": "https://localhost:8080/"
        },
        "id": "JHKtchjH810K",
        "outputId": "cad83ee7-43ef-4547-b9b4-71dddee18d17"
      },
      "execution_count": 35,
      "outputs": [
        {
          "output_type": "stream",
          "name": "stdout",
          "text": [
            "Inserire una lista di parole separate da spazio: aa aa aaa aaa\n",
            "La parola più lunga è:  ['aaa', 'aaa']\n"
          ]
        }
      ]
    },
    {
      "cell_type": "markdown",
      "source": [
        "\n",
        "\n",
        "---\n",
        "\n"
      ],
      "metadata": {
        "id": "MqUoFqD6_hJa"
      }
    },
    {
      "cell_type": "markdown",
      "source": [
        "**Esercizio 25**\n",
        "\n",
        "Scrivi una funzione che prende una lista di numeri e restituisce la media dei numeri.\n",
        "\n"
      ],
      "metadata": {
        "id": "i3aTgoF5_h2d"
      }
    },
    {
      "cell_type": "code",
      "source": [
        "def media(numeri):\n",
        "  somma = 0\n",
        "  for n in numeri:\n",
        "    somma += n\n",
        "  return somma / len(numeri)\n",
        "\n",
        "input_utente = input(\"Inserisci una lista di numeri separati da uno spazio: \")\n",
        "#numeri = list(map(int, input(\"Inserisci una lista di numeri separati da uno spazio: \").split())) conversione automatica con \"map(int, input)\"\"\n",
        "numeri = [int(n) for n in input_utente.split()]  # Conversione manuale\n",
        "\n",
        "media = media(numeri)\n",
        "\n",
        "print(media)"
      ],
      "metadata": {
        "colab": {
          "base_uri": "https://localhost:8080/"
        },
        "id": "La1oOmVW_oAA",
        "outputId": "00ad2093-13d8-4343-dd6a-bae89a0c6de2"
      },
      "execution_count": 37,
      "outputs": [
        {
          "output_type": "stream",
          "name": "stdout",
          "text": [
            "Inserisci una lista di numeri separati da uno spazio: 1 2 3 4 \n",
            "2.5\n"
          ]
        }
      ]
    },
    {
      "cell_type": "markdown",
      "source": [
        "**Esercizio 26**\n",
        "\n",
        "Scrivi una funzione che prende una lista di parole e restituisce una lista contenente solo le parole palindrome.\n",
        "\n"
      ],
      "metadata": {
        "id": "0T9YH2fJCmkA"
      }
    },
    {
      "cell_type": "code",
      "source": [
        "\n",
        "def restituisci_palindromi(parole):\n",
        "  risultato = []\n",
        "  for parola in parole:\n",
        "    if parola == parola[::-1]:\n",
        "      risultato.append(parola)\n",
        "  return risultato\n",
        "\n",
        "\n",
        "\n",
        "parole = input(\"Inserisci una lista di parole separate da spazi: \").split()\n",
        "palindromi = restituisci_palindromi(parole)\n",
        "print(palindromi)"
      ],
      "metadata": {
        "colab": {
          "base_uri": "https://localhost:8080/"
        },
        "id": "SQV0e-CxCwmY",
        "outputId": "4c7b6cff-b901-4789-98a3-07c095dcda97"
      },
      "execution_count": 43,
      "outputs": [
        {
          "output_type": "stream",
          "name": "stdout",
          "text": [
            "Inserisci una lista di parole separate da spazi: apa ipi opoewopepqwe pop\n",
            "['apa', 'ipi', 'pop']\n"
          ]
        }
      ]
    },
    {
      "cell_type": "code",
      "source": [
        "\n",
        "def restituisci_palindromi(parole):\n",
        "\n",
        "  risultato = []\n",
        "\n",
        "  while parole:\n",
        "    parola = parole.pop(0)\n",
        "    parola_inversa = parola[::-1]\n",
        "    if parola == parola_inversa:\n",
        "      risultato.append(parola)\n",
        "  return risultato\n",
        "\n",
        "  #for parola in parole:\n",
        "   # if parola == parola[::-1]:\n",
        "    #  risultato.append(parola)\n",
        "  #return risultato\n",
        "\n",
        "\n",
        "\n",
        "parole = input(\"Inserisci una lista di parole separate da spazi: \").split()\n",
        "palindromi = restituisci_palindromi(parole)\n",
        "print(palindromi)"
      ],
      "metadata": {
        "colab": {
          "base_uri": "https://localhost:8080/"
        },
        "id": "SMW2IFloEHyg",
        "outputId": "a4227fdd-c9f0-406b-c0dd-35705b9e38ad"
      },
      "execution_count": 44,
      "outputs": [
        {
          "output_type": "stream",
          "name": "stdout",
          "text": [
            "Inserisci una lista di parole separate da spazi: bib plip bob\n",
            "['bib', 'bob']\n"
          ]
        }
      ]
    },
    {
      "cell_type": "markdown",
      "source": [
        "**Esercizio 27**\n",
        "\n",
        "Scrivi una funzione che prende una lista di numeri e restituisce una lista contenente solo i numeri maggiori di un valore specificato."
      ],
      "metadata": {
        "id": "_m9pCEVfLSMw"
      }
    },
    {
      "cell_type": "code",
      "source": [
        "\n",
        "def più_grandi(numeri, n):\n",
        "  risultato = []\n",
        "  for numero in numeri:\n",
        "    if numero > n:\n",
        "      risultato.append(numero)\n",
        "  return risultato\n",
        "\n",
        "\n",
        "input_utente = input(\"Inserisci una lista di numeri separati da uno spazio: \")\n",
        "#numeri = list(map(int, input(\"Inserisci una lista di numeri separati da uno spazio: \").split())) conversione automatica con \"map(int, input)\"\"\n",
        "numeri = [int(n) for n in input_utente.split()]  # Conversione manuale\n",
        "\n",
        "n = int(input(\"Inserisci un numero: \"))\n",
        "\n",
        "numeri_più_grandi = più_grandi(numeri, n)\n",
        "\n",
        "print(numeri_più_grandi)"
      ],
      "metadata": {
        "colab": {
          "base_uri": "https://localhost:8080/"
        },
        "id": "1wj5X4A2LYmr",
        "outputId": "0e5ef5c1-c502-4ee4-9a37-72d9672055a8"
      },
      "execution_count": 45,
      "outputs": [
        {
          "output_type": "stream",
          "name": "stdout",
          "text": [
            "Inserisci una lista di numeri separati da uno spazio: 1 2 3 4 5 6 7 8 \n",
            "Inserisci un numero: 3\n",
            "[4, 5, 6, 7, 8]\n"
          ]
        }
      ]
    }
  ]
}
{
  "nbformat": 4,
  "nbformat_minor": 0,
  "metadata": {
    "colab": {
      "provenance": [],
      "authorship_tag": "ABX9TyOMEZKLTyMDWOyNAegjEB4I",
      "include_colab_link": true
    },
    "kernelspec": {
      "name": "python3",
      "display_name": "Python 3"
    },
    "language_info": {
      "name": "python"
    }
  },
  "cells": [
    {
      "cell_type": "markdown",
      "metadata": {
        "id": "view-in-github",
        "colab_type": "text"
      },
      "source": [
        "<a href=\"https://colab.research.google.com/github/T4rantell/Training_Python/blob/main/Funzioni_in_Python.ipynb\" target=\"_parent\"><img src=\"https://colab.research.google.com/assets/colab-badge.svg\" alt=\"Open In Colab\"/></a>"
      ]
    },
    {
      "cell_type": "code",
      "execution_count": null,
      "metadata": {
        "id": "atau_zCVRJ-g"
      },
      "outputs": [],
      "source": []
    },
    {
      "cell_type": "markdown",
      "source": [
        "##**Funzioni in Python**\n",
        "\n",
        "Vengono definite con \"def\", e richiamate utilizzando il nome che gli è stato assegnato.\n",
        "\n",
        "Le variabili definite all'interno di una funzione hanno scope locale. Non saranno richiamabili al di fuori delle funzioni stesse.\n",
        "\n",
        "Per avere variabili globali basterà definirle"
      ],
      "metadata": {
        "id": "GsXz0xXTEjK2"
      }
    },
    {
      "cell_type": "markdown",
      "source": [
        "###**Esercizi**\n",
        "\n",
        "\n"
      ],
      "metadata": {
        "id": "hxP6iKkngvGT"
      }
    },
    {
      "cell_type": "markdown",
      "source": [
        "**Esercizio 15**\n",
        "\n",
        "A) Definiamo una funzione \"stampa2volte\" che stampa a schermo 2 volte un valore passato come argomento. Richiamiamola.\n",
        "\n",
        "B) Definiamo una funzione stampa_unione, che concatena due valori passati come argomenti, e  li stampa a schermo separati da spazi. Richiamiamola."
      ],
      "metadata": {
        "id": "SL3NCuHeFGJa"
      }
    },
    {
      "cell_type": "markdown",
      "source": [
        "\n",
        "\n",
        "---\n",
        "\n"
      ],
      "metadata": {
        "id": "m9pCIlZEC4rH"
      }
    },
    {
      "cell_type": "code",
      "source": [
        "#A)\n",
        "def stampa2volte(valore):\n",
        "  print(valore, valore)\n",
        "\n",
        "stampa2volte(\"marco\")\n",
        "\n",
        "#B)\n",
        "def stampa_unione(valore, valore2):\n",
        "  unione= valore + \" \" + valore2\n",
        "  print(unione)\n",
        "\n",
        "stampa_unione(\"marco\", \"montella\")"
      ],
      "metadata": {
        "colab": {
          "base_uri": "https://localhost:8080/"
        },
        "id": "VKqNc2O0Fl3h",
        "outputId": "9efd6bf9-e2ff-45b6-b2e6-172a8ad0818e"
      },
      "execution_count": null,
      "outputs": [
        {
          "output_type": "stream",
          "name": "stdout",
          "text": [
            "marco marco\n",
            "marco montella\n"
          ]
        }
      ]
    },
    {
      "cell_type": "markdown",
      "source": [
        "---"
      ],
      "metadata": {
        "id": "CMCwt5SGKUzt"
      }
    },
    {
      "cell_type": "markdown",
      "source": [
        "## **Operatore Modulo \"%\"**\n",
        "Restituisce il resto della divisione tra 2 numeri;\n",
        "\n",
        "Molto utile per filtrare numeri pari e dispari:\n",
        "\n",
        "  \"numero_pari\" % 2 = 0\n",
        "\n",
        "  \"numero_dispari\" % 2 = 1"
      ],
      "metadata": {
        "id": "7ucMn6s4H6Pc"
      }
    },
    {
      "cell_type": "markdown",
      "source": [
        "### **Cicli \"for\", \"while\"; e condizioni \"if\", \"elif\" ed \"else\"**"
      ],
      "metadata": {
        "id": "eh-ZACw_LEFB"
      }
    },
    {
      "cell_type": "markdown",
      "source": [
        "###**Esercizi**"
      ],
      "metadata": {
        "id": "0z69qn5rhf20"
      }
    },
    {
      "cell_type": "markdown",
      "source": [
        "**Esercizio 16**\n",
        "\n",
        "Creiamo una variabile \"numeri\", contiene i numeri da 1 a 10.\n",
        "\n",
        "Stampiamo a schermo il valore di ogni numero, seguito da \"è pari\"/\"è dispari\"."
      ],
      "metadata": {
        "id": "125ulPDtKXjE"
      }
    },
    {
      "cell_type": "code",
      "source": [
        "numeri= range(0, 10)\n",
        "for i in numeri:\n",
        "  if i == 0:\n",
        "    print(f\"{i} è neutro\")\n",
        "  elif i % 2 == 0:\n",
        "    print(f\"{i} è pari\")\n",
        "  else:\n",
        "    print(f\"{i} è dispari\")\n"
      ],
      "metadata": {
        "colab": {
          "base_uri": "https://localhost:8080/"
        },
        "id": "_EPbVbBPIK7e",
        "outputId": "29f10904-b3ab-4bd4-e8b5-de12a922883c"
      },
      "execution_count": 1,
      "outputs": [
        {
          "output_type": "stream",
          "name": "stdout",
          "text": [
            "0 è neutro\n",
            "1 è dispari\n",
            "2 è pari\n",
            "3 è dispari\n",
            "4 è pari\n",
            "5 è dispari\n",
            "6 è pari\n",
            "7 è dispari\n",
            "8 è pari\n",
            "9 è dispari\n"
          ]
        }
      ]
    },
    {
      "cell_type": "markdown",
      "source": [
        "---"
      ],
      "metadata": {
        "id": "P0vl7TZjOUM0"
      }
    },
    {
      "cell_type": "markdown",
      "source": [
        "**Esercizio 17**\n",
        "\n",
        "Scrivi una funzione che confronta i valori x e y: restituisce true se uguali, false se diversi"
      ],
      "metadata": {
        "id": "GafbYOYIOHT6"
      }
    },
    {
      "cell_type": "code",
      "source": [
        "x = 5\n",
        "y = 5\n",
        "\n",
        "def confronta(x, y):\n",
        "\n",
        "  if x==y:\n",
        "    return True\n",
        "  else:\n",
        "    return False\n",
        "\n",
        "uguali = confronta(x, y)\n",
        "print(\" x ed y sono uguali: \" + str(uguali))"
      ],
      "metadata": {
        "id": "6S3Pb4RVOVA9",
        "colab": {
          "base_uri": "https://localhost:8080/"
        },
        "outputId": "ae3bdd1d-581e-4303-9c4f-b69bfc3f672e"
      },
      "execution_count": 2,
      "outputs": [
        {
          "output_type": "stream",
          "name": "stdout",
          "text": [
            " x ed y sono uguali: True\n"
          ]
        }
      ]
    },
    {
      "cell_type": "markdown",
      "source": [
        "\n",
        "\n",
        "---\n",
        "\n"
      ],
      "metadata": {
        "id": "AcQanYzgCQpN"
      }
    },
    {
      "cell_type": "markdown",
      "source": [
        "###**Operatore return**\n",
        "\n",
        "L'operatore \"return\" permette di terminare l'esecuzione di un programma in maniera prematura quando si verificano delle condizioni."
      ],
      "metadata": {
        "id": "VDWh6Hj3sJMV"
      }
    },
    {
      "cell_type": "markdown",
      "source": [
        "**Esercizio** 18\n",
        "\n",
        "Scrivi una funzione Log che accetta solo numeri positivi, e ne calcola il logaritmo."
      ],
      "metadata": {
        "id": "xWYGM-PvsZyh"
      }
    },
    {
      "cell_type": "code",
      "source": [
        "import math\n",
        "\n",
        "numero = input(\"Inserisci un numero: \")\n",
        "x = float(numero)\n",
        "\n",
        "\n",
        "def log (x):\n",
        "  if  x <= 0:\n",
        "    print(\"inserire un valore positivo per x\")\n",
        "    return\n",
        "  else:\n",
        "    return math.log(x)\n",
        "\n",
        "print(log(x))"
      ],
      "metadata": {
        "colab": {
          "base_uri": "https://localhost:8080/",
          "height": 356
        },
        "id": "nhscqtVCs1Pn",
        "outputId": "955300a1-f0fa-4000-997d-1385496e96b5"
      },
      "execution_count": 3,
      "outputs": [
        {
          "output_type": "error",
          "ename": "KeyboardInterrupt",
          "evalue": "Interrupted by user",
          "traceback": [
            "\u001b[0;31m---------------------------------------------------------------------------\u001b[0m",
            "\u001b[0;31mKeyboardInterrupt\u001b[0m                         Traceback (most recent call last)",
            "\u001b[0;32m<ipython-input-3-926b45959a27>\u001b[0m in \u001b[0;36m<cell line: 0>\u001b[0;34m()\u001b[0m\n\u001b[1;32m      1\u001b[0m \u001b[0;32mimport\u001b[0m \u001b[0mmath\u001b[0m\u001b[0;34m\u001b[0m\u001b[0;34m\u001b[0m\u001b[0m\n\u001b[1;32m      2\u001b[0m \u001b[0;34m\u001b[0m\u001b[0m\n\u001b[0;32m----> 3\u001b[0;31m \u001b[0mnumero\u001b[0m \u001b[0;34m=\u001b[0m \u001b[0minput\u001b[0m\u001b[0;34m(\u001b[0m\u001b[0;34m\"Inserisci un numero: \"\u001b[0m\u001b[0;34m)\u001b[0m\u001b[0;34m\u001b[0m\u001b[0;34m\u001b[0m\u001b[0m\n\u001b[0m\u001b[1;32m      4\u001b[0m \u001b[0mx\u001b[0m \u001b[0;34m=\u001b[0m \u001b[0mfloat\u001b[0m\u001b[0;34m(\u001b[0m\u001b[0mnumero\u001b[0m\u001b[0;34m)\u001b[0m\u001b[0;34m\u001b[0m\u001b[0;34m\u001b[0m\u001b[0m\n\u001b[1;32m      5\u001b[0m \u001b[0;34m\u001b[0m\u001b[0m\n",
            "\u001b[0;32m/usr/local/lib/python3.11/dist-packages/ipykernel/kernelbase.py\u001b[0m in \u001b[0;36mraw_input\u001b[0;34m(self, prompt)\u001b[0m\n\u001b[1;32m   1175\u001b[0m                 \u001b[0;34m\"raw_input was called, but this frontend does not support input requests.\"\u001b[0m\u001b[0;34m\u001b[0m\u001b[0;34m\u001b[0m\u001b[0m\n\u001b[1;32m   1176\u001b[0m             )\n\u001b[0;32m-> 1177\u001b[0;31m         return self._input_request(\n\u001b[0m\u001b[1;32m   1178\u001b[0m             \u001b[0mstr\u001b[0m\u001b[0;34m(\u001b[0m\u001b[0mprompt\u001b[0m\u001b[0;34m)\u001b[0m\u001b[0;34m,\u001b[0m\u001b[0;34m\u001b[0m\u001b[0;34m\u001b[0m\u001b[0m\n\u001b[1;32m   1179\u001b[0m             \u001b[0mself\u001b[0m\u001b[0;34m.\u001b[0m\u001b[0m_parent_ident\u001b[0m\u001b[0;34m[\u001b[0m\u001b[0;34m\"shell\"\u001b[0m\u001b[0;34m]\u001b[0m\u001b[0;34m,\u001b[0m\u001b[0;34m\u001b[0m\u001b[0;34m\u001b[0m\u001b[0m\n",
            "\u001b[0;32m/usr/local/lib/python3.11/dist-packages/ipykernel/kernelbase.py\u001b[0m in \u001b[0;36m_input_request\u001b[0;34m(self, prompt, ident, parent, password)\u001b[0m\n\u001b[1;32m   1217\u001b[0m             \u001b[0;32mexcept\u001b[0m \u001b[0mKeyboardInterrupt\u001b[0m\u001b[0;34m:\u001b[0m\u001b[0;34m\u001b[0m\u001b[0;34m\u001b[0m\u001b[0m\n\u001b[1;32m   1218\u001b[0m                 \u001b[0;31m# re-raise KeyboardInterrupt, to truncate traceback\u001b[0m\u001b[0;34m\u001b[0m\u001b[0;34m\u001b[0m\u001b[0m\n\u001b[0;32m-> 1219\u001b[0;31m                 \u001b[0;32mraise\u001b[0m \u001b[0mKeyboardInterrupt\u001b[0m\u001b[0;34m(\u001b[0m\u001b[0;34m\"Interrupted by user\"\u001b[0m\u001b[0;34m)\u001b[0m \u001b[0;32mfrom\u001b[0m \u001b[0;32mNone\u001b[0m\u001b[0;34m\u001b[0m\u001b[0;34m\u001b[0m\u001b[0m\n\u001b[0m\u001b[1;32m   1220\u001b[0m             \u001b[0;32mexcept\u001b[0m \u001b[0mException\u001b[0m\u001b[0;34m:\u001b[0m\u001b[0;34m\u001b[0m\u001b[0;34m\u001b[0m\u001b[0m\n\u001b[1;32m   1221\u001b[0m                 \u001b[0mself\u001b[0m\u001b[0;34m.\u001b[0m\u001b[0mlog\u001b[0m\u001b[0;34m.\u001b[0m\u001b[0mwarning\u001b[0m\u001b[0;34m(\u001b[0m\u001b[0;34m\"Invalid Message:\"\u001b[0m\u001b[0;34m,\u001b[0m \u001b[0mexc_info\u001b[0m\u001b[0;34m=\u001b[0m\u001b[0;32mTrue\u001b[0m\u001b[0;34m)\u001b[0m\u001b[0;34m\u001b[0m\u001b[0;34m\u001b[0m\u001b[0m\n",
            "\u001b[0;31mKeyboardInterrupt\u001b[0m: Interrupted by user"
          ]
        }
      ]
    },
    {
      "cell_type": "markdown",
      "source": [
        "\n",
        "\n",
        "---\n",
        "\n"
      ],
      "metadata": {
        "id": "GPCAjBLgCPig"
      }
    },
    {
      "cell_type": "markdown",
      "source": [
        "###**Altri esercizi**"
      ],
      "metadata": {
        "id": "5GjIE50cTRN7"
      }
    },
    {
      "cell_type": "markdown",
      "source": [
        "**Esercizio 19**\n",
        "\n",
        "Scrivi una funzione \"fibonacci\" che dato un numero \"n\", restituisce solo i primi \"n\" numeri della serie di Fibonacci."
      ],
      "metadata": {
        "id": "gSbheI5m_zn2"
      }
    },
    {
      "cell_type": "code",
      "source": [
        "# Input utente\n",
        "numero = input(\"Inserisci un numero: \")\n",
        "n = int(numero)\n",
        "\n",
        "def fibonacci(n):\n",
        "    serie = [0, 1]  # Inizializza la lista con i primi due numeri di Fibonacci\n",
        "    for i in range(2, n):\n",
        "        serie.append(serie[i - 1] + serie[i - 2])  # Aggiunge il nuovo numero\n",
        "    return serie[:n]  # Restituisce solo i primi 'n' numeri della sequenza\n",
        "\n",
        "\n",
        "# Output della serie di Fibonacci fino a n\n",
        "print(fibonacci(n))"
      ],
      "metadata": {
        "colab": {
          "base_uri": "https://localhost:8080/"
        },
        "id": "tw8mAIGkAtxj",
        "outputId": "b427a53e-1191-4792-b81f-cc1cc2c3aa88"
      },
      "execution_count": null,
      "outputs": [
        {
          "output_type": "stream",
          "name": "stdout",
          "text": [
            "Inserisci un numero: 2\n",
            "[0, 1]\n"
          ]
        }
      ]
    },
    {
      "cell_type": "markdown",
      "source": [
        "**Esercizio 20**\n",
        "\n",
        "Utilizzo di \"range()\" in Python."
      ],
      "metadata": {
        "id": "a7PBQJZwEktY"
      }
    },
    {
      "cell_type": "code",
      "source": [
        "numeri = list(range(0,10))\n",
        "print(numeri)"
      ],
      "metadata": {
        "id": "UOI3RoCSCyqx"
      },
      "execution_count": null,
      "outputs": []
    },
    {
      "cell_type": "code",
      "source": [
        "for i in range(0, 10):\n",
        "  print(i, end = \" \")"
      ],
      "metadata": {
        "id": "bmHzpEABEXcn"
      },
      "execution_count": null,
      "outputs": []
    }
  ]
}
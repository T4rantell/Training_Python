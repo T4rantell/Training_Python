{
  "nbformat": 4,
  "nbformat_minor": 0,
  "metadata": {
    "colab": {
      "provenance": [],
      "authorship_tag": "ABX9TyN4kiQ/RX7yl1Qh0dBs2W7/",
      "include_colab_link": true
    },
    "kernelspec": {
      "name": "python3",
      "display_name": "Python 3"
    },
    "language_info": {
      "name": "python"
    }
  },
  "cells": [
    {
      "cell_type": "markdown",
      "metadata": {
        "id": "view-in-github",
        "colab_type": "text"
      },
      "source": [
        "<a href=\"https://colab.research.google.com/github/T4rantell/Training_Python/blob/main/Funzioni_in_Python.ipynb\" target=\"_parent\"><img src=\"https://colab.research.google.com/assets/colab-badge.svg\" alt=\"Open In Colab\"/></a>"
      ]
    },
    {
      "cell_type": "code",
      "execution_count": null,
      "metadata": {
        "id": "atau_zCVRJ-g"
      },
      "outputs": [],
      "source": []
    },
    {
      "cell_type": "markdown",
      "source": [
        "##**Funzioni in Python**\n",
        "\n",
        "Vengono definite con \"def\", e richiamate utilizzando il nome che gli è stato assegnato.\n",
        "\n",
        "Le variabili definite all'interno di una funzione hanno scope locale. Non saranno richiamabili al di fuori delle funzioni stesse.\n",
        "\n",
        "Per avere variabili globali basterà definirle"
      ],
      "metadata": {
        "id": "GsXz0xXTEjK2"
      }
    },
    {
      "cell_type": "markdown",
      "source": [
        "###**Esercizi**\n",
        "\n",
        "\n"
      ],
      "metadata": {
        "id": "hxP6iKkngvGT"
      }
    },
    {
      "cell_type": "markdown",
      "source": [
        "**Esercizio 15**\n",
        "\n",
        "A) Definiamo una funzione \"stampa2volte\" che stampa a schermo 2 volte un valore passato come argomento. Richiamiamola.\n",
        "\n",
        "B) Definiamo una funzione stampa_unione, che concatena due valori passati come argomenti, e  li stampa a schermo separati da spazi. Richiamiamola."
      ],
      "metadata": {
        "id": "SL3NCuHeFGJa"
      }
    },
    {
      "cell_type": "markdown",
      "source": [
        "\n",
        "\n",
        "---\n",
        "\n"
      ],
      "metadata": {
        "id": "m9pCIlZEC4rH"
      }
    },
    {
      "cell_type": "code",
      "source": [
        "#A)\n",
        "def stampa2volte(valore):\n",
        "  print(valore, valore)\n",
        "\n",
        "stampa2volte(\"marco\")\n",
        "\n",
        "#B)\n",
        "def stampa_unione(valore, valore2):\n",
        "  unione= valore + \" \" + valore2\n",
        "  print(unione)\n",
        "\n",
        "stampa_unione(\"marco\", \"montella\")"
      ],
      "metadata": {
        "colab": {
          "base_uri": "https://localhost:8080/"
        },
        "id": "VKqNc2O0Fl3h",
        "outputId": "9efd6bf9-e2ff-45b6-b2e6-172a8ad0818e"
      },
      "execution_count": null,
      "outputs": [
        {
          "output_type": "stream",
          "name": "stdout",
          "text": [
            "marco marco\n",
            "marco montella\n"
          ]
        }
      ]
    },
    {
      "cell_type": "markdown",
      "source": [
        "---"
      ],
      "metadata": {
        "id": "CMCwt5SGKUzt"
      }
    },
    {
      "cell_type": "markdown",
      "source": [
        "## **Operatore Modulo \"%\"**\n",
        "Restituisce il resto della divisione tra 2 numeri;\n",
        "\n",
        "Molto utile per filtrare numeri pari e dispari:\n",
        "\n",
        "  \"numero_pari\" % 2 = 0\n",
        "\n",
        "  \"numero_dispari\" % 2 = 1"
      ],
      "metadata": {
        "id": "7ucMn6s4H6Pc"
      }
    },
    {
      "cell_type": "markdown",
      "source": [
        "## **Cicli \"for\", \"while\"; e condizioni \"if\", \"elif\" ed \"else\"**"
      ],
      "metadata": {
        "id": "eh-ZACw_LEFB"
      }
    },
    {
      "cell_type": "markdown",
      "source": [
        "###**Esercizi**"
      ],
      "metadata": {
        "id": "0z69qn5rhf20"
      }
    },
    {
      "cell_type": "markdown",
      "source": [
        "**Esercizio 16**\n",
        "\n",
        "Creiamo una variabile \"numeri\", contiene i numeri da 1 a 10.\n",
        "\n",
        "Stampiamo a schermo il valore di ogni numero, seguito da \"è pari\"/\"è dispari\"."
      ],
      "metadata": {
        "id": "125ulPDtKXjE"
      }
    },
    {
      "cell_type": "code",
      "source": [
        "numeri= range(0, 10)\n",
        "for i in numeri:\n",
        "  if i == 0:\n",
        "    print(f\"{i} è neutro\")\n",
        "  elif i % 2 == 0:\n",
        "    print(f\"{i} è pari\")\n",
        "  else:\n",
        "    print(f\"{i} è dispari\")\n"
      ],
      "metadata": {
        "colab": {
          "base_uri": "https://localhost:8080/"
        },
        "id": "_EPbVbBPIK7e",
        "outputId": "1ea2cd66-3425-4f51-8ed5-5946120362c0"
      },
      "execution_count": null,
      "outputs": [
        {
          "output_type": "stream",
          "name": "stdout",
          "text": [
            "0 è neutro\n",
            "1 è dispari\n",
            "2 è pari\n",
            "3 è dispari\n",
            "4 è pari\n",
            "5 è dispari\n",
            "6 è pari\n",
            "7 è dispari\n",
            "8 è pari\n",
            "9 è dispari\n"
          ]
        }
      ]
    },
    {
      "cell_type": "markdown",
      "source": [
        "---"
      ],
      "metadata": {
        "id": "P0vl7TZjOUM0"
      }
    },
    {
      "cell_type": "markdown",
      "source": [
        "**Esercizio 17**\n",
        "\n",
        "Scrivi una funzione che confronta i valori x e y: restituisce true se uguali, false se diversi"
      ],
      "metadata": {
        "id": "GafbYOYIOHT6"
      }
    },
    {
      "cell_type": "code",
      "source": [
        "x = 5\n",
        "y = 5\n",
        "\n",
        "def confronta(x, y):\n",
        "\n",
        "  if x==y:\n",
        "    return True\n",
        "  else:\n",
        "    return False\n",
        "\n",
        "uguali = confronta(x, y)\n",
        "print(\" x ed y sono uguali: \" + str(uguali))"
      ],
      "metadata": {
        "id": "6S3Pb4RVOVA9",
        "colab": {
          "base_uri": "https://localhost:8080/"
        },
        "outputId": "9c595522-0dee-4c6a-8dad-51dbdad735fc"
      },
      "execution_count": null,
      "outputs": [
        {
          "output_type": "stream",
          "name": "stdout",
          "text": [
            " x ed y sono uguali: True\n"
          ]
        }
      ]
    },
    {
      "cell_type": "markdown",
      "source": [
        "\n",
        "\n",
        "---\n",
        "\n"
      ],
      "metadata": {
        "id": "AcQanYzgCQpN"
      }
    },
    {
      "cell_type": "markdown",
      "source": [
        "###**Operatore return**\n",
        "\n",
        "L'operatore \"return\" permette di terminare l'esecuzione di un programma in maniera prematura quando si verificano delle condizioni."
      ],
      "metadata": {
        "id": "VDWh6Hj3sJMV"
      }
    },
    {
      "cell_type": "markdown",
      "source": [
        "Esercizio 18\n",
        "\n",
        "Scrivi una funzione Log che accetta solo numeri positivi, e ne calcola il logaritmo."
      ],
      "metadata": {
        "id": "xWYGM-PvsZyh"
      }
    },
    {
      "cell_type": "code",
      "source": [
        "import math\n",
        "\n",
        "numero = input(\"Inserisci un numero: \")\n",
        "x = float(numero)\n",
        "\n",
        "\n",
        "def log (x):\n",
        "  if  x <= 0:\n",
        "    print(\"inserire un valore positivo per x\")\n",
        "    return\n",
        "  else:\n",
        "    return math.log(x)\n",
        "\n",
        "print(log(x))"
      ],
      "metadata": {
        "colab": {
          "base_uri": "https://localhost:8080/"
        },
        "id": "nhscqtVCs1Pn",
        "outputId": "91055315-e4c7-4b82-c0d7-0904726eb187"
      },
      "execution_count": null,
      "outputs": [
        {
          "output_type": "stream",
          "name": "stdout",
          "text": [
            "Inserisci un numero: 0\n",
            "inserire un valore positivo per x\n",
            "None\n"
          ]
        }
      ]
    },
    {
      "cell_type": "markdown",
      "source": [
        "\n",
        "\n",
        "---\n",
        "\n"
      ],
      "metadata": {
        "id": "GPCAjBLgCPig"
      }
    }
  ]
}
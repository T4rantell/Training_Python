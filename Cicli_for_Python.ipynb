{
  "nbformat": 4,
  "nbformat_minor": 0,
  "metadata": {
    "colab": {
      "provenance": [],
      "authorship_tag": "ABX9TyOgaZyWJrGWZZ2TXP8Wi0m+",
      "include_colab_link": true
    },
    "kernelspec": {
      "name": "python3",
      "display_name": "Python 3"
    },
    "language_info": {
      "name": "python"
    }
  },
  "cells": [
    {
      "cell_type": "markdown",
      "metadata": {
        "id": "view-in-github",
        "colab_type": "text"
      },
      "source": [
        "<a href=\"https://colab.research.google.com/github/T4rantell/Training_Python/blob/main/Cicli_for_Python.ipynb\" target=\"_parent\"><img src=\"https://colab.research.google.com/assets/colab-badge.svg\" alt=\"Open In Colab\"/></a>"
      ]
    },
    {
      "cell_type": "code",
      "execution_count": null,
      "metadata": {
        "id": "FNsBbg3F8lcZ"
      },
      "outputs": [],
      "source": [
        "**Esercizio 1**\n",
        "\n",
        "Scrivere un programma che utilizzi un loop for per stampare ogni elemento di una lista."
      ]
    },
    {
      "cell_type": "code",
      "source": [
        "lista = [\"mela\", \"kiwi\", \"arancia\"]\n",
        "\n",
        "for i in lista:\n",
        "  print(i)"
      ],
      "metadata": {
        "colab": {
          "base_uri": "https://localhost:8080/"
        },
        "id": "hbgUrU3Z81zS",
        "outputId": "b4f464e3-2564-4769-b685-72611b842fc2"
      },
      "execution_count": null,
      "outputs": [
        {
          "output_type": "stream",
          "name": "stdout",
          "text": [
            "mela\n",
            "kiwi\n",
            "arancia\n"
          ]
        }
      ]
    },
    {
      "cell_type": "markdown",
      "source": [
        "\n",
        "\n",
        "---\n",
        "\n"
      ],
      "metadata": {
        "id": "1I406_TY9NYT"
      }
    },
    {
      "cell_type": "markdown",
      "source": [
        "**Esercizio 2**\n",
        "\n",
        "Scrivere un programma che utilizzi un loop for per stampare tutti i numeri da 1 a 10."
      ],
      "metadata": {
        "id": "y5XQXjGn9N2u"
      }
    },
    {
      "cell_type": "code",
      "source": [
        "lista = list(range(1, 11))\n",
        "\n",
        "for i in lista:\n",
        "  print(i)"
      ],
      "metadata": {
        "colab": {
          "base_uri": "https://localhost:8080/"
        },
        "id": "3CyDicad9M6P",
        "outputId": "3bf68760-63b4-4400-806f-c9aafc32bea0"
      },
      "execution_count": null,
      "outputs": [
        {
          "output_type": "stream",
          "name": "stdout",
          "text": [
            "1\n",
            "2\n",
            "3\n",
            "4\n",
            "5\n",
            "6\n",
            "7\n",
            "8\n",
            "9\n",
            "10\n"
          ]
        }
      ]
    },
    {
      "cell_type": "markdown",
      "source": [
        "\n",
        "\n",
        "---\n",
        "\n"
      ],
      "metadata": {
        "id": "Sgij1iMC-eGb"
      }
    },
    {
      "cell_type": "markdown",
      "source": [
        "Scrivere un programma che utilizzi un loop for per sommare tutti i numeri in una lista."
      ],
      "metadata": {
        "id": "iSltpae0-Fd_"
      }
    },
    {
      "cell_type": "code",
      "source": [
        "lista = list(range(1, 11))\n",
        "\n",
        "somma = 0\n",
        "\n",
        "for i in lista:\n",
        "  somma += i\n",
        "\n",
        "print(somma)"
      ],
      "metadata": {
        "colab": {
          "base_uri": "https://localhost:8080/"
        },
        "id": "s3-40OeA-Ebs",
        "outputId": "8a1694e6-c98e-4190-813a-c0d1fa727cf9"
      },
      "execution_count": null,
      "outputs": [
        {
          "output_type": "stream",
          "name": "stdout",
          "text": [
            "55\n"
          ]
        }
      ]
    },
    {
      "cell_type": "markdown",
      "source": [
        "**Esercizio 4**\n",
        "\n",
        "Scrivere un programma che utilizzi un loop for per stampare tutti i numeri pari da 1 a 20."
      ],
      "metadata": {
        "id": "qM_qRihy-cv0"
      }
    },
    {
      "cell_type": "code",
      "source": [
        "lista = list(range(2,21,2))\n",
        "\n",
        "for i in lista:\n",
        "  print(i)"
      ],
      "metadata": {
        "colab": {
          "base_uri": "https://localhost:8080/"
        },
        "id": "iOuQgqM6-jvI",
        "outputId": "35f99312-8087-47e5-a3d0-b3fa5426f8fe"
      },
      "execution_count": null,
      "outputs": [
        {
          "output_type": "stream",
          "name": "stdout",
          "text": [
            "2\n",
            "4\n",
            "6\n",
            "8\n",
            "10\n",
            "12\n",
            "14\n",
            "16\n",
            "18\n",
            "20\n"
          ]
        }
      ]
    },
    {
      "cell_type": "markdown",
      "source": [
        "**Esercizio 5**\n",
        "\n",
        "Scrivere un programma che utilizzi un loop for per stampare tutte le lettere di una stringa."
      ],
      "metadata": {
        "id": "rM2_SLuY-xp7"
      }
    },
    {
      "cell_type": "code",
      "source": [
        "stringa = \"Marco\"\n",
        "\n",
        "for i in stringa:\n",
        "  print(i)"
      ],
      "metadata": {
        "colab": {
          "base_uri": "https://localhost:8080/"
        },
        "id": "rMxhvOEC-z8W",
        "outputId": "ce2e876c-b122-405b-e6c3-6a0d9a4abc08"
      },
      "execution_count": null,
      "outputs": [
        {
          "output_type": "stream",
          "name": "stdout",
          "text": [
            "M\n",
            "a\n",
            "r\n",
            "c\n",
            "o\n"
          ]
        }
      ]
    },
    {
      "cell_type": "markdown",
      "source": [
        "\n",
        "\n",
        "---\n",
        "\n"
      ],
      "metadata": {
        "id": "LH_ZM_xt-8Mn"
      }
    },
    {
      "cell_type": "markdown",
      "source": [
        "**Esercizio 6**\n",
        "\n",
        "Scrivere un programma che utilizzi un loop for per stampare tutte le chiavi di un dizionario."
      ],
      "metadata": {
        "id": "kqjNPWU2-6Wl"
      }
    },
    {
      "cell_type": "code",
      "source": [
        "dizionario = {\"nome\": \"Marco\", \"cognome\": \"Rossi\"}\n",
        "\n",
        "chiavi = dizionario.keys()\n",
        "\n",
        "for i in chiavi:\n",
        "  print(i)"
      ],
      "metadata": {
        "colab": {
          "base_uri": "https://localhost:8080/"
        },
        "id": "EjnDESgM-81b",
        "outputId": "803a1d82-8def-42d8-94c5-7583a0de9f1e"
      },
      "execution_count": null,
      "outputs": [
        {
          "output_type": "stream",
          "name": "stdout",
          "text": [
            "nome\n",
            "cognome\n"
          ]
        }
      ]
    },
    {
      "cell_type": "markdown",
      "source": [
        "\n",
        "\n",
        "---\n",
        "\n"
      ],
      "metadata": {
        "id": "ujV5bLx1_9Jo"
      }
    },
    {
      "cell_type": "markdown",
      "source": [
        "**Esercizio 7**\n",
        "\n",
        "Scrivere un programma che utilizzi un loop for per stampare tutte le coppie chiave-valore di un dizionario."
      ],
      "metadata": {
        "id": "z0mwgptg_7pa"
      }
    },
    {
      "cell_type": "code",
      "source": [
        "dizionario = {\"nome\": \"Marco\", \"cognome\": \"Rossi\"}\n",
        "\n",
        "for chiave, valore in dizionario.items():\n",
        "  print(chiave,\":\" ,valore)"
      ],
      "metadata": {
        "colab": {
          "base_uri": "https://localhost:8080/"
        },
        "id": "FCfUMcGL_-lH",
        "outputId": "a1013a99-d4b3-4ea6-bccf-4630fa6eb2c5"
      },
      "execution_count": null,
      "outputs": [
        {
          "output_type": "stream",
          "name": "stdout",
          "text": [
            "nome : Marco\n",
            "cognome : Rossi\n"
          ]
        }
      ]
    },
    {
      "cell_type": "markdown",
      "source": [
        "\n",
        "\n",
        "---\n",
        "\n"
      ],
      "metadata": {
        "id": "r1DnaJqRAmoM"
      }
    },
    {
      "cell_type": "markdown",
      "source": [
        "**Esercizio 9**\n",
        "\n",
        "Scrivere un programma che utilizzi un loop for per contare quante volte una lettera compare in una stringa."
      ],
      "metadata": {
        "id": "aQszXAl8AnK2"
      }
    },
    {
      "cell_type": "code",
      "source": [
        "stringa = input(\"Inserisci la tua stringa:\")\n",
        "lettera = input(\"Inserisci la lettera da cercare:\")\n",
        "\n",
        "conta = 0\n",
        "\n",
        "for i in stringa:\n",
        "  if i == lettera:\n",
        "    conta += 1\n",
        "\n",
        "print(conta)"
      ],
      "metadata": {
        "colab": {
          "base_uri": "https://localhost:8080/"
        },
        "id": "ASCXwGyYApED",
        "outputId": "1b16ea32-f20f-44b4-8483-8be670b81a23"
      },
      "execution_count": null,
      "outputs": [
        {
          "output_type": "stream",
          "name": "stdout",
          "text": [
            "Inserisci la tua stringa:MARCOOOO\n",
            "Inserisci la lettera da cercare:O\n",
            "4\n"
          ]
        }
      ]
    },
    {
      "cell_type": "markdown",
      "source": [
        "\n",
        "\n",
        "---\n",
        "\n"
      ],
      "metadata": {
        "id": "QZybOd1rBT4K"
      }
    },
    {
      "cell_type": "markdown",
      "source": [
        "**Esercizio 10**\n",
        "\n",
        "Scrivere un programma che utilizzi un loop for per calcolare la media di una lista di numeri."
      ],
      "metadata": {
        "id": "MZb-qNWkBSfg"
      }
    },
    {
      "cell_type": "code",
      "source": [
        "lista = list(range(1,11))\n",
        "\n",
        "somma = 0\n",
        "\n",
        "for i in lista:\n",
        "  somma += i\n",
        "\n",
        "  media = somma/len(lista)\n",
        "\n",
        "print(media)"
      ],
      "metadata": {
        "colab": {
          "base_uri": "https://localhost:8080/"
        },
        "id": "8fLCTnJEBUcP",
        "outputId": "e019c1b1-951a-40cf-dd47-1e5a3c8dd1d7"
      },
      "execution_count": null,
      "outputs": [
        {
          "output_type": "stream",
          "name": "stdout",
          "text": [
            "0.1\n",
            "0.3\n",
            "0.6\n",
            "1.0\n",
            "1.5\n",
            "2.1\n",
            "2.8\n",
            "3.6\n",
            "4.5\n",
            "5.5\n"
          ]
        }
      ]
    }
  ]
}
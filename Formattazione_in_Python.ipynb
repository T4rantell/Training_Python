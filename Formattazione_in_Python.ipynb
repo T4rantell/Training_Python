{
  "nbformat": 4,
  "nbformat_minor": 0,
  "metadata": {
    "colab": {
      "provenance": [],
      "authorship_tag": "ABX9TyPeqtny+pFYfBQTzefxQ7N2",
      "include_colab_link": true
    },
    "kernelspec": {
      "name": "python3",
      "display_name": "Python 3"
    },
    "language_info": {
      "name": "python"
    }
  },
  "cells": [
    {
      "cell_type": "markdown",
      "metadata": {
        "id": "view-in-github",
        "colab_type": "text"
      },
      "source": [
        "<a href=\"https://colab.research.google.com/github/T4rantell/Training_Python/blob/main/Formattazione_in_Python.ipynb\" target=\"_parent\"><img src=\"https://colab.research.google.com/assets/colab-badge.svg\" alt=\"Open In Colab\"/></a>"
      ]
    },
    {
      "cell_type": "markdown",
      "source": [
        "##**Esercizi su Formattazione**"
      ],
      "metadata": {
        "id": "AAnFXjOPkSLV"
      }
    },
    {
      "cell_type": "markdown",
      "source": [
        "**Esercizio 21**\n",
        "\n",
        "Dichiarare due variabili \"numero1\" e \"numero2\" e assegnargli due numeri interi. Eseguire l'addizione tra le due variabili e assegnare il risultato ad una nuova variabile \"somma\", mandandola a schermo"
      ],
      "metadata": {
        "id": "eZhNOI3JE-BO"
      }
    },
    {
      "cell_type": "code",
      "source": [
        "a = int(input(\"Inserisci il primo numero: \"))\n",
        "b = int(input(\"Inserisci il secondo numero: \"))\n",
        "\n",
        "def somma (a, b):\n",
        "  return a + b\n",
        "\n",
        "print(\"la somma dei due numeri è: \", somma(a, b))"
      ],
      "metadata": {
        "id": "8N4areemFnTI"
      },
      "execution_count": null,
      "outputs": []
    },
    {
      "cell_type": "code",
      "source": [
        "somma = 0\n",
        "\n",
        "for i in range(0, 2):\n",
        "  numero = int(input(\"Inserisci un numero: \"))\n",
        "  somma += numero\n",
        "\n",
        "print(\"la somma dei numeri è: \", somma)"
      ],
      "metadata": {
        "id": "9FNeD88vIVfT"
      },
      "execution_count": null,
      "outputs": []
    },
    {
      "cell_type": "markdown",
      "source": [
        "\n",
        "\n",
        "---\n",
        "\n"
      ],
      "metadata": {
        "id": "7FLW1mskIubk"
      }
    },
    {
      "cell_type": "markdown",
      "source": [
        "**Esercizio 22**\n",
        "\n",
        "Sottrazione."
      ],
      "metadata": {
        "id": "9tGvfRGnIqUX"
      }
    },
    {
      "cell_type": "code",
      "source": [
        "a = int(input(\"Inserisci il primo numero: \"))\n",
        "b = int(input(\"Inserisci il secondo numero: \"))\n",
        "\n",
        "def differenza (a, b):\n",
        "  return a - b\n",
        "\n",
        "print(\"la differenza dei due numeri è: \", differenza(a, b))"
      ],
      "metadata": {
        "id": "Menyzu27Ipdx"
      },
      "execution_count": null,
      "outputs": []
    },
    {
      "cell_type": "markdown",
      "source": [
        "**Esercizio 23**\n",
        "\n",
        "Moltiplicazione."
      ],
      "metadata": {
        "id": "6arWg2WdJZuP"
      }
    },
    {
      "cell_type": "code",
      "source": [
        "a = int(input(\"Inserisci il primo numero: \"))\n",
        "b = int(input(\"Inserisci il secondo numero: \"))\n",
        "\n",
        "def moltiplicazione (a, b):\n",
        "  return a * b\n",
        "\n",
        "print(\"la moltiplicazione tra i due numeri è: \", moltiplicazione(a, b))"
      ],
      "metadata": {
        "id": "MhWAhH3LJgw6"
      },
      "execution_count": null,
      "outputs": []
    },
    {
      "cell_type": "markdown",
      "source": [
        "\n",
        "\n",
        "---\n",
        "\n"
      ],
      "metadata": {
        "id": "U157RW4zktBV"
      }
    },
    {
      "cell_type": "markdown",
      "source": [
        "**Esercizio 24**\n",
        "\n",
        "Divisione.\n"
      ],
      "metadata": {
        "id": "P8S0lsI6kuFf"
      }
    },
    {
      "cell_type": "code",
      "source": [
        "a = int(input(\"Inserisci il divisore: \"))\n",
        "b = int(input(\"Inserisci il dividendo: \"))\n",
        "\n",
        "def divisione (a, b):\n",
        "  return a / b\n",
        "\n",
        "print(\"la divisione tra i due numeri è: \", divisione(a, b))"
      ],
      "metadata": {
        "id": "Mt6lLZlqJ6Ma"
      },
      "execution_count": null,
      "outputs": []
    },
    {
      "cell_type": "markdown",
      "source": [
        "\n",
        "\n",
        "---\n",
        "\n"
      ],
      "metadata": {
        "id": "YI2_MKBZkwxf"
      }
    },
    {
      "cell_type": "markdown",
      "source": [
        "**Esercizio 25**\n",
        "\n",
        "Modulo."
      ],
      "metadata": {
        "id": "eBlkwkgPkxaD"
      }
    },
    {
      "cell_type": "code",
      "source": [
        "a = int(input(\"Inserisci il primo numero: \"))\n",
        "b = int(input(\"Inserisci il secondo numero: \"))\n",
        "\n",
        "def modulo (a, b):\n",
        "  return a % b\n",
        "\n",
        "print(\"il modulo tra i due numeri è: \", modulo(a, b))"
      ],
      "metadata": {
        "id": "5MdvZ7fwNAW-"
      },
      "execution_count": null,
      "outputs": []
    },
    {
      "cell_type": "markdown",
      "source": [
        "\n",
        "\n",
        "---\n",
        "\n"
      ],
      "metadata": {
        "id": "BwvHwH1HR8F4"
      }
    },
    {
      "cell_type": "markdown",
      "source": [
        "**Esercizio 26**\n",
        "\n",
        "Incrementare \"numero1\" di 1 e decrementare \"numero2\" di 3. Mandare a schermo i nuovi valori."
      ],
      "metadata": {
        "id": "HSi8ca_9Otb_"
      }
    },
    {
      "cell_type": "code",
      "source": [
        "a = int(input(\"Inserisci il primo numero: \"))\n",
        "b = int(input(\"Inserisci il secondo numero: \"))\n",
        "\n",
        "def modifica (a, b):\n",
        "  n1 = a + 1\n",
        "  n2 = b - 3\n",
        "  return (n1, n2)\n",
        "\n",
        "print(\"I due nuovi numeri sono: \", modifica(a, b))"
      ],
      "metadata": {
        "id": "wOw0Z48VOtAY"
      },
      "execution_count": null,
      "outputs": []
    },
    {
      "cell_type": "markdown",
      "source": [
        "\n",
        "\n",
        "---\n",
        "\n"
      ],
      "metadata": {
        "id": "J0QzY3MFk3gV"
      }
    },
    {
      "cell_type": "markdown",
      "source": [
        "**Esercizio 27**\n",
        "\n",
        "Moltiplicare \"numero1\" per se stesso + 5, sommarlo quindi a \"numero2\" elevato alla seconda. Assegnare l'operazione alla variabile risultato e mandare a schermo."
      ],
      "metadata": {
        "id": "FKR7r6uDSfNr"
      }
    },
    {
      "cell_type": "code",
      "source": [
        "a = int(input(\"Inserisci il primo numero: \"))\n",
        "b = int(input(\"Inserisci il secondo numero: \"))\n",
        "\n",
        "def modifica (a, b):\n",
        "  n1 = a*(a+5)\n",
        "  print(\"il primo numero è diventato: \", n1)\n",
        "  n2 = b**2\n",
        "  print(\"il secondo numero è diventato: \", n2)\n",
        "  n3 = n1 + n2\n",
        "  return (n3)\n",
        "\n",
        "print(\"La somma tra i due nuovi numeri è: \", modifica(a, b))"
      ],
      "metadata": {
        "id": "De9WUDtjSgpa"
      },
      "execution_count": null,
      "outputs": []
    },
    {
      "cell_type": "markdown",
      "source": [
        "\n",
        "\n",
        "---\n",
        "\n"
      ],
      "metadata": {
        "id": "gFBUb_VQR6bm"
      }
    },
    {
      "cell_type": "markdown",
      "source": [
        "\n",
        "\n",
        "---\n",
        "\n"
      ],
      "metadata": {
        "id": "bW4o_ksZvpFl"
      }
    },
    {
      "cell_type": "markdown",
      "source": [
        "**Esercizio 28**\n",
        "\n",
        "Assegnare una stringa \"Il meglio deve ancora venire\" ad una variabile \"stringa\" e utilizzare il metodo \"split()\" per dividere la stringa in una lista di parole."
      ],
      "metadata": {
        "id": "Q8COvpeWvpzi"
      }
    },
    {
      "cell_type": "code",
      "source": [
        "stringa = \"Il meglio, deve ancora venire\"\n",
        "singole_parole = stringa.split()\n",
        "#singole_parole = stringa.split(\",\") ci permette di separare in base alla \",\"\n",
        "\n",
        "print(singole_parole)"
      ],
      "metadata": {
        "id": "3QjVMw7WvwOQ"
      },
      "execution_count": null,
      "outputs": []
    },
    {
      "cell_type": "markdown",
      "source": [
        "**Esercizio 29**\n",
        "\n",
        "Assegnare una stringa \"Hello World\" ad una variabile \"stringa\" e utilizzare il metodo \"replace()\" per sostituire \"World\" con \"Python\"."
      ],
      "metadata": {
        "id": "j6MaXuAYww4a"
      }
    },
    {
      "cell_type": "code",
      "source": [
        "stringa = \"Hello World\"\n",
        "sostituto = input(\"Inserisci la parola sostituto per World: \")\n",
        "stringa = stringa.replace(\"World\", sostituto)\n",
        "print(stringa)"
      ],
      "metadata": {
        "id": "7_PiMzdTw0jJ"
      },
      "execution_count": null,
      "outputs": []
    },
    {
      "cell_type": "markdown",
      "source": [
        "\n",
        "\n",
        "---\n",
        "\n"
      ],
      "metadata": {
        "id": "MVBTJi8lxU11"
      }
    },
    {
      "cell_type": "markdown",
      "source": [
        "**Esercizio 30**\n",
        "\n",
        "Assegnare una stringa \"abcdefg\" ad una variabile \"stringa\" ed estrarre i primi tre caratteri."
      ],
      "metadata": {
        "id": "9ZZFNdluxUbh"
      }
    },
    {
      "cell_type": "code",
      "source": [
        "stringa = \"abcdefg\"\n",
        "stringa2 = stringa[0:3:1] # 0 indica l'indice dal quale partire, 3 (<3) l'indice al quale fermarsi nella lettura, \"1\" indica la dimensione degli step\n",
        "print(stringa2)\n",
        "stringa3 = stringa[0:6:1] # 0 indica l'indice dal quale partire, 6 (<6) l'indice al quale fermarsi nella lettura, \"1\" indica la dimensione degli step\n",
        "print(stringa3)\n",
        "stringa4 = stringa[0:3:2] # 0 indica l'indice dal quale partire, 3 (<3) l'indice al quale fermarsi nella lettura, \"2\" indica la dimensione degli step\n",
        "print(stringa4)\n",
        "stringa5 = stringa[1:6:3] # 1 indica l'indice dal quale partire, 6 (<6) l'indice al quale fermarsi nella lettura, \"3\" indica la dimensione degli step\n",
        "print(stringa5)\n"
      ],
      "metadata": {
        "id": "ceuUcUOKxeTr"
      },
      "execution_count": null,
      "outputs": []
    },
    {
      "cell_type": "markdown",
      "source": [
        "\n",
        "\n",
        "---\n",
        "\n"
      ],
      "metadata": {
        "id": "AvLqh7h82h_i"
      }
    },
    {
      "cell_type": "markdown",
      "source": [
        "**Esercizio 8**\n",
        "\n",
        "Assegnare una stringa \"Ciao mondo\" ad una variabile \"stringa\" e utilizzare il metodo count() per contare il numero di volte in cui la lettera \"o\" appare nella stringa."
      ],
      "metadata": {
        "id": "v7TrdaHf2ihD"
      }
    },
    {
      "cell_type": "code",
      "source": [
        "stringa = \"ciao mondo\"\n",
        "count = stringa.count(\"o\")\n",
        "\n",
        "print(\"Sono presenti il seguente numero di o: \", count)"
      ],
      "metadata": {
        "id": "zCZiHqpE2krJ"
      },
      "execution_count": null,
      "outputs": []
    },
    {
      "cell_type": "markdown",
      "source": [
        "\n",
        "\n",
        "---\n",
        "\n"
      ],
      "metadata": {
        "id": "IngYOA9c28-L"
      }
    },
    {
      "cell_type": "markdown",
      "source": [
        "**Esercizio 31**\n",
        "\n",
        "Assegnare una stringa \"Ciao mondo\" ad una variabile \"stringa\". Mandare quindi a schermo gli ultimi 5 caratteri della stringa in maiuscolo, sostituendo il carattere \"o\" con \"k\"."
      ],
      "metadata": {
        "id": "gCJQhTIB2AQM"
      }
    },
    {
      "cell_type": "code",
      "source": [
        "stringa = \"ciao mondo\"\n",
        "stringa2 = stringa[-5:].upper().replace(\"O\", \"K\")\n",
        "\n",
        "print(stringa2)"
      ],
      "metadata": {
        "id": "EHNiAXPh2Bfm"
      },
      "execution_count": null,
      "outputs": []
    },
    {
      "cell_type": "markdown",
      "source": [
        "\n",
        "\n",
        "---\n",
        "\n"
      ],
      "metadata": {
        "id": "iEDV2x6p3oLY"
      }
    },
    {
      "cell_type": "markdown",
      "source": [
        "**Esercizio 32**\n",
        "\n",
        "Assegnare una stringa \" Ciao \" ad una variabile \"stringa\" e utilizzare il metodo strip() per rimuovere gli spazi vuoti all'inizio e alla fine della stringa.."
      ],
      "metadata": {
        "id": "eurtbywI3nmR"
      }
    },
    {
      "cell_type": "code",
      "source": [
        "stringa = \" Ciao \"\n",
        "stringa2 = stringa.strip()\n",
        "print(\"La tua stringa strippata degli spazi: \", stringa2)"
      ],
      "metadata": {
        "id": "Cwzg7bJq3m8R"
      },
      "execution_count": null,
      "outputs": []
    },
    {
      "cell_type": "markdown",
      "source": [
        "\n",
        "\n",
        "---\n",
        "\n"
      ],
      "metadata": {
        "id": "TXNNXfEm2-hu"
      }
    },
    {
      "cell_type": "markdown",
      "source": [
        "**Esercizio 33**\n",
        "\n",
        "Assegnare una stringa \"Python\" ad una variabile \"stringa\" e utilizzare il metodo startswith() per verificare se la stringa inizia con \"Py\"."
      ],
      "metadata": {
        "id": "ExbHDREX4IMV"
      }
    },
    {
      "cell_type": "code",
      "source": [
        "stringa = \"Python\"\n",
        "stringa2 = stringa.startswith(\"Py\")\n",
        "\n",
        "print(\"La stringa inizia con Py: \", stringa2)"
      ],
      "metadata": {
        "id": "VW78Trcd4KSb"
      },
      "execution_count": null,
      "outputs": []
    },
    {
      "cell_type": "markdown",
      "source": [
        "\n",
        "\n",
        "---\n",
        "\n"
      ],
      "metadata": {
        "id": "66ca5iGX4yUt"
      }
    },
    {
      "cell_type": "markdown",
      "source": [
        "**Esercizio 34**\n",
        "\n",
        "Utilizzare la formattazione delle stringhe per ottenere \"Il numero è: 42\".\n"
      ],
      "metadata": {
        "id": "-DOvXQYH4xYJ"
      }
    },
    {
      "cell_type": "code",
      "source": [
        "numero = 42\n",
        "\n",
        "stringa = \"Il numero è: {}\".format(numero)\n",
        "print(\"Il numero è: {}\".format(numero))\n",
        "print(stringa)\n",
        "\n",
        "\n",
        "numero2 = 235782\n",
        "\n",
        "stringa2 = f\"Il numero è: {numero2}\"\n",
        "print(f\"il numero è: {numero2}\")\n",
        "print(stringa2)"
      ],
      "metadata": {
        "id": "14BFMPxb440Q"
      },
      "execution_count": null,
      "outputs": []
    },
    {
      "cell_type": "markdown",
      "source": [
        "\n",
        "\n",
        "---\n",
        "\n"
      ],
      "metadata": {
        "id": "AfwdIAix535u"
      }
    },
    {
      "cell_type": "markdown",
      "source": [
        "**Esercizio 35**\n",
        "\n",
        "Utilizzare la formattazione delle stringhe per ottenere \"Il numero binario di 42 è 0b101010\". Per il binario utilizzare bin(numero)"
      ],
      "metadata": {
        "id": "OsaBadmR541q"
      }
    },
    {
      "cell_type": "code",
      "source": [
        "numero = 42\n",
        "\n",
        "stringa = \"il numero 42 in binario è: {}\".format(bin(numero))\n",
        "print(stringa)\n",
        "\n",
        "stringa2 = f\"il numero 42 in binario è: {bin(numero)}\"\n",
        "print(stringa2)"
      ],
      "metadata": {
        "id": "CVAhrBm86AM4"
      },
      "execution_count": null,
      "outputs": []
    },
    {
      "cell_type": "markdown",
      "source": [
        "\n",
        "\n",
        "---\n",
        "\n"
      ],
      "metadata": {
        "id": "yfwrAaLq6xtm"
      }
    },
    {
      "cell_type": "markdown",
      "source": [
        "**Esercizio 36**\n",
        "\n",
        "Partendo dalla variabile \"numero\" uguale a 5, utilizzare le f-strings (interpolazione) per ottenere \"Il quadrato di 5 è 25\""
      ],
      "metadata": {
        "id": "WvO87POX679a"
      }
    },
    {
      "cell_type": "code",
      "source": [
        "import math\n",
        "\n",
        "numero = 5\n",
        "\n",
        "print(\"Il quadrato di: \", numero, \" è \", (numero**2))\n",
        "\n",
        "print(f\"\\nIl quadrato di: {numero} è {numero**2}\")\n",
        "\n",
        "print(f\"\\nUsando math.pow, il quadrato di {numero} è {math.pow(numero, 2)}\")\n",
        "\n",
        "print(f\"\\nUsando math.pow, e traformando il numero in un intero,il quadrato di {numero} è {int(math.pow(numero, 2))}\")"
      ],
      "metadata": {
        "id": "wBcDJEgv7AO_"
      },
      "execution_count": null,
      "outputs": []
    },
    {
      "cell_type": "markdown",
      "source": [
        "\n",
        "\n",
        "---\n",
        "\n"
      ],
      "metadata": {
        "id": "Ai3FdDm-8oqP"
      }
    },
    {
      "cell_type": "markdown",
      "source": [
        "**Esercizio 37**\n",
        "\n",
        "Partendo da \"nome\" e \"cognome\" utilizzare la formattazione strighe per ottenere \"Il mio nome è {nome} ed il cognome è {cognome}\". Come da esempio dovete fare riferimento al nome delle variabili e non alla posizione usata dentro format.\n",
        "\n"
      ],
      "metadata": {
        "id": "AzcDurD18pPM"
      }
    },
    {
      "cell_type": "code",
      "source": [
        "nome = \"Marco\"\n",
        "cognome = \"Montella\"\n",
        "\n",
        "print(f\"Il mio nome è {nome} ed il cognome {cognome}\")"
      ],
      "metadata": {
        "id": "-eqe1Vex8tTH"
      },
      "execution_count": null,
      "outputs": []
    },
    {
      "cell_type": "markdown",
      "source": [
        "\n",
        "\n",
        "---\n",
        "\n"
      ],
      "metadata": {
        "id": "U0r8mZIZB9Cj"
      }
    },
    {
      "cell_type": "markdown",
      "source": [
        "**Esercizio 38**\n",
        "\n",
        "Facendo riferimento all'esercizio precedente ottenere il seguente risultato modificando i valori nel format(): \"Il mio nome è LUCA ed il cognome è RoKKi\""
      ],
      "metadata": {
        "id": "FQ29hLYNBuqO"
      }
    },
    {
      "cell_type": "code",
      "source": [
        "nome = \"Luca\"\n",
        "cognome = \"Roi\"\n",
        "\n",
        "print(f\"Il mio nome è {nome.upper()} ed il congome è {cognome.replace('s', 'K')}\")"
      ],
      "metadata": {
        "id": "TH8xt_qfB9io"
      },
      "execution_count": null,
      "outputs": []
    },
    {
      "cell_type": "markdown",
      "source": [
        "**Esercizio 39**\n",
        "\n",
        "Creare una lista vuota assegnarla a una variabile e stamparla.\n",
        "\n"
      ],
      "metadata": {
        "id": "X_617qlRDj9q"
      }
    },
    {
      "cell_type": "code",
      "source": [
        "lista = []\n",
        "variabile = lista\n",
        "print(variabile)"
      ],
      "metadata": {
        "id": "IBRMycw0DnMW"
      },
      "execution_count": null,
      "outputs": []
    },
    {
      "cell_type": "markdown",
      "source": [
        "\n",
        "\n",
        "---\n",
        "\n"
      ],
      "metadata": {
        "id": "T6azCAFlDa51"
      }
    },
    {
      "cell_type": "markdown",
      "source": [
        "**Esercizio 40**\n",
        "\n",
        "Creare una lista di numeri interi da 1 a 5 e assegnarla a una variabile e stamparla."
      ],
      "metadata": {
        "id": "8uWGk4ZrEYX0"
      }
    },
    {
      "cell_type": "code",
      "source": [
        "lista = list(range(1, 6))\n",
        "variabile = lista\n",
        "print(variabile)\n",
        "\n",
        "#Accedere all'elemento con indice 2 della lista precedente.\n",
        "\n",
        "print(\"\\nL'elemento con indice 2 della lista è: \", lista[2])\n",
        "\n",
        "#Aggiungere un nuovo elemento \"6\" alla lista precedente.\n",
        "\n",
        "lista.append(6)\n",
        "variabile = lista\n",
        "print(\"\\nLa lista aggiornata è: \", variabile)\n",
        "\n",
        "#Rimuovere elementi con indice 3 e 4 dalla lista precedente.\n",
        "\n",
        "print(\"\\nRimuovo l'elemento con indice 3 con pop()..\")\n",
        "lista.pop(3)\n",
        "variabile = lista\n",
        "print(\" - La lista aggiornata è: \", variabile)\n",
        "\n",
        "\n",
        "print(\"\\nRimuovo l'elemento con indice 4 con del..\")\n",
        "del lista[4]\n",
        "variabile = lista\n",
        "print(\" - La lista aggiornata è: \", variabile)\n",
        "\n",
        "#Creare una nuova lista che contenga solo i primi tre elementi della lista precedente.\n",
        "\n",
        "lista2 = lista[0:3:1]\n",
        "variabile = lista2\n",
        "print(\"\\nLa nuova lista2 è: \", variabile)"
      ],
      "metadata": {
        "id": "ammOvWIaEcLr"
      },
      "execution_count": null,
      "outputs": []
    },
    {
      "cell_type": "markdown",
      "source": [],
      "metadata": {
        "id": "TE7PbKmeFHrk"
      }
    },
    {
      "cell_type": "code",
      "source": [
        "#Creare una nuova lista che contenga gli elementi con indici dispari della lista precedente\n",
        "\n",
        "input_i= int(input(\"Inserisci la lunghezza dell'array: \"))\n",
        "\n",
        "lista1 = list(range(1,input_i + 1))\n",
        "print(lista1)\n",
        "\n",
        "lista2 = lista1\n",
        "\n",
        "for i in range(len(lista2)):\n",
        "  if i % 2 == 1:\n",
        "      lista2.pop(i)\n",
        "\n",
        "variabile = lista2\n",
        "print(\"La nuova lista: \", variabile)"
      ],
      "metadata": {
        "id": "XBRZTDF3IoIN"
      },
      "execution_count": null,
      "outputs": []
    },
    {
      "cell_type": "code",
      "source": [
        "# Chiede all'utente la lunghezza della lista\n",
        "input_i = int(input(\"Inserisci la lunghezza dell'array: \"))\n",
        "\n",
        "# Creiamo una lista da 1 fino a input_i\n",
        "lista = list(range(1, input_i + 1))  # +1 per includere input_i\n",
        "print(\"Lista originale:\", lista)\n",
        "\n",
        "# Creiamo una nuova lista con gli elementi di indice dispari\n",
        "nuova_lista = [lista[i] for i in range(len(lista)) if i % 2 == 1]\n",
        "\n",
        "# Stampiamo il risultato\n",
        "print(\"La nuova lista con indici dispari:\", nuova_lista)\n",
        "\n",
        "\n",
        "print(f\"il numero 2 appare {lista.count(2)} volte\")"
      ],
      "metadata": {
        "id": "Eg1xNJeVMCaH"
      },
      "execution_count": null,
      "outputs": []
    }
  ]
}
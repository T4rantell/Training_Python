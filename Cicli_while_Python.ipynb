{
  "nbformat": 4,
  "nbformat_minor": 0,
  "metadata": {
    "colab": {
      "provenance": [],
      "authorship_tag": "ABX9TyM95QxOKuuniMxK3U5ZkZ1J",
      "include_colab_link": true
    },
    "kernelspec": {
      "name": "python3",
      "display_name": "Python 3"
    },
    "language_info": {
      "name": "python"
    }
  },
  "cells": [
    {
      "cell_type": "markdown",
      "metadata": {
        "id": "view-in-github",
        "colab_type": "text"
      },
      "source": [
        "<a href=\"https://colab.research.google.com/github/T4rantell/Training_Python/blob/main/Cicli_while_Python.ipynb\" target=\"_parent\"><img src=\"https://colab.research.google.com/assets/colab-badge.svg\" alt=\"Open In Colab\"/></a>"
      ]
    },
    {
      "cell_type": "markdown",
      "source": [
        "**Esercizio 1**\n",
        "\n",
        "Stampare i numeri interi da 1 a 10 usando un loop while."
      ],
      "metadata": {
        "id": "RHpw_IpGKSjw"
      }
    },
    {
      "cell_type": "code",
      "execution_count": null,
      "metadata": {
        "id": "zsi02pvcJ2nC"
      },
      "outputs": [],
      "source": [
        "numero = 1\n",
        "\n",
        "while numero <= 10:\n",
        "print(numero)\n",
        "numero += 1"
      ]
    },
    {
      "cell_type": "markdown",
      "source": [
        "\n",
        "\n",
        "---\n",
        "\n"
      ],
      "metadata": {
        "id": "fihJ_w6RKdcW"
      }
    },
    {
      "cell_type": "markdown",
      "source": [
        "**Esercizio 2**\n",
        "\n",
        "Calcolare la somma dei primi n numeri interi positivi usando un loop while. L'utente deve inserire il valore di n."
      ],
      "metadata": {
        "id": "dx8MRpxqKckj"
      }
    },
    {
      "cell_type": "code",
      "source": [
        "n = int(input(\"Inserisci n: \"))\n",
        "\n",
        "somma = 0\n",
        "\n",
        "i = 1\n",
        "\n",
        "while i <= n:\n",
        "  somma += i\n",
        "  i += 1\n",
        "print(f\"La somma dei primi {n} numeri interi è: {somma} \")"
      ],
      "metadata": {
        "colab": {
          "base_uri": "https://localhost:8080/"
        },
        "id": "vWrTmuPtKie3",
        "outputId": "020afc25-4a9d-4362-bb82-aa0a106a9d51"
      },
      "execution_count": 5,
      "outputs": [
        {
          "output_type": "stream",
          "name": "stdout",
          "text": [
            "Inserisci n: 2\n",
            "La somma dei primi 2 numeri interi è: 3 \n"
          ]
        }
      ]
    },
    {
      "cell_type": "markdown",
      "source": [
        "\n",
        "\n",
        "---\n",
        "\n"
      ],
      "metadata": {
        "id": "P3lAlMx9KgVq"
      }
    },
    {
      "cell_type": "markdown",
      "source": [
        "**Esercizio 3**\n",
        "\n",
        "Stampare i numeri pari da 2 a 10 usando un loop while."
      ],
      "metadata": {
        "id": "vl28hVG1NOSW"
      }
    },
    {
      "cell_type": "code",
      "source": [
        "numero = 0\n",
        "\n",
        "while numero <= 10:\n",
        "  if numero % 2 == 0:\n",
        "    print(numero)\n",
        "  numero+=1"
      ],
      "metadata": {
        "colab": {
          "base_uri": "https://localhost:8080/"
        },
        "id": "2fPkze18Kiq6",
        "outputId": "a52f3ffe-a79a-40e7-decb-1455ceca77e4"
      },
      "execution_count": 10,
      "outputs": [
        {
          "output_type": "stream",
          "name": "stdout",
          "text": [
            "0\n",
            "2\n",
            "4\n",
            "6\n",
            "8\n",
            "10\n"
          ]
        }
      ]
    },
    {
      "cell_type": "markdown",
      "source": [
        "\n",
        "\n",
        "---\n",
        "\n"
      ],
      "metadata": {
        "id": "wZZfZPYlOEoA"
      }
    },
    {
      "cell_type": "markdown",
      "source": [
        "**Esercizio 4**\n",
        "\n",
        "Chiedere all'utente di indovinare un numero intero casuale compreso tra 1 e 10. Continuare a chiedere all'utente di indovinare finché non indovina il numero corretto. Usare un loop while."
      ],
      "metadata": {
        "id": "_TqRbR0GP0D-"
      }
    },
    {
      "cell_type": "code",
      "source": [
        "import random\n",
        "\n",
        "secret = random.randint(1,10)\n",
        "\n",
        "\n",
        "\n",
        "def indovina():\n",
        "\n",
        "  numero = 0\n",
        "\n",
        "  while numero != secret:\n",
        "\n",
        "    numero = int(input(\"Inserisci il numero fortunato: \"))\n",
        "    print(\"Il numero scelto non è quello fortunato!, Riprova!\")\n",
        "\n",
        "  else:\n",
        "    print(\"Bravo! Hai indovinato il numero fortunato!\")\n",
        "\n",
        "indovina()\n",
        "\n"
      ],
      "metadata": {
        "colab": {
          "base_uri": "https://localhost:8080/",
          "height": 339
        },
        "id": "Qxm08NOVP3oX",
        "outputId": "5b88fba3-367f-4860-c446-ba07b6975ea7"
      },
      "execution_count": 16,
      "outputs": [
        {
          "output_type": "error",
          "ename": "KeyboardInterrupt",
          "evalue": "Interrupted by user",
          "traceback": [
            "\u001b[0;31m---------------------------------------------------------------------------\u001b[0m",
            "\u001b[0;31mKeyboardInterrupt\u001b[0m                         Traceback (most recent call last)",
            "\u001b[0;32m<ipython-input-16-9d1ca25e59c9>\u001b[0m in \u001b[0;36m<cell line: 0>\u001b[0;34m()\u001b[0m\n\u001b[1;32m     17\u001b[0m     \u001b[0mprint\u001b[0m\u001b[0;34m(\u001b[0m\u001b[0;34m\"Bravo! Hai indovinato il numero fortunato!\"\u001b[0m\u001b[0;34m)\u001b[0m\u001b[0;34m\u001b[0m\u001b[0;34m\u001b[0m\u001b[0m\n\u001b[1;32m     18\u001b[0m \u001b[0;34m\u001b[0m\u001b[0m\n\u001b[0;32m---> 19\u001b[0;31m \u001b[0mindovina\u001b[0m\u001b[0;34m(\u001b[0m\u001b[0;34m)\u001b[0m\u001b[0;34m\u001b[0m\u001b[0;34m\u001b[0m\u001b[0m\n\u001b[0m\u001b[1;32m     20\u001b[0m \u001b[0;34m\u001b[0m\u001b[0m\n",
            "\u001b[0;32m<ipython-input-16-9d1ca25e59c9>\u001b[0m in \u001b[0;36mindovina\u001b[0;34m()\u001b[0m\n\u001b[1;32m     11\u001b[0m   \u001b[0;32mwhile\u001b[0m \u001b[0mnumero\u001b[0m \u001b[0;34m!=\u001b[0m \u001b[0msecret\u001b[0m\u001b[0;34m:\u001b[0m\u001b[0;34m\u001b[0m\u001b[0;34m\u001b[0m\u001b[0m\n\u001b[1;32m     12\u001b[0m \u001b[0;34m\u001b[0m\u001b[0m\n\u001b[0;32m---> 13\u001b[0;31m     \u001b[0mnumero\u001b[0m \u001b[0;34m=\u001b[0m \u001b[0mint\u001b[0m\u001b[0;34m(\u001b[0m\u001b[0minput\u001b[0m\u001b[0;34m(\u001b[0m\u001b[0;34m\"Inserisci il numero fortunato: \"\u001b[0m\u001b[0;34m)\u001b[0m\u001b[0;34m)\u001b[0m\u001b[0;34m\u001b[0m\u001b[0;34m\u001b[0m\u001b[0m\n\u001b[0m\u001b[1;32m     14\u001b[0m     \u001b[0mprint\u001b[0m\u001b[0;34m(\u001b[0m\u001b[0;34m\"Il numero scelto non è quello fortunato!, Riprova!\"\u001b[0m\u001b[0;34m)\u001b[0m\u001b[0;34m\u001b[0m\u001b[0;34m\u001b[0m\u001b[0m\n\u001b[1;32m     15\u001b[0m \u001b[0;34m\u001b[0m\u001b[0m\n",
            "\u001b[0;32m/usr/local/lib/python3.11/dist-packages/ipykernel/kernelbase.py\u001b[0m in \u001b[0;36mraw_input\u001b[0;34m(self, prompt)\u001b[0m\n\u001b[1;32m   1175\u001b[0m                 \u001b[0;34m\"raw_input was called, but this frontend does not support input requests.\"\u001b[0m\u001b[0;34m\u001b[0m\u001b[0;34m\u001b[0m\u001b[0m\n\u001b[1;32m   1176\u001b[0m             )\n\u001b[0;32m-> 1177\u001b[0;31m         return self._input_request(\n\u001b[0m\u001b[1;32m   1178\u001b[0m             \u001b[0mstr\u001b[0m\u001b[0;34m(\u001b[0m\u001b[0mprompt\u001b[0m\u001b[0;34m)\u001b[0m\u001b[0;34m,\u001b[0m\u001b[0;34m\u001b[0m\u001b[0;34m\u001b[0m\u001b[0m\n\u001b[1;32m   1179\u001b[0m             \u001b[0mself\u001b[0m\u001b[0;34m.\u001b[0m\u001b[0m_parent_ident\u001b[0m\u001b[0;34m[\u001b[0m\u001b[0;34m\"shell\"\u001b[0m\u001b[0;34m]\u001b[0m\u001b[0;34m,\u001b[0m\u001b[0;34m\u001b[0m\u001b[0;34m\u001b[0m\u001b[0m\n",
            "\u001b[0;32m/usr/local/lib/python3.11/dist-packages/ipykernel/kernelbase.py\u001b[0m in \u001b[0;36m_input_request\u001b[0;34m(self, prompt, ident, parent, password)\u001b[0m\n\u001b[1;32m   1217\u001b[0m             \u001b[0;32mexcept\u001b[0m \u001b[0mKeyboardInterrupt\u001b[0m\u001b[0;34m:\u001b[0m\u001b[0;34m\u001b[0m\u001b[0;34m\u001b[0m\u001b[0m\n\u001b[1;32m   1218\u001b[0m                 \u001b[0;31m# re-raise KeyboardInterrupt, to truncate traceback\u001b[0m\u001b[0;34m\u001b[0m\u001b[0;34m\u001b[0m\u001b[0m\n\u001b[0;32m-> 1219\u001b[0;31m                 \u001b[0;32mraise\u001b[0m \u001b[0mKeyboardInterrupt\u001b[0m\u001b[0;34m(\u001b[0m\u001b[0;34m\"Interrupted by user\"\u001b[0m\u001b[0;34m)\u001b[0m \u001b[0;32mfrom\u001b[0m \u001b[0;32mNone\u001b[0m\u001b[0;34m\u001b[0m\u001b[0;34m\u001b[0m\u001b[0m\n\u001b[0m\u001b[1;32m   1220\u001b[0m             \u001b[0;32mexcept\u001b[0m \u001b[0mException\u001b[0m\u001b[0;34m:\u001b[0m\u001b[0;34m\u001b[0m\u001b[0;34m\u001b[0m\u001b[0m\n\u001b[1;32m   1221\u001b[0m                 \u001b[0mself\u001b[0m\u001b[0;34m.\u001b[0m\u001b[0mlog\u001b[0m\u001b[0;34m.\u001b[0m\u001b[0mwarning\u001b[0m\u001b[0;34m(\u001b[0m\u001b[0;34m\"Invalid Message:\"\u001b[0m\u001b[0;34m,\u001b[0m \u001b[0mexc_info\u001b[0m\u001b[0;34m=\u001b[0m\u001b[0;32mTrue\u001b[0m\u001b[0;34m)\u001b[0m\u001b[0;34m\u001b[0m\u001b[0;34m\u001b[0m\u001b[0m\n",
            "\u001b[0;31mKeyboardInterrupt\u001b[0m: Interrupted by user"
          ]
        }
      ]
    },
    {
      "cell_type": "code",
      "source": [
        "import random\n",
        "\n",
        "numero_casuale = random.randint(1, 10)\n",
        "indovinato = False\n",
        "\n",
        "while not indovinato:\n",
        "  try:\n",
        "    numero_utente = int(input(\"Indovina un numero tra 1 e 10: \"))\n",
        "\n",
        "  if numero_utente == numero_casuale:\n",
        "    print(\"Complimenti! Hai indovinato il numero!\")\n",
        "    indovinato = True\n",
        "  else:\n",
        "    print(\"Numero sbagliato. Riprova!\")\n",
        "  except ValueError:\n",
        "    print(\"Per favore, inserisci un numero intero valido.\")"
      ],
      "metadata": {
        "colab": {
          "base_uri": "https://localhost:8080/",
          "height": 106
        },
        "id": "WKnILY-DRoaR",
        "outputId": "1e747fc6-451e-4f6b-a847-d8eeb04e32aa"
      },
      "execution_count": 17,
      "outputs": [
        {
          "output_type": "error",
          "ename": "SyntaxError",
          "evalue": "expected 'except' or 'finally' block (<ipython-input-17-e5ac43546d50>, line 10)",
          "traceback": [
            "\u001b[0;36m  File \u001b[0;32m\"<ipython-input-17-e5ac43546d50>\"\u001b[0;36m, line \u001b[0;32m10\u001b[0m\n\u001b[0;31m    if numero_utente == numero_casuale:\u001b[0m\n\u001b[0m    ^\u001b[0m\n\u001b[0;31mSyntaxError\u001b[0m\u001b[0;31m:\u001b[0m expected 'except' or 'finally' block\n"
          ]
        }
      ]
    },
    {
      "cell_type": "markdown",
      "source": [
        "\n",
        "\n",
        "---\n",
        "\n"
      ],
      "metadata": {
        "id": "-naq1dPMUCJU"
      }
    },
    {
      "cell_type": "markdown",
      "source": [
        "**Esercizio 5**\n",
        "\n",
        "Chiedere all'utente di inserire una stringa. Stampare la stringa al contrario usando un loop while."
      ],
      "metadata": {
        "id": "F-tn2pfST-2i"
      }
    },
    {
      "cell_type": "code",
      "source": [
        "stringa = input(\"Inserisci una stringa: \")\n",
        "\n",
        "stringa_invertita = \"\"\n",
        "indice = len(stringa) - 1\n",
        "\n",
        "while indice >= 0:\n",
        "  stringa_invertita += stringa[indice]\n",
        "  indice -= 1\n",
        "\n",
        "print(\"La stringa al contrario è:\", stringa_invertita)"
      ],
      "metadata": {
        "colab": {
          "base_uri": "https://localhost:8080/"
        },
        "id": "T1YBEkrIUC5s",
        "outputId": "5cead916-9eff-497f-ec21-707a16344614"
      },
      "execution_count": 18,
      "outputs": [
        {
          "output_type": "stream",
          "name": "stdout",
          "text": [
            "Inserisci una stringa: marco\n",
            "La stringa al contrario è: ocram\n"
          ]
        }
      ]
    },
    {
      "cell_type": "markdown",
      "source": [
        "**Esercizio 6**\n",
        "\n",
        "Stampare i numeri da 10 a 1 usando un loop while."
      ],
      "metadata": {
        "id": "qeREYBnDWq8e"
      }
    },
    {
      "cell_type": "code",
      "source": [
        "numero = 10\n",
        "\n",
        "while numero >= 1:\n",
        "    print(numero)\n",
        "    numero -= 1  # Decrementa il numero ad ogni iterazione"
      ],
      "metadata": {
        "colab": {
          "base_uri": "https://localhost:8080/"
        },
        "id": "u2Hk93-OWqby",
        "outputId": "ac946b2f-9766-443d-b15b-ef040af55270"
      },
      "execution_count": 19,
      "outputs": [
        {
          "output_type": "stream",
          "name": "stdout",
          "text": [
            "10\n",
            "9\n",
            "8\n",
            "7\n",
            "6\n",
            "5\n",
            "4\n",
            "3\n",
            "2\n",
            "1\n"
          ]
        }
      ]
    },
    {
      "cell_type": "markdown",
      "source": [
        "\n",
        "\n",
        "---\n",
        "\n"
      ],
      "metadata": {
        "id": "5cSN1kswWxL-"
      }
    },
    {
      "cell_type": "markdown",
      "source": [
        "**Esercizio 7**\n",
        "\n",
        "Calcolare il fattoriale di un numero intero positivo n usando un loop while."
      ],
      "metadata": {
        "id": "BFak7mGYWwnU"
      }
    },
    {
      "cell_type": "code",
      "source": [
        "numero = 10\n",
        "\n",
        "fattoriale = 1\n",
        "\n",
        "while numero > 0:\n",
        "\n",
        "  fattoriale *= numero\n",
        "  numero -= 1\n",
        "\n",
        "print(\"Il fattoriale è: \", fattoriale)"
      ],
      "metadata": {
        "colab": {
          "base_uri": "https://localhost:8080/"
        },
        "id": "ojHKhkLMW1RQ",
        "outputId": "dfb23884-1790-447a-dab7-84528c2135a7"
      },
      "execution_count": 20,
      "outputs": [
        {
          "output_type": "stream",
          "name": "stdout",
          "text": [
            "Il fattoriale è:  3628800\n"
          ]
        }
      ]
    },
    {
      "cell_type": "code",
      "source": [
        "n = int(input(\"Inserisci un numero intero positivo: \"))\n",
        "\n",
        "\n",
        "def fattoriale_ricorsivo(n):\n",
        "  if n == 1 or n == 0:\n",
        "    return 1\n",
        "  else:\n",
        "    return n * fattoriale_ricorsivo(n-1)\n",
        "  print(\"Calcolo del fattoriale calcolato ricorsivamente: \", fattoriale_ricorsivo(n))\n",
        "\n",
        "\n",
        "fattoriale_ricorsivo(n)"
      ],
      "metadata": {
        "colab": {
          "base_uri": "https://localhost:8080/"
        },
        "id": "COJZuW1_Y-Pz",
        "outputId": "ab52c968-bb64-4dc8-8f66-8f9ec9385b57"
      },
      "execution_count": null,
      "outputs": [
        {
          "name": "stdout",
          "output_type": "stream",
          "text": [
            "Inserisci un numero intero positivo: 13124242\n"
          ]
        },
        {
          "output_type": "stream",
          "name": "stderr",
          "text": [
            "ERROR:root:Internal Python error in the inspect module.\n",
            "Below is the traceback from this internal error.\n",
            "\n"
          ]
        }
      ]
    },
    {
      "cell_type": "markdown",
      "source": [
        "\n",
        "\n",
        "---\n",
        "\n"
      ],
      "metadata": {
        "id": "3znINYd5XXhb"
      }
    }
  ]
}